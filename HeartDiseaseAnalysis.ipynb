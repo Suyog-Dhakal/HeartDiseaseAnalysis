{
 "cells": [
  {
   "cell_type": "markdown",
   "id": "49ff9cac-4c45-4d99-9d46-4ce65b90d24a",
   "metadata": {},
   "source": [
    "<h2>Centers for Disease Control and Prevention(CDC) annual survey data of adults related to their health status</h2>"
   ]
  },
  {
   "cell_type": "code",
   "execution_count": 217,
   "id": "b9dac6d4-429f-41ff-bd15-33bc9952e5ad",
   "metadata": {},
   "outputs": [],
   "source": [
    "import pandas as pd\n",
    "import numpy as np\n",
    "import seaborn as sns\n",
    "import matplotlib.pyplot as plt"
   ]
  },
  {
   "cell_type": "code",
   "execution_count": 218,
   "id": "928940b5-3ad6-43e8-9224-61598ffee7b5",
   "metadata": {},
   "outputs": [],
   "source": [
    "df1 = pd.read_csv('heart_data.csv')"
   ]
  },
  {
   "cell_type": "code",
   "execution_count": 219,
   "id": "55cd59a3-0fb5-4d0c-9785-5d4c3dc9c44e",
   "metadata": {},
   "outputs": [
    {
     "data": {
      "text/html": [
       "<div>\n",
       "<style scoped>\n",
       "    .dataframe tbody tr th:only-of-type {\n",
       "        vertical-align: middle;\n",
       "    }\n",
       "\n",
       "    .dataframe tbody tr th {\n",
       "        vertical-align: top;\n",
       "    }\n",
       "\n",
       "    .dataframe thead th {\n",
       "        text-align: right;\n",
       "    }\n",
       "</style>\n",
       "<table border=\"1\" class=\"dataframe\">\n",
       "  <thead>\n",
       "    <tr style=\"text-align: right;\">\n",
       "      <th></th>\n",
       "      <th>HeartDisease</th>\n",
       "      <th>BMI</th>\n",
       "      <th>Smoking</th>\n",
       "      <th>AlcoholDrinking</th>\n",
       "      <th>Stroke</th>\n",
       "      <th>PhysicalHealth</th>\n",
       "      <th>MentalHealth</th>\n",
       "      <th>DiffWalking</th>\n",
       "      <th>Sex</th>\n",
       "      <th>AgeCategory</th>\n",
       "      <th>Race</th>\n",
       "      <th>Diabetic</th>\n",
       "      <th>PhysicalActivity</th>\n",
       "      <th>GenHealth</th>\n",
       "      <th>SleepTime</th>\n",
       "      <th>Asthma</th>\n",
       "      <th>KidneyDisease</th>\n",
       "      <th>SkinCancer</th>\n",
       "    </tr>\n",
       "  </thead>\n",
       "  <tbody>\n",
       "    <tr>\n",
       "      <th>0</th>\n",
       "      <td>No</td>\n",
       "      <td>16.60</td>\n",
       "      <td>Yes</td>\n",
       "      <td>No</td>\n",
       "      <td>No</td>\n",
       "      <td>3.0</td>\n",
       "      <td>30.0</td>\n",
       "      <td>No</td>\n",
       "      <td>Female</td>\n",
       "      <td>55-59</td>\n",
       "      <td>White</td>\n",
       "      <td>Yes</td>\n",
       "      <td>Yes</td>\n",
       "      <td>Very good</td>\n",
       "      <td>5.0</td>\n",
       "      <td>Yes</td>\n",
       "      <td>No</td>\n",
       "      <td>Yes</td>\n",
       "    </tr>\n",
       "    <tr>\n",
       "      <th>1</th>\n",
       "      <td>No</td>\n",
       "      <td>20.34</td>\n",
       "      <td>No</td>\n",
       "      <td>No</td>\n",
       "      <td>Yes</td>\n",
       "      <td>0.0</td>\n",
       "      <td>0.0</td>\n",
       "      <td>No</td>\n",
       "      <td>Female</td>\n",
       "      <td>80 or older</td>\n",
       "      <td>White</td>\n",
       "      <td>No</td>\n",
       "      <td>Yes</td>\n",
       "      <td>Very good</td>\n",
       "      <td>7.0</td>\n",
       "      <td>No</td>\n",
       "      <td>No</td>\n",
       "      <td>No</td>\n",
       "    </tr>\n",
       "    <tr>\n",
       "      <th>2</th>\n",
       "      <td>No</td>\n",
       "      <td>26.58</td>\n",
       "      <td>Yes</td>\n",
       "      <td>No</td>\n",
       "      <td>No</td>\n",
       "      <td>20.0</td>\n",
       "      <td>30.0</td>\n",
       "      <td>No</td>\n",
       "      <td>Male</td>\n",
       "      <td>65-69</td>\n",
       "      <td>White</td>\n",
       "      <td>Yes</td>\n",
       "      <td>Yes</td>\n",
       "      <td>Fair</td>\n",
       "      <td>8.0</td>\n",
       "      <td>Yes</td>\n",
       "      <td>No</td>\n",
       "      <td>No</td>\n",
       "    </tr>\n",
       "    <tr>\n",
       "      <th>3</th>\n",
       "      <td>No</td>\n",
       "      <td>24.21</td>\n",
       "      <td>No</td>\n",
       "      <td>No</td>\n",
       "      <td>No</td>\n",
       "      <td>0.0</td>\n",
       "      <td>0.0</td>\n",
       "      <td>No</td>\n",
       "      <td>Female</td>\n",
       "      <td>75-79</td>\n",
       "      <td>White</td>\n",
       "      <td>No</td>\n",
       "      <td>No</td>\n",
       "      <td>Good</td>\n",
       "      <td>6.0</td>\n",
       "      <td>No</td>\n",
       "      <td>No</td>\n",
       "      <td>Yes</td>\n",
       "    </tr>\n",
       "    <tr>\n",
       "      <th>4</th>\n",
       "      <td>No</td>\n",
       "      <td>23.71</td>\n",
       "      <td>No</td>\n",
       "      <td>No</td>\n",
       "      <td>No</td>\n",
       "      <td>28.0</td>\n",
       "      <td>0.0</td>\n",
       "      <td>Yes</td>\n",
       "      <td>Female</td>\n",
       "      <td>40-44</td>\n",
       "      <td>White</td>\n",
       "      <td>No</td>\n",
       "      <td>Yes</td>\n",
       "      <td>Very good</td>\n",
       "      <td>8.0</td>\n",
       "      <td>No</td>\n",
       "      <td>No</td>\n",
       "      <td>No</td>\n",
       "    </tr>\n",
       "  </tbody>\n",
       "</table>\n",
       "</div>"
      ],
      "text/plain": [
       "  HeartDisease    BMI Smoking AlcoholDrinking Stroke  PhysicalHealth  \\\n",
       "0           No  16.60     Yes              No     No             3.0   \n",
       "1           No  20.34      No              No    Yes             0.0   \n",
       "2           No  26.58     Yes              No     No            20.0   \n",
       "3           No  24.21      No              No     No             0.0   \n",
       "4           No  23.71      No              No     No            28.0   \n",
       "\n",
       "   MentalHealth DiffWalking     Sex  AgeCategory   Race Diabetic  \\\n",
       "0          30.0          No  Female        55-59  White      Yes   \n",
       "1           0.0          No  Female  80 or older  White       No   \n",
       "2          30.0          No    Male        65-69  White      Yes   \n",
       "3           0.0          No  Female        75-79  White       No   \n",
       "4           0.0         Yes  Female        40-44  White       No   \n",
       "\n",
       "  PhysicalActivity  GenHealth  SleepTime Asthma KidneyDisease SkinCancer  \n",
       "0              Yes  Very good        5.0    Yes            No        Yes  \n",
       "1              Yes  Very good        7.0     No            No         No  \n",
       "2              Yes       Fair        8.0    Yes            No         No  \n",
       "3               No       Good        6.0     No            No        Yes  \n",
       "4              Yes  Very good        8.0     No            No         No  "
      ]
     },
     "execution_count": 219,
     "metadata": {},
     "output_type": "execute_result"
    }
   ],
   "source": [
    "df1.head()"
   ]
  },
  {
   "cell_type": "code",
   "execution_count": 220,
   "id": "05440c21-f334-41b4-8f93-a6c68869701b",
   "metadata": {},
   "outputs": [
    {
     "data": {
      "text/html": [
       "<div>\n",
       "<style scoped>\n",
       "    .dataframe tbody tr th:only-of-type {\n",
       "        vertical-align: middle;\n",
       "    }\n",
       "\n",
       "    .dataframe tbody tr th {\n",
       "        vertical-align: top;\n",
       "    }\n",
       "\n",
       "    .dataframe thead th {\n",
       "        text-align: right;\n",
       "    }\n",
       "</style>\n",
       "<table border=\"1\" class=\"dataframe\">\n",
       "  <thead>\n",
       "    <tr style=\"text-align: right;\">\n",
       "      <th></th>\n",
       "      <th>HeartDisease</th>\n",
       "      <th>BMI</th>\n",
       "      <th>Smoking</th>\n",
       "      <th>AlcoholDrinking</th>\n",
       "      <th>Stroke</th>\n",
       "      <th>PhysicalHealth</th>\n",
       "      <th>MentalHealth</th>\n",
       "      <th>DiffWalking</th>\n",
       "      <th>Sex</th>\n",
       "      <th>AgeCategory</th>\n",
       "      <th>Race</th>\n",
       "      <th>Diabetic</th>\n",
       "      <th>PhysicalActivity</th>\n",
       "      <th>GenHealth</th>\n",
       "      <th>SleepTime</th>\n",
       "      <th>Asthma</th>\n",
       "      <th>KidneyDisease</th>\n",
       "      <th>SkinCancer</th>\n",
       "    </tr>\n",
       "  </thead>\n",
       "  <tbody>\n",
       "    <tr>\n",
       "      <th>319790</th>\n",
       "      <td>Yes</td>\n",
       "      <td>27.41</td>\n",
       "      <td>Yes</td>\n",
       "      <td>No</td>\n",
       "      <td>No</td>\n",
       "      <td>7.0</td>\n",
       "      <td>0.0</td>\n",
       "      <td>Yes</td>\n",
       "      <td>Male</td>\n",
       "      <td>60-64</td>\n",
       "      <td>Hispanic</td>\n",
       "      <td>Yes</td>\n",
       "      <td>No</td>\n",
       "      <td>Fair</td>\n",
       "      <td>6.0</td>\n",
       "      <td>Yes</td>\n",
       "      <td>No</td>\n",
       "      <td>No</td>\n",
       "    </tr>\n",
       "    <tr>\n",
       "      <th>319791</th>\n",
       "      <td>No</td>\n",
       "      <td>29.84</td>\n",
       "      <td>Yes</td>\n",
       "      <td>No</td>\n",
       "      <td>No</td>\n",
       "      <td>0.0</td>\n",
       "      <td>0.0</td>\n",
       "      <td>No</td>\n",
       "      <td>Male</td>\n",
       "      <td>35-39</td>\n",
       "      <td>Hispanic</td>\n",
       "      <td>No</td>\n",
       "      <td>Yes</td>\n",
       "      <td>Very good</td>\n",
       "      <td>5.0</td>\n",
       "      <td>Yes</td>\n",
       "      <td>No</td>\n",
       "      <td>No</td>\n",
       "    </tr>\n",
       "    <tr>\n",
       "      <th>319792</th>\n",
       "      <td>No</td>\n",
       "      <td>24.24</td>\n",
       "      <td>No</td>\n",
       "      <td>No</td>\n",
       "      <td>No</td>\n",
       "      <td>0.0</td>\n",
       "      <td>0.0</td>\n",
       "      <td>No</td>\n",
       "      <td>Female</td>\n",
       "      <td>45-49</td>\n",
       "      <td>Hispanic</td>\n",
       "      <td>No</td>\n",
       "      <td>Yes</td>\n",
       "      <td>Good</td>\n",
       "      <td>6.0</td>\n",
       "      <td>No</td>\n",
       "      <td>No</td>\n",
       "      <td>No</td>\n",
       "    </tr>\n",
       "    <tr>\n",
       "      <th>319793</th>\n",
       "      <td>No</td>\n",
       "      <td>32.81</td>\n",
       "      <td>No</td>\n",
       "      <td>No</td>\n",
       "      <td>No</td>\n",
       "      <td>0.0</td>\n",
       "      <td>0.0</td>\n",
       "      <td>No</td>\n",
       "      <td>Female</td>\n",
       "      <td>25-29</td>\n",
       "      <td>Hispanic</td>\n",
       "      <td>No</td>\n",
       "      <td>No</td>\n",
       "      <td>Good</td>\n",
       "      <td>12.0</td>\n",
       "      <td>No</td>\n",
       "      <td>No</td>\n",
       "      <td>No</td>\n",
       "    </tr>\n",
       "    <tr>\n",
       "      <th>319794</th>\n",
       "      <td>No</td>\n",
       "      <td>46.56</td>\n",
       "      <td>No</td>\n",
       "      <td>No</td>\n",
       "      <td>No</td>\n",
       "      <td>0.0</td>\n",
       "      <td>0.0</td>\n",
       "      <td>No</td>\n",
       "      <td>Female</td>\n",
       "      <td>80 or older</td>\n",
       "      <td>Hispanic</td>\n",
       "      <td>No</td>\n",
       "      <td>Yes</td>\n",
       "      <td>Good</td>\n",
       "      <td>8.0</td>\n",
       "      <td>No</td>\n",
       "      <td>No</td>\n",
       "      <td>No</td>\n",
       "    </tr>\n",
       "  </tbody>\n",
       "</table>\n",
       "</div>"
      ],
      "text/plain": [
       "       HeartDisease    BMI Smoking AlcoholDrinking Stroke  PhysicalHealth  \\\n",
       "319790          Yes  27.41     Yes              No     No             7.0   \n",
       "319791           No  29.84     Yes              No     No             0.0   \n",
       "319792           No  24.24      No              No     No             0.0   \n",
       "319793           No  32.81      No              No     No             0.0   \n",
       "319794           No  46.56      No              No     No             0.0   \n",
       "\n",
       "        MentalHealth DiffWalking     Sex  AgeCategory      Race Diabetic  \\\n",
       "319790           0.0         Yes    Male        60-64  Hispanic      Yes   \n",
       "319791           0.0          No    Male        35-39  Hispanic       No   \n",
       "319792           0.0          No  Female        45-49  Hispanic       No   \n",
       "319793           0.0          No  Female        25-29  Hispanic       No   \n",
       "319794           0.0          No  Female  80 or older  Hispanic       No   \n",
       "\n",
       "       PhysicalActivity  GenHealth  SleepTime Asthma KidneyDisease SkinCancer  \n",
       "319790               No       Fair        6.0    Yes            No         No  \n",
       "319791              Yes  Very good        5.0    Yes            No         No  \n",
       "319792              Yes       Good        6.0     No            No         No  \n",
       "319793               No       Good       12.0     No            No         No  \n",
       "319794              Yes       Good        8.0     No            No         No  "
      ]
     },
     "execution_count": 220,
     "metadata": {},
     "output_type": "execute_result"
    }
   ],
   "source": [
    "df1.tail()"
   ]
  },
  {
   "cell_type": "markdown",
   "id": "aeaf3a40-ae45-480e-8299-88568d6edf39",
   "metadata": {},
   "source": [
    "# Data Information"
   ]
  },
  {
   "cell_type": "markdown",
   "id": "14048219-7be4-42db-b8c5-5d12145e033b",
   "metadata": {},
   "source": [
    "### Attributes information\n",
    "> * HeartDisease : Respondents that have ever reported having coronary heart disease (CHD) or myocardial infarction (MI)\n",
    "> * BMI : Body Mass Index (BMI)\n",
    "> * Smoking : Have you smoked at least 100 cigarettes in your entire life? \n",
    "> * AlcoholDrinking : Heavy drinkers (adult men having more than 14 drinks per week and adult women having more than 7 drinks per week\n",
    "> * Stroke : (Ever told) (you had) a stroke?\n",
    "> * PhysicalHealth : Now thinking about your physical health, which includes physical illness and injury, for how many days during the past 30 days was your physical * health not good? (0-30 days)\n",
    "> * MentalHealth : Thinking about your mental health, for how many days during the past 30 days was your mental health not good? (0-30 days)\n",
    "> * DiffWalking : Do you have serious difficulty walking or climbing stairs?\n",
    "> * Sex : Are you male or female?\n",
    "> * AgeCategory : Fourteen-level age category\n",
    "> * Race : Imputed race/ethnicity value\n",
    "> * Diabetic : (Ever told) (you had) diabetes?\n",
    "> * PhysicalActivity : Adults who reported doing physical activity or exercise during the past 30 days other than their regular job\n",
    "> * GenHealth : Would you say that in general your health is...\n",
    "> * SleepTime : On average, how many hours of sleep do you get in a 24-hour period?\n",
    "> * Asthma : (Ever told) (you had) asthma?\n",
    "> * KidneyDisease : Not including kidney stones, bladder infection or incontinence, were you ever told you had kidney disease?\n",
    "> * SkinCancer : (Ever told) (you had) skin cancer?"
   ]
  },
  {
   "cell_type": "markdown",
   "id": "20ee1ed9-129c-4d9e-9322-e96756cd65ba",
   "metadata": {},
   "source": [
    "### Columns Names"
   ]
  },
  {
   "cell_type": "code",
   "execution_count": 221,
   "id": "9596dc5a-ce21-4261-b6a0-52958a11d598",
   "metadata": {},
   "outputs": [
    {
     "data": {
      "text/plain": [
       "Index(['HeartDisease', 'BMI', 'Smoking', 'AlcoholDrinking', 'Stroke',\n",
       "       'PhysicalHealth', 'MentalHealth', 'DiffWalking', 'Sex', 'AgeCategory',\n",
       "       'Race', 'Diabetic', 'PhysicalActivity', 'GenHealth', 'SleepTime',\n",
       "       'Asthma', 'KidneyDisease', 'SkinCancer'],\n",
       "      dtype='object')"
      ]
     },
     "execution_count": 221,
     "metadata": {},
     "output_type": "execute_result"
    }
   ],
   "source": [
    "df1.columns"
   ]
  },
  {
   "cell_type": "markdown",
   "id": "0a40df2a-29fb-4f4b-a11c-53c075f8359f",
   "metadata": {},
   "source": [
    "### Renaming columns"
   ]
  },
  {
   "cell_type": "code",
   "execution_count": 222,
   "id": "8d8cf9b5-eff6-4dbd-9901-813478393a6d",
   "metadata": {},
   "outputs": [],
   "source": [
    "df1.rename(columns={\n",
    "        'DiffWalking': 'DifficultyInWalking',\n",
    "        'GenHealth': 'GeneralHealth'\n",
    "},inplace=True)"
   ]
  },
  {
   "cell_type": "code",
   "execution_count": 223,
   "id": "bf4e3a02-8d86-4b44-8d0c-3fef8d8ed356",
   "metadata": {},
   "outputs": [
    {
     "data": {
      "text/html": [
       "<div>\n",
       "<style scoped>\n",
       "    .dataframe tbody tr th:only-of-type {\n",
       "        vertical-align: middle;\n",
       "    }\n",
       "\n",
       "    .dataframe tbody tr th {\n",
       "        vertical-align: top;\n",
       "    }\n",
       "\n",
       "    .dataframe thead th {\n",
       "        text-align: right;\n",
       "    }\n",
       "</style>\n",
       "<table border=\"1\" class=\"dataframe\">\n",
       "  <thead>\n",
       "    <tr style=\"text-align: right;\">\n",
       "      <th></th>\n",
       "      <th>HeartDisease</th>\n",
       "      <th>BMI</th>\n",
       "      <th>Smoking</th>\n",
       "      <th>AlcoholDrinking</th>\n",
       "      <th>Stroke</th>\n",
       "      <th>PhysicalHealth</th>\n",
       "      <th>MentalHealth</th>\n",
       "      <th>DifficultyInWalking</th>\n",
       "      <th>Sex</th>\n",
       "      <th>AgeCategory</th>\n",
       "      <th>Race</th>\n",
       "      <th>Diabetic</th>\n",
       "      <th>PhysicalActivity</th>\n",
       "      <th>GeneralHealth</th>\n",
       "      <th>SleepTime</th>\n",
       "      <th>Asthma</th>\n",
       "      <th>KidneyDisease</th>\n",
       "      <th>SkinCancer</th>\n",
       "    </tr>\n",
       "  </thead>\n",
       "  <tbody>\n",
       "    <tr>\n",
       "      <th>0</th>\n",
       "      <td>No</td>\n",
       "      <td>16.6</td>\n",
       "      <td>Yes</td>\n",
       "      <td>No</td>\n",
       "      <td>No</td>\n",
       "      <td>3.0</td>\n",
       "      <td>30.0</td>\n",
       "      <td>No</td>\n",
       "      <td>Female</td>\n",
       "      <td>55-59</td>\n",
       "      <td>White</td>\n",
       "      <td>Yes</td>\n",
       "      <td>Yes</td>\n",
       "      <td>Very good</td>\n",
       "      <td>5.0</td>\n",
       "      <td>Yes</td>\n",
       "      <td>No</td>\n",
       "      <td>Yes</td>\n",
       "    </tr>\n",
       "  </tbody>\n",
       "</table>\n",
       "</div>"
      ],
      "text/plain": [
       "  HeartDisease   BMI Smoking AlcoholDrinking Stroke  PhysicalHealth  \\\n",
       "0           No  16.6     Yes              No     No             3.0   \n",
       "\n",
       "   MentalHealth DifficultyInWalking     Sex AgeCategory   Race Diabetic  \\\n",
       "0          30.0                  No  Female       55-59  White      Yes   \n",
       "\n",
       "  PhysicalActivity GeneralHealth  SleepTime Asthma KidneyDisease SkinCancer  \n",
       "0              Yes     Very good        5.0    Yes            No        Yes  "
      ]
     },
     "execution_count": 223,
     "metadata": {},
     "output_type": "execute_result"
    }
   ],
   "source": [
    "df1.head(1)"
   ]
  },
  {
   "cell_type": "markdown",
   "id": "437acf66-016e-41e9-9037-334edfb78bb6",
   "metadata": {},
   "source": [
    "### Dataset shape"
   ]
  },
  {
   "cell_type": "code",
   "execution_count": 224,
   "id": "8eabc2d7-ca8d-4847-a638-3914a2ef12de",
   "metadata": {},
   "outputs": [
    {
     "data": {
      "text/plain": [
       "(319795, 18)"
      ]
     },
     "execution_count": 224,
     "metadata": {},
     "output_type": "execute_result"
    }
   ],
   "source": [
    "df1.shape"
   ]
  },
  {
   "cell_type": "markdown",
   "id": "03ed6508-3520-4201-9ec7-e5643e8b02ad",
   "metadata": {},
   "source": [
    "### Data types of the attributes"
   ]
  },
  {
   "cell_type": "code",
   "execution_count": 225,
   "id": "d00e6bac-55ff-4a4f-9455-286f0fab5e7e",
   "metadata": {},
   "outputs": [
    {
     "name": "stdout",
     "output_type": "stream",
     "text": [
      "<class 'pandas.core.frame.DataFrame'>\n",
      "RangeIndex: 319795 entries, 0 to 319794\n",
      "Data columns (total 18 columns):\n",
      " #   Column               Non-Null Count   Dtype  \n",
      "---  ------               --------------   -----  \n",
      " 0   HeartDisease         319795 non-null  object \n",
      " 1   BMI                  319795 non-null  float64\n",
      " 2   Smoking              319795 non-null  object \n",
      " 3   AlcoholDrinking      319795 non-null  object \n",
      " 4   Stroke               319795 non-null  object \n",
      " 5   PhysicalHealth       319795 non-null  float64\n",
      " 6   MentalHealth         319795 non-null  float64\n",
      " 7   DifficultyInWalking  319795 non-null  object \n",
      " 8   Sex                  319795 non-null  object \n",
      " 9   AgeCategory          319795 non-null  object \n",
      " 10  Race                 319795 non-null  object \n",
      " 11  Diabetic             319795 non-null  object \n",
      " 12  PhysicalActivity     319795 non-null  object \n",
      " 13  GeneralHealth        319795 non-null  object \n",
      " 14  SleepTime            319795 non-null  float64\n",
      " 15  Asthma               319795 non-null  object \n",
      " 16  KidneyDisease        319795 non-null  object \n",
      " 17  SkinCancer           319795 non-null  object \n",
      "dtypes: float64(4), object(14)\n",
      "memory usage: 43.9+ MB\n"
     ]
    }
   ],
   "source": [
    "df1.info()"
   ]
  },
  {
   "cell_type": "markdown",
   "id": "894c3aae-31d0-4374-a713-8a6fe567bd99",
   "metadata": {},
   "source": [
    "### Checking Null values "
   ]
  },
  {
   "cell_type": "code",
   "execution_count": 226,
   "id": "3a8fb231-b1ff-48d5-93de-2be76a423a68",
   "metadata": {},
   "outputs": [
    {
     "data": {
      "text/plain": [
       "HeartDisease           0\n",
       "BMI                    0\n",
       "Smoking                0\n",
       "AlcoholDrinking        0\n",
       "Stroke                 0\n",
       "PhysicalHealth         0\n",
       "MentalHealth           0\n",
       "DifficultyInWalking    0\n",
       "Sex                    0\n",
       "AgeCategory            0\n",
       "Race                   0\n",
       "Diabetic               0\n",
       "PhysicalActivity       0\n",
       "GeneralHealth          0\n",
       "SleepTime              0\n",
       "Asthma                 0\n",
       "KidneyDisease          0\n",
       "SkinCancer             0\n",
       "dtype: int64"
      ]
     },
     "execution_count": 226,
     "metadata": {},
     "output_type": "execute_result"
    }
   ],
   "source": [
    "df1.isnull().sum()"
   ]
  },
  {
   "cell_type": "markdown",
   "id": "546ea9ec-7870-4123-9be2-fceea36d0d59",
   "metadata": {},
   "source": [
    "#### There is no any missing values"
   ]
  },
  {
   "cell_type": "markdown",
   "id": "dd45e63a-b164-4923-a94c-6c86acc3c25f",
   "metadata": {},
   "source": [
    "### Checking unique values of every categorical features"
   ]
  },
  {
   "cell_type": "code",
   "execution_count": 227,
   "id": "f3644b8b-004d-41bf-b175-744750d8d5ae",
   "metadata": {},
   "outputs": [
    {
     "data": {
      "text/plain": [
       "array(['No', 'Yes'], dtype=object)"
      ]
     },
     "execution_count": 227,
     "metadata": {},
     "output_type": "execute_result"
    }
   ],
   "source": [
    "df1['HeartDisease'].unique()"
   ]
  },
  {
   "cell_type": "code",
   "execution_count": 228,
   "id": "5d4cfbcb-810f-4d8f-b108-b56d55249349",
   "metadata": {},
   "outputs": [
    {
     "data": {
      "text/plain": [
       "array(['Yes', 'No'], dtype=object)"
      ]
     },
     "execution_count": 228,
     "metadata": {},
     "output_type": "execute_result"
    }
   ],
   "source": [
    "df1['Smoking'].unique()"
   ]
  },
  {
   "cell_type": "code",
   "execution_count": 229,
   "id": "acb00220-e8b3-4a7b-acb8-dfdd538b698f",
   "metadata": {},
   "outputs": [
    {
     "data": {
      "text/plain": [
       "array(['No', 'Yes'], dtype=object)"
      ]
     },
     "execution_count": 229,
     "metadata": {},
     "output_type": "execute_result"
    }
   ],
   "source": [
    "df1['AlcoholDrinking'].unique()"
   ]
  },
  {
   "cell_type": "code",
   "execution_count": 230,
   "id": "3dec9ed1-db58-4723-a57f-a19752aa0f11",
   "metadata": {},
   "outputs": [
    {
     "data": {
      "text/plain": [
       "array(['No', 'Yes'], dtype=object)"
      ]
     },
     "execution_count": 230,
     "metadata": {},
     "output_type": "execute_result"
    }
   ],
   "source": [
    "df1['Stroke'].unique()"
   ]
  },
  {
   "cell_type": "code",
   "execution_count": 231,
   "id": "fa30f585-3676-4698-99f6-5896880ed746",
   "metadata": {},
   "outputs": [
    {
     "data": {
      "text/plain": [
       "array(['No', 'Yes'], dtype=object)"
      ]
     },
     "execution_count": 231,
     "metadata": {},
     "output_type": "execute_result"
    }
   ],
   "source": [
    "df1['DifficultyInWalking'].unique()"
   ]
  },
  {
   "cell_type": "code",
   "execution_count": 232,
   "id": "ac9e0221-db40-4826-8a4d-2d896b569808",
   "metadata": {},
   "outputs": [
    {
     "data": {
      "text/plain": [
       "array(['Female', 'Male'], dtype=object)"
      ]
     },
     "execution_count": 232,
     "metadata": {},
     "output_type": "execute_result"
    }
   ],
   "source": [
    "df1['Sex'].unique()"
   ]
  },
  {
   "cell_type": "code",
   "execution_count": 233,
   "id": "e551e2f1-9de9-47fd-9a0f-3d80ab8d4cae",
   "metadata": {},
   "outputs": [
    {
     "data": {
      "text/plain": [
       "array(['55-59', '80 or older', '65-69', '75-79', '40-44', '70-74',\n",
       "       '60-64', '50-54', '45-49', '18-24', '35-39', '30-34', '25-29'],\n",
       "      dtype=object)"
      ]
     },
     "execution_count": 233,
     "metadata": {},
     "output_type": "execute_result"
    }
   ],
   "source": [
    "df1['AgeCategory'].unique()"
   ]
  },
  {
   "cell_type": "code",
   "execution_count": 234,
   "id": "4feb1565-c72d-44a2-9134-9845e7b2d3a2",
   "metadata": {},
   "outputs": [
    {
     "data": {
      "text/plain": [
       "array(['White', 'Black', 'Asian', 'American Indian/Alaskan Native',\n",
       "       'Other', 'Hispanic'], dtype=object)"
      ]
     },
     "execution_count": 234,
     "metadata": {},
     "output_type": "execute_result"
    }
   ],
   "source": [
    "df1['Race'].unique()"
   ]
  },
  {
   "cell_type": "code",
   "execution_count": 235,
   "id": "b05bc0cc-58b9-4672-a91f-9d4b7872dda4",
   "metadata": {},
   "outputs": [
    {
     "data": {
      "text/plain": [
       "array(['Yes', 'No', 'No, borderline diabetes', 'Yes (during pregnancy)'],\n",
       "      dtype=object)"
      ]
     },
     "execution_count": 235,
     "metadata": {},
     "output_type": "execute_result"
    }
   ],
   "source": [
    "df1['Diabetic'].unique()"
   ]
  },
  {
   "cell_type": "code",
   "execution_count": 236,
   "id": "4aa5349f-019d-4628-967d-6118c72d2a10",
   "metadata": {},
   "outputs": [
    {
     "data": {
      "text/plain": [
       "array(['Yes', 'No'], dtype=object)"
      ]
     },
     "execution_count": 236,
     "metadata": {},
     "output_type": "execute_result"
    }
   ],
   "source": [
    "df1['PhysicalActivity'].unique()"
   ]
  },
  {
   "cell_type": "code",
   "execution_count": 237,
   "id": "a4c2b86c-ce7e-4520-bb50-900fa66b4631",
   "metadata": {},
   "outputs": [
    {
     "data": {
      "text/plain": [
       "array(['Very good', 'Fair', 'Good', 'Poor', 'Excellent'], dtype=object)"
      ]
     },
     "execution_count": 237,
     "metadata": {},
     "output_type": "execute_result"
    }
   ],
   "source": [
    "df1['GeneralHealth'].unique()"
   ]
  },
  {
   "cell_type": "code",
   "execution_count": 238,
   "id": "09b274d1-5ee9-43f6-8c87-8a18e5c3d5c3",
   "metadata": {},
   "outputs": [
    {
     "data": {
      "text/plain": [
       "array(['Yes', 'No'], dtype=object)"
      ]
     },
     "execution_count": 238,
     "metadata": {},
     "output_type": "execute_result"
    }
   ],
   "source": [
    "df1['Asthma'].unique()"
   ]
  },
  {
   "cell_type": "code",
   "execution_count": 239,
   "id": "3d04bfd8-4d4e-4908-9781-627f5686cf32",
   "metadata": {},
   "outputs": [
    {
     "data": {
      "text/plain": [
       "array(['No', 'Yes'], dtype=object)"
      ]
     },
     "execution_count": 239,
     "metadata": {},
     "output_type": "execute_result"
    }
   ],
   "source": [
    "df1['KidneyDisease'].unique()"
   ]
  },
  {
   "cell_type": "code",
   "execution_count": 240,
   "id": "f27ad8df-2c39-43b1-98e6-1f65e81f30d0",
   "metadata": {},
   "outputs": [
    {
     "data": {
      "text/plain": [
       "array(['Yes', 'No'], dtype=object)"
      ]
     },
     "execution_count": 240,
     "metadata": {},
     "output_type": "execute_result"
    }
   ],
   "source": [
    "df1['SkinCancer'].unique()"
   ]
  },
  {
   "cell_type": "markdown",
   "id": "6f6cad0b-597b-4ea4-834f-6b6ea8d24c84",
   "metadata": {},
   "source": [
    "### Droping unnecessary attribute and duplicate values"
   ]
  },
  {
   "cell_type": "code",
   "execution_count": 241,
   "id": "6a143e5f-bd42-4630-8ae2-276992bc0f6e",
   "metadata": {},
   "outputs": [],
   "source": [
    "df1.drop(columns=['Race'],inplace=True)"
   ]
  },
  {
   "cell_type": "code",
   "execution_count": 242,
   "id": "888df581-b9dc-4dde-b6df-58ae2ce6cbec",
   "metadata": {},
   "outputs": [
    {
     "data": {
      "text/plain": [
       "(319795, 17)"
      ]
     },
     "execution_count": 242,
     "metadata": {},
     "output_type": "execute_result"
    }
   ],
   "source": [
    "df1.shape"
   ]
  },
  {
   "cell_type": "code",
   "execution_count": 243,
   "id": "148de2f5-4429-4a27-831a-4805ebf71694",
   "metadata": {},
   "outputs": [
    {
     "data": {
      "text/plain": [
       "24345"
      ]
     },
     "execution_count": 243,
     "metadata": {},
     "output_type": "execute_result"
    }
   ],
   "source": [
    "df1.duplicated().sum()"
   ]
  },
  {
   "cell_type": "code",
   "execution_count": 244,
   "id": "c74b8c0e-2b6e-4731-b0f6-9a3af0e14d4e",
   "metadata": {},
   "outputs": [],
   "source": [
    "df1.drop_duplicates(inplace=True)"
   ]
  },
  {
   "cell_type": "code",
   "execution_count": 245,
   "id": "24568131-d9dc-421b-8679-acc5b7148025",
   "metadata": {},
   "outputs": [
    {
     "data": {
      "text/plain": [
       "(295450, 17)"
      ]
     },
     "execution_count": 245,
     "metadata": {},
     "output_type": "execute_result"
    }
   ],
   "source": [
    "df1.shape"
   ]
  },
  {
   "cell_type": "markdown",
   "id": "4fbf8443-abac-4757-a8d7-151fcf4352f8",
   "metadata": {},
   "source": [
    "# Exploratory Data Analysis"
   ]
  },
  {
   "cell_type": "code",
   "execution_count": 246,
   "id": "8499d521-1389-48fb-898e-a81031435f97",
   "metadata": {},
   "outputs": [],
   "source": [
    "def plotNumber(ax):\n",
    "    for p in ax.patches:\n",
    "        ax.annotate(\"%.2f\" % p.get_height(), (p.get_x() + p.get_width() / 2, p.get_height()),\n",
    "                    ha='center', va='center', fontsize=11, color='Black', xytext=(0, 10),textcoords='offset points')"
   ]
  },
  {
   "cell_type": "code",
   "execution_count": 247,
   "id": "72078e86-2090-47e8-a0ec-d9c6f849052f",
   "metadata": {},
   "outputs": [
    {
     "data": {
      "image/png": "[encoded data removed]",
      "text/plain": [
       "<Figure size 720x504 with 1 Axes>"
      ]
     },
     "metadata": {
      "needs_background": "light"
     },
     "output_type": "display_data"
    }
   ],
   "source": [
    "plt.figure(figsize=(10,7))\n",
    "heart_disease_plot = sns.countplot(x='HeartDisease',data=df1)\n",
    "plotNumber(heart_disease_plot)\n",
    "plt.show()"
   ]
  },
  {
   "cell_type": "markdown",
   "id": "71280b40-121b-4eed-b7f9-8b104148727e",
   "metadata": {},
   "source": [
    "#### We can see, we've got very unbalanced data since majority of the people are healthy"
   ]
  },
  {
   "cell_type": "code",
   "execution_count": 248,
   "id": "dde4ffdc-218f-4bac-8a7b-52a5045efea4",
   "metadata": {},
   "outputs": [
    {
     "data": {
      "image/png": "[encoded data removed]",
      "text/plain": [
       "<Figure size 720x360 with 1 Axes>"
      ]
     },
     "metadata": {
      "needs_background": "light"
     },
     "output_type": "display_data"
    }
   ],
   "source": [
    "plt.figure(figsize=(10,5))\n",
    "plt.xticks(range(0,100,5))\n",
    "sns.boxenplot(x=df1['BMI'])\n",
    "plt.show()"
   ]
  },
  {
   "cell_type": "markdown",
   "id": "70f98101-0a65-4bb3-97e2-e05b53c7d07a",
   "metadata": {},
   "source": [
    "#### Majority of BMI value falls under 25-30 range"
   ]
  },
  {
   "cell_type": "code",
   "execution_count": 249,
   "id": "e1e8f7ca-0a04-4b2a-99ef-95a93b9c3277",
   "metadata": {},
   "outputs": [
    {
     "data": {
      "image/png": "[encoded data removed]",
      "text/plain": [
       "<Figure size 720x504 with 1 Axes>"
      ]
     },
     "metadata": {
      "needs_background": "light"
     },
     "output_type": "display_data"
    }
   ],
   "source": [
    "plt.figure(figsize=(10,7))\n",
    "smoking_plot = sns.countplot(x='Smoking', hue='HeartDisease',data=df1)\n",
    "plotNumber(smoking_plot)\n",
    "plt.show()\n"
   ]
  },
  {
   "cell_type": "markdown",
   "id": "70a9e33a-1449-4b60-b3d9-dead2e532363",
   "metadata": {},
   "source": [
    "#### Relation between smoking and heart disease"
   ]
  },
  {
   "cell_type": "code",
   "execution_count": 250,
   "id": "f0669c8c-3f08-4993-aa1c-742547232a63",
   "metadata": {},
   "outputs": [
    {
     "data": {
      "image/png": "[encoded data removed]",
      "text/plain": [
       "<Figure size 720x504 with 1 Axes>"
      ]
     },
     "metadata": {
      "needs_background": "light"
     },
     "output_type": "display_data"
    }
   ],
   "source": [
    "plt.figure(figsize=(10,7))\n",
    "alcohol_plot = sns.countplot(x='AlcoholDrinking', hue='HeartDisease',data=df1)\n",
    "plotNumber(alcohol_plot)\n",
    "plt.show()\n",
    "\n"
   ]
  },
  {
   "cell_type": "markdown",
   "id": "efd52da9-2c9d-4d99-9d53-0762c84aec4a",
   "metadata": {},
   "source": [
    "#### Relation between alcohol drinking and heart disease"
   ]
  },
  {
   "cell_type": "code",
   "execution_count": 251,
   "id": "bc32307b-b0d1-4ca1-bc9a-854c98ce1722",
   "metadata": {},
   "outputs": [
    {
     "data": {
      "image/png": "[encoded data removed]",
      "text/plain": [
       "<Figure size 720x504 with 1 Axes>"
      ]
     },
     "metadata": {
      "needs_background": "light"
     },
     "output_type": "display_data"
    }
   ],
   "source": [
    "plt.figure(figsize=(10,7))\n",
    "stroke_plot = sns.countplot(x='Stroke', hue='HeartDisease',data=df1)\n",
    "plotNumber(stroke_plot)\n",
    "plt.show()\n"
   ]
  },
  {
   "cell_type": "markdown",
   "id": "062cb2db-8178-40dd-a6b2-a90687164526",
   "metadata": {},
   "source": [
    "#### Relation between people affected by Stroke and their heart disease status"
   ]
  },
  {
   "cell_type": "code",
   "execution_count": 252,
   "id": "00c6c962-1ea4-4780-a4df-734811fd3a64",
   "metadata": {},
   "outputs": [
    {
     "name": "stderr",
     "output_type": "stream",
     "text": [
      "C:\\Users\\suyog\\AppData\\Local\\Programs\\Python\\Python39\\lib\\site-packages\\seaborn\\distributions.py:2619: FutureWarning: `distplot` is a deprecated function and will be removed in a future version. Please adapt your code to use either `displot` (a figure-level function with similar flexibility) or `histplot` (an axes-level function for histograms).\n",
      "  warnings.warn(msg, FutureWarning)\n"
     ]
    },
    {
     "data": {
      "image/png": "[encoded data removed]",
      "text/plain": [
       "<Figure size 720x360 with 1 Axes>"
      ]
     },
     "metadata": {
      "needs_background": "light"
     },
     "output_type": "display_data"
    }
   ],
   "source": [
    "plt.figure(figsize=(10,5))\n",
    "plt.xlabel('Number of days')\n",
    "sns.distplot(x=df1['PhysicalHealth'])\n",
    "plt.show()"
   ]
  },
  {
   "cell_type": "markdown",
   "id": "c4167b39-e223-4294-813a-bff42a394727",
   "metadata": {},
   "source": [
    "#### Most people havent fell ill in last 30 days"
   ]
  },
  {
   "cell_type": "code",
   "execution_count": 253,
   "id": "7cbb8034-febd-4c9f-82da-faf1d8936cf8",
   "metadata": {},
   "outputs": [
    {
     "name": "stderr",
     "output_type": "stream",
     "text": [
      "C:\\Users\\suyog\\AppData\\Local\\Programs\\Python\\Python39\\lib\\site-packages\\seaborn\\distributions.py:2619: FutureWarning: `distplot` is a deprecated function and will be removed in a future version. Please adapt your code to use either `displot` (a figure-level function with similar flexibility) or `histplot` (an axes-level function for histograms).\n",
      "  warnings.warn(msg, FutureWarning)\n"
     ]
    },
    {
     "data": {
      "image/png": "[encoded data removed]",
      "text/plain": [
       "<Figure size 720x360 with 1 Axes>"
      ]
     },
     "metadata": {
      "needs_background": "light"
     },
     "output_type": "display_data"
    }
   ],
   "source": [
    "plt.figure(figsize=(10,5))\n",
    "plt.xlabel('Number of days')\n",
    "sns.distplot(x=df1['MentalHealth'])\n",
    "plt.show()"
   ]
  },
  {
   "cell_type": "markdown",
   "id": "d1d2b41c-cd92-4264-a13b-fdef9a2fa2b0",
   "metadata": {},
   "source": [
    "#### Most people are mentally healthy in last 30 days"
   ]
  },
  {
   "cell_type": "code",
   "execution_count": 254,
   "id": "ee42f2c0-4fa5-4fb8-bac6-76d69e5085d6",
   "metadata": {},
   "outputs": [
    {
     "data": {
      "image/png": "[encoded data removed]",
      "text/plain": [
       "<Figure size 720x504 with 1 Axes>"
      ]
     },
     "metadata": {
      "needs_background": "light"
     },
     "output_type": "display_data"
    }
   ],
   "source": [
    "plt.figure(figsize=(10,7))\n",
    "difficulty_in_walking_plot = sns.countplot(x='DifficultyInWalking', hue='HeartDisease',data=df1)\n",
    "plotNumber(difficulty_in_walking_plot)\n",
    "plt.show()"
   ]
  },
  {
   "cell_type": "markdown",
   "id": "61ef3ac2-3cf6-47e5-ae2d-38a1fdf55905",
   "metadata": {},
   "source": [
    "#### Most people with difficulty in walking have heart disease"
   ]
  },
  {
   "cell_type": "code",
   "execution_count": 255,
   "id": "e1cbec0f-01bd-4d2d-b238-3e4b9facf5e8",
   "metadata": {},
   "outputs": [
    {
     "data": {
      "image/png": "[encoded data removed]",
      "text/plain": [
       "<Figure size 720x504 with 1 Axes>"
      ]
     },
     "metadata": {
      "needs_background": "light"
     },
     "output_type": "display_data"
    }
   ],
   "source": [
    "plt.figure(figsize=(10,7))\n",
    "sex_plot = sns.countplot(x='Sex', hue='HeartDisease',data=df1)\n",
    "plotNumber(sex_plot)\n",
    "plt.show()\n",
    "\n"
   ]
  },
  {
   "cell_type": "code",
   "execution_count": 256,
   "id": "90fa3659-e2fa-44e5-bcf5-5de2b18787d5",
   "metadata": {},
   "outputs": [
    {
     "data": {
      "image/png": "[encoded data removed]",
      "text/plain": [
       "<Figure size 1800x504 with 1 Axes>"
      ]
     },
     "metadata": {
      "needs_background": "light"
     },
     "output_type": "display_data"
    }
   ],
   "source": [
    "plt.figure(figsize=(25,7))\n",
    "age_plot = sns.countplot(x='AgeCategory', hue='HeartDisease',data=df1)\n",
    "plotNumber(age_plot)\n",
    "plt.show()"
   ]
  },
  {
   "cell_type": "markdown",
   "id": "bb278e6c-1c65-4fc1-9e37-8f63df7a6708",
   "metadata": {},
   "source": [
    "#### People of age higher than 65 years have higher rate of heart Disease"
   ]
  },
  {
   "cell_type": "code",
   "execution_count": 257,
   "id": "193ae96d-2dad-4978-94b3-a4e4596c8451",
   "metadata": {},
   "outputs": [
    {
     "data": {
      "image/png": "[encoded data removed]",
      "text/plain": [
       "<Figure size 720x504 with 1 Axes>"
      ]
     },
     "metadata": {
      "needs_background": "light"
     },
     "output_type": "display_data"
    }
   ],
   "source": [
    "plt.figure(figsize=(10,7))\n",
    "plt.xticks(rotation='vertical')\n",
    "diabetic_plot = sns.countplot(x='Diabetic',hue='HeartDisease',data=df1)\n",
    "plotNumber(diabetic_plot)\n",
    "plt.show()"
   ]
  },
  {
   "cell_type": "markdown",
   "id": "f4587339-613d-4c18-ab0b-9a8b4b59f659",
   "metadata": {},
   "source": [
    "#### Diabetic patient have higher rate of heart disease "
   ]
  },
  {
   "cell_type": "code",
   "execution_count": 258,
   "id": "1d6b0d60-a4a1-42ac-9a94-b182907e2c8a",
   "metadata": {},
   "outputs": [
    {
     "data": {
      "image/png": "[encoded data removed]",
      "text/plain": [
       "<Figure size 1080x504 with 1 Axes>"
      ]
     },
     "metadata": {
      "needs_background": "light"
     },
     "output_type": "display_data"
    }
   ],
   "source": [
    "plt.figure(figsize=(15,7))\n",
    "physical_activity_plot = sns.countplot(x='PhysicalActivity', hue='HeartDisease',data=df1)\n",
    "plotNumber(physical_activity_plot)\n",
    "plt.show()"
   ]
  },
  {
   "cell_type": "markdown",
   "id": "c93007ec-50fa-460c-b06f-d3278d1ce239",
   "metadata": {},
   "source": [
    "#### People who donot regularly exercise have higher heart disease rate"
   ]
  },
  {
   "cell_type": "code",
   "execution_count": 259,
   "id": "ec9bacc0-5fa1-4a79-bbb8-299ec27a51b3",
   "metadata": {},
   "outputs": [
    {
     "data": {
      "image/png": "[encoded data removed]",
      "text/plain": [
       "<Figure size 1080x504 with 1 Axes>"
      ]
     },
     "metadata": {
      "needs_background": "light"
     },
     "output_type": "display_data"
    }
   ],
   "source": [
    "plt.figure(figsize=(15,7))\n",
    "general_health_plot = sns.countplot(x='GeneralHealth',hue='HeartDisease',data=df1)\n",
    "plotNumber(general_health_plot)\n",
    "plt.show()"
   ]
  },
  {
   "cell_type": "markdown",
   "id": "1600405e-14a0-47f0-be70-f17208fabd6e",
   "metadata": {},
   "source": [
    "#### People having poor general health have higher heart disease rate"
   ]
  },
  {
   "cell_type": "code",
   "execution_count": 260,
   "id": "06b8afc9-3b56-4b16-ad70-289800cf88a1",
   "metadata": {},
   "outputs": [
    {
     "data": {
      "image/png": "[encoded data removed]",
      "text/plain": [
       "<Figure size 720x360 with 1 Axes>"
      ]
     },
     "metadata": {
      "needs_background": "light"
     },
     "output_type": "display_data"
    }
   ],
   "source": [
    "plt.figure(figsize=(10,5))\n",
    "plt.xticks(range(1,24))\n",
    "sns.boxenplot(x=df1['SleepTime'])\n",
    "plt.show()"
   ]
  },
  {
   "cell_type": "markdown",
   "id": "68f5647d-9e93-413f-a18b-85d023953ae9",
   "metadata": {},
   "source": [
    "#### Sleep time mostly ranges from 6-8 hour"
   ]
  },
  {
   "cell_type": "code",
   "execution_count": 261,
   "id": "60568e55-f2f1-4f5e-abc6-39af9e53bf71",
   "metadata": {},
   "outputs": [
    {
     "data": {
      "image/png": "[encoded data removed]",
      "text/plain": [
       "<Figure size 1080x504 with 1 Axes>"
      ]
     },
     "metadata": {
      "needs_background": "light"
     },
     "output_type": "display_data"
    }
   ],
   "source": [
    "plt.figure(figsize=(15,7))\n",
    "kidney_disease_plot = sns.countplot(x='KidneyDisease',hue='HeartDisease',data=df1)\n",
    "plotNumber(kidney_disease_plot)\n",
    "plt.show()"
   ]
  },
  {
   "cell_type": "markdown",
   "id": "445508d6-5409-47c1-9c0c-3e1fc52d41e0",
   "metadata": {},
   "source": [
    "#### People with Kidney disease have higher rate of heart disease"
   ]
  },
  {
   "cell_type": "markdown",
   "id": "193a1f1a-487c-409d-90ad-cd6d43be4e27",
   "metadata": {},
   "source": [
    "# Data Preprocessing"
   ]
  },
  {
   "cell_type": "code",
   "execution_count": 262,
   "id": "14298b71-4c56-43d6-a7cf-889c48bf7471",
   "metadata": {},
   "outputs": [
    {
     "data": {
      "text/html": [
       "<div>\n",
       "<style scoped>\n",
       "    .dataframe tbody tr th:only-of-type {\n",
       "        vertical-align: middle;\n",
       "    }\n",
       "\n",
       "    .dataframe tbody tr th {\n",
       "        vertical-align: top;\n",
       "    }\n",
       "\n",
       "    .dataframe thead th {\n",
       "        text-align: right;\n",
       "    }\n",
       "</style>\n",
       "<table border=\"1\" class=\"dataframe\">\n",
       "  <thead>\n",
       "    <tr style=\"text-align: right;\">\n",
       "      <th></th>\n",
       "      <th>HeartDisease</th>\n",
       "      <th>BMI</th>\n",
       "      <th>Smoking</th>\n",
       "      <th>AlcoholDrinking</th>\n",
       "      <th>Stroke</th>\n",
       "      <th>PhysicalHealth</th>\n",
       "      <th>MentalHealth</th>\n",
       "      <th>DifficultyInWalking</th>\n",
       "      <th>Sex</th>\n",
       "      <th>AgeCategory</th>\n",
       "      <th>Diabetic</th>\n",
       "      <th>PhysicalActivity</th>\n",
       "      <th>GeneralHealth</th>\n",
       "      <th>SleepTime</th>\n",
       "      <th>Asthma</th>\n",
       "      <th>KidneyDisease</th>\n",
       "      <th>SkinCancer</th>\n",
       "    </tr>\n",
       "  </thead>\n",
       "  <tbody>\n",
       "    <tr>\n",
       "      <th>0</th>\n",
       "      <td>No</td>\n",
       "      <td>16.60</td>\n",
       "      <td>Yes</td>\n",
       "      <td>No</td>\n",
       "      <td>No</td>\n",
       "      <td>3.0</td>\n",
       "      <td>30.0</td>\n",
       "      <td>No</td>\n",
       "      <td>Female</td>\n",
       "      <td>55-59</td>\n",
       "      <td>Yes</td>\n",
       "      <td>Yes</td>\n",
       "      <td>Very good</td>\n",
       "      <td>5.0</td>\n",
       "      <td>Yes</td>\n",
       "      <td>No</td>\n",
       "      <td>Yes</td>\n",
       "    </tr>\n",
       "    <tr>\n",
       "      <th>1</th>\n",
       "      <td>No</td>\n",
       "      <td>20.34</td>\n",
       "      <td>No</td>\n",
       "      <td>No</td>\n",
       "      <td>Yes</td>\n",
       "      <td>0.0</td>\n",
       "      <td>0.0</td>\n",
       "      <td>No</td>\n",
       "      <td>Female</td>\n",
       "      <td>80 or older</td>\n",
       "      <td>No</td>\n",
       "      <td>Yes</td>\n",
       "      <td>Very good</td>\n",
       "      <td>7.0</td>\n",
       "      <td>No</td>\n",
       "      <td>No</td>\n",
       "      <td>No</td>\n",
       "    </tr>\n",
       "    <tr>\n",
       "      <th>2</th>\n",
       "      <td>No</td>\n",
       "      <td>26.58</td>\n",
       "      <td>Yes</td>\n",
       "      <td>No</td>\n",
       "      <td>No</td>\n",
       "      <td>20.0</td>\n",
       "      <td>30.0</td>\n",
       "      <td>No</td>\n",
       "      <td>Male</td>\n",
       "      <td>65-69</td>\n",
       "      <td>Yes</td>\n",
       "      <td>Yes</td>\n",
       "      <td>Fair</td>\n",
       "      <td>8.0</td>\n",
       "      <td>Yes</td>\n",
       "      <td>No</td>\n",
       "      <td>No</td>\n",
       "    </tr>\n",
       "    <tr>\n",
       "      <th>3</th>\n",
       "      <td>No</td>\n",
       "      <td>24.21</td>\n",
       "      <td>No</td>\n",
       "      <td>No</td>\n",
       "      <td>No</td>\n",
       "      <td>0.0</td>\n",
       "      <td>0.0</td>\n",
       "      <td>No</td>\n",
       "      <td>Female</td>\n",
       "      <td>75-79</td>\n",
       "      <td>No</td>\n",
       "      <td>No</td>\n",
       "      <td>Good</td>\n",
       "      <td>6.0</td>\n",
       "      <td>No</td>\n",
       "      <td>No</td>\n",
       "      <td>Yes</td>\n",
       "    </tr>\n",
       "    <tr>\n",
       "      <th>4</th>\n",
       "      <td>No</td>\n",
       "      <td>23.71</td>\n",
       "      <td>No</td>\n",
       "      <td>No</td>\n",
       "      <td>No</td>\n",
       "      <td>28.0</td>\n",
       "      <td>0.0</td>\n",
       "      <td>Yes</td>\n",
       "      <td>Female</td>\n",
       "      <td>40-44</td>\n",
       "      <td>No</td>\n",
       "      <td>Yes</td>\n",
       "      <td>Very good</td>\n",
       "      <td>8.0</td>\n",
       "      <td>No</td>\n",
       "      <td>No</td>\n",
       "      <td>No</td>\n",
       "    </tr>\n",
       "  </tbody>\n",
       "</table>\n",
       "</div>"
      ],
      "text/plain": [
       "  HeartDisease    BMI Smoking AlcoholDrinking Stroke  PhysicalHealth  \\\n",
       "0           No  16.60     Yes              No     No             3.0   \n",
       "1           No  20.34      No              No    Yes             0.0   \n",
       "2           No  26.58     Yes              No     No            20.0   \n",
       "3           No  24.21      No              No     No             0.0   \n",
       "4           No  23.71      No              No     No            28.0   \n",
       "\n",
       "   MentalHealth DifficultyInWalking     Sex  AgeCategory Diabetic  \\\n",
       "0          30.0                  No  Female        55-59      Yes   \n",
       "1           0.0                  No  Female  80 or older       No   \n",
       "2          30.0                  No    Male        65-69      Yes   \n",
       "3           0.0                  No  Female        75-79       No   \n",
       "4           0.0                 Yes  Female        40-44       No   \n",
       "\n",
       "  PhysicalActivity GeneralHealth  SleepTime Asthma KidneyDisease SkinCancer  \n",
       "0              Yes     Very good        5.0    Yes            No        Yes  \n",
       "1              Yes     Very good        7.0     No            No         No  \n",
       "2              Yes          Fair        8.0    Yes            No         No  \n",
       "3               No          Good        6.0     No            No        Yes  \n",
       "4              Yes     Very good        8.0     No            No         No  "
      ]
     },
     "execution_count": 262,
     "metadata": {},
     "output_type": "execute_result"
    }
   ],
   "source": [
    "df1.head()"
   ]
  },
  {
   "cell_type": "code",
   "execution_count": 263,
   "id": "d994dfd8-db60-4d96-916e-1ccf92bdb70a",
   "metadata": {},
   "outputs": [
    {
     "data": {
      "text/plain": [
       "HeartDisease            object\n",
       "BMI                    float64\n",
       "Smoking                 object\n",
       "AlcoholDrinking         object\n",
       "Stroke                  object\n",
       "PhysicalHealth         float64\n",
       "MentalHealth           float64\n",
       "DifficultyInWalking     object\n",
       "Sex                     object\n",
       "AgeCategory             object\n",
       "Diabetic                object\n",
       "PhysicalActivity        object\n",
       "GeneralHealth           object\n",
       "SleepTime              float64\n",
       "Asthma                  object\n",
       "KidneyDisease           object\n",
       "SkinCancer              object\n",
       "dtype: object"
      ]
     },
     "execution_count": 263,
     "metadata": {},
     "output_type": "execute_result"
    }
   ],
   "source": [
    "df1.dtypes"
   ]
  },
  {
   "cell_type": "markdown",
   "id": "257865c6-db46-4d2d-9921-35653d55dbc6",
   "metadata": {},
   "source": [
    "## Converting Categorical values into numerical values"
   ]
  },
  {
   "cell_type": "code",
   "execution_count": 264,
   "id": "4cb323b6-4dbf-4ba0-9bc2-56e83baf00a4",
   "metadata": {},
   "outputs": [],
   "source": [
    "columnsYesNoValues = ['HeartDisease','Smoking','AlcoholDrinking','Stroke',\n",
    "                     'DifficultyInWalking','PhysicalActivity','Asthma',\n",
    "                     'KidneyDisease','SkinCancer']\n",
    "yesNoValues = {'Yes':1,\n",
    "              'No':0}\n",
    "\n",
    "for i in range(0,len(columnsYesNoValues)):\n",
    "    df1[columnsYesNoValues[i]] = df1[columnsYesNoValues[i]].replace(yesNoValues)\n",
    "    "
   ]
  },
  {
   "cell_type": "code",
   "execution_count": 265,
   "id": "8646fec8-85a0-4ec0-9572-37fbb84b1974",
   "metadata": {},
   "outputs": [
    {
     "data": {
      "text/html": [
       "<div>\n",
       "<style scoped>\n",
       "    .dataframe tbody tr th:only-of-type {\n",
       "        vertical-align: middle;\n",
       "    }\n",
       "\n",
       "    .dataframe tbody tr th {\n",
       "        vertical-align: top;\n",
       "    }\n",
       "\n",
       "    .dataframe thead th {\n",
       "        text-align: right;\n",
       "    }\n",
       "</style>\n",
       "<table border=\"1\" class=\"dataframe\">\n",
       "  <thead>\n",
       "    <tr style=\"text-align: right;\">\n",
       "      <th></th>\n",
       "      <th>HeartDisease</th>\n",
       "      <th>BMI</th>\n",
       "      <th>Smoking</th>\n",
       "      <th>AlcoholDrinking</th>\n",
       "      <th>Stroke</th>\n",
       "      <th>PhysicalHealth</th>\n",
       "      <th>MentalHealth</th>\n",
       "      <th>DifficultyInWalking</th>\n",
       "      <th>Sex</th>\n",
       "      <th>AgeCategory</th>\n",
       "      <th>Diabetic</th>\n",
       "      <th>PhysicalActivity</th>\n",
       "      <th>GeneralHealth</th>\n",
       "      <th>SleepTime</th>\n",
       "      <th>Asthma</th>\n",
       "      <th>KidneyDisease</th>\n",
       "      <th>SkinCancer</th>\n",
       "    </tr>\n",
       "  </thead>\n",
       "  <tbody>\n",
       "    <tr>\n",
       "      <th>0</th>\n",
       "      <td>0</td>\n",
       "      <td>16.60</td>\n",
       "      <td>1</td>\n",
       "      <td>0</td>\n",
       "      <td>0</td>\n",
       "      <td>3.0</td>\n",
       "      <td>30.0</td>\n",
       "      <td>0</td>\n",
       "      <td>Female</td>\n",
       "      <td>55-59</td>\n",
       "      <td>Yes</td>\n",
       "      <td>1</td>\n",
       "      <td>Very good</td>\n",
       "      <td>5.0</td>\n",
       "      <td>1</td>\n",
       "      <td>0</td>\n",
       "      <td>1</td>\n",
       "    </tr>\n",
       "    <tr>\n",
       "      <th>1</th>\n",
       "      <td>0</td>\n",
       "      <td>20.34</td>\n",
       "      <td>0</td>\n",
       "      <td>0</td>\n",
       "      <td>1</td>\n",
       "      <td>0.0</td>\n",
       "      <td>0.0</td>\n",
       "      <td>0</td>\n",
       "      <td>Female</td>\n",
       "      <td>80 or older</td>\n",
       "      <td>No</td>\n",
       "      <td>1</td>\n",
       "      <td>Very good</td>\n",
       "      <td>7.0</td>\n",
       "      <td>0</td>\n",
       "      <td>0</td>\n",
       "      <td>0</td>\n",
       "    </tr>\n",
       "    <tr>\n",
       "      <th>2</th>\n",
       "      <td>0</td>\n",
       "      <td>26.58</td>\n",
       "      <td>1</td>\n",
       "      <td>0</td>\n",
       "      <td>0</td>\n",
       "      <td>20.0</td>\n",
       "      <td>30.0</td>\n",
       "      <td>0</td>\n",
       "      <td>Male</td>\n",
       "      <td>65-69</td>\n",
       "      <td>Yes</td>\n",
       "      <td>1</td>\n",
       "      <td>Fair</td>\n",
       "      <td>8.0</td>\n",
       "      <td>1</td>\n",
       "      <td>0</td>\n",
       "      <td>0</td>\n",
       "    </tr>\n",
       "    <tr>\n",
       "      <th>3</th>\n",
       "      <td>0</td>\n",
       "      <td>24.21</td>\n",
       "      <td>0</td>\n",
       "      <td>0</td>\n",
       "      <td>0</td>\n",
       "      <td>0.0</td>\n",
       "      <td>0.0</td>\n",
       "      <td>0</td>\n",
       "      <td>Female</td>\n",
       "      <td>75-79</td>\n",
       "      <td>No</td>\n",
       "      <td>0</td>\n",
       "      <td>Good</td>\n",
       "      <td>6.0</td>\n",
       "      <td>0</td>\n",
       "      <td>0</td>\n",
       "      <td>1</td>\n",
       "    </tr>\n",
       "    <tr>\n",
       "      <th>4</th>\n",
       "      <td>0</td>\n",
       "      <td>23.71</td>\n",
       "      <td>0</td>\n",
       "      <td>0</td>\n",
       "      <td>0</td>\n",
       "      <td>28.0</td>\n",
       "      <td>0.0</td>\n",
       "      <td>1</td>\n",
       "      <td>Female</td>\n",
       "      <td>40-44</td>\n",
       "      <td>No</td>\n",
       "      <td>1</td>\n",
       "      <td>Very good</td>\n",
       "      <td>8.0</td>\n",
       "      <td>0</td>\n",
       "      <td>0</td>\n",
       "      <td>0</td>\n",
       "    </tr>\n",
       "  </tbody>\n",
       "</table>\n",
       "</div>"
      ],
      "text/plain": [
       "   HeartDisease    BMI  Smoking  AlcoholDrinking  Stroke  PhysicalHealth  \\\n",
       "0             0  16.60        1                0       0             3.0   \n",
       "1             0  20.34        0                0       1             0.0   \n",
       "2             0  26.58        1                0       0            20.0   \n",
       "3             0  24.21        0                0       0             0.0   \n",
       "4             0  23.71        0                0       0            28.0   \n",
       "\n",
       "   MentalHealth  DifficultyInWalking     Sex  AgeCategory Diabetic  \\\n",
       "0          30.0                    0  Female        55-59      Yes   \n",
       "1           0.0                    0  Female  80 or older       No   \n",
       "2          30.0                    0    Male        65-69      Yes   \n",
       "3           0.0                    0  Female        75-79       No   \n",
       "4           0.0                    1  Female        40-44       No   \n",
       "\n",
       "   PhysicalActivity GeneralHealth  SleepTime  Asthma  KidneyDisease  \\\n",
       "0                 1     Very good        5.0       1              0   \n",
       "1                 1     Very good        7.0       0              0   \n",
       "2                 1          Fair        8.0       1              0   \n",
       "3                 0          Good        6.0       0              0   \n",
       "4                 1     Very good        8.0       0              0   \n",
       "\n",
       "   SkinCancer  \n",
       "0           1  \n",
       "1           0  \n",
       "2           0  \n",
       "3           1  \n",
       "4           0  "
      ]
     },
     "execution_count": 265,
     "metadata": {},
     "output_type": "execute_result"
    }
   ],
   "source": [
    "df1.head()"
   ]
  },
  {
   "cell_type": "code",
   "execution_count": 266,
   "id": "f23b8602-6fcd-4f25-8eb4-b21df11c685c",
   "metadata": {},
   "outputs": [],
   "source": [
    "sexValues = {'Female':0,\n",
    "            'Male':1}\n",
    "df1['Sex'] = df1['Sex'].replace(sexValues)"
   ]
  },
  {
   "cell_type": "code",
   "execution_count": 267,
   "id": "ab8d6062-2660-4d42-81f3-e2417e04bf3f",
   "metadata": {},
   "outputs": [
    {
     "data": {
      "text/html": [
       "<div>\n",
       "<style scoped>\n",
       "    .dataframe tbody tr th:only-of-type {\n",
       "        vertical-align: middle;\n",
       "    }\n",
       "\n",
       "    .dataframe tbody tr th {\n",
       "        vertical-align: top;\n",
       "    }\n",
       "\n",
       "    .dataframe thead th {\n",
       "        text-align: right;\n",
       "    }\n",
       "</style>\n",
       "<table border=\"1\" class=\"dataframe\">\n",
       "  <thead>\n",
       "    <tr style=\"text-align: right;\">\n",
       "      <th></th>\n",
       "      <th>HeartDisease</th>\n",
       "      <th>BMI</th>\n",
       "      <th>Smoking</th>\n",
       "      <th>AlcoholDrinking</th>\n",
       "      <th>Stroke</th>\n",
       "      <th>PhysicalHealth</th>\n",
       "      <th>MentalHealth</th>\n",
       "      <th>DifficultyInWalking</th>\n",
       "      <th>Sex</th>\n",
       "      <th>AgeCategory</th>\n",
       "      <th>Diabetic</th>\n",
       "      <th>PhysicalActivity</th>\n",
       "      <th>GeneralHealth</th>\n",
       "      <th>SleepTime</th>\n",
       "      <th>Asthma</th>\n",
       "      <th>KidneyDisease</th>\n",
       "      <th>SkinCancer</th>\n",
       "    </tr>\n",
       "  </thead>\n",
       "  <tbody>\n",
       "    <tr>\n",
       "      <th>0</th>\n",
       "      <td>0</td>\n",
       "      <td>16.60</td>\n",
       "      <td>1</td>\n",
       "      <td>0</td>\n",
       "      <td>0</td>\n",
       "      <td>3.0</td>\n",
       "      <td>30.0</td>\n",
       "      <td>0</td>\n",
       "      <td>0</td>\n",
       "      <td>55-59</td>\n",
       "      <td>Yes</td>\n",
       "      <td>1</td>\n",
       "      <td>Very good</td>\n",
       "      <td>5.0</td>\n",
       "      <td>1</td>\n",
       "      <td>0</td>\n",
       "      <td>1</td>\n",
       "    </tr>\n",
       "    <tr>\n",
       "      <th>1</th>\n",
       "      <td>0</td>\n",
       "      <td>20.34</td>\n",
       "      <td>0</td>\n",
       "      <td>0</td>\n",
       "      <td>1</td>\n",
       "      <td>0.0</td>\n",
       "      <td>0.0</td>\n",
       "      <td>0</td>\n",
       "      <td>0</td>\n",
       "      <td>80 or older</td>\n",
       "      <td>No</td>\n",
       "      <td>1</td>\n",
       "      <td>Very good</td>\n",
       "      <td>7.0</td>\n",
       "      <td>0</td>\n",
       "      <td>0</td>\n",
       "      <td>0</td>\n",
       "    </tr>\n",
       "    <tr>\n",
       "      <th>2</th>\n",
       "      <td>0</td>\n",
       "      <td>26.58</td>\n",
       "      <td>1</td>\n",
       "      <td>0</td>\n",
       "      <td>0</td>\n",
       "      <td>20.0</td>\n",
       "      <td>30.0</td>\n",
       "      <td>0</td>\n",
       "      <td>1</td>\n",
       "      <td>65-69</td>\n",
       "      <td>Yes</td>\n",
       "      <td>1</td>\n",
       "      <td>Fair</td>\n",
       "      <td>8.0</td>\n",
       "      <td>1</td>\n",
       "      <td>0</td>\n",
       "      <td>0</td>\n",
       "    </tr>\n",
       "    <tr>\n",
       "      <th>3</th>\n",
       "      <td>0</td>\n",
       "      <td>24.21</td>\n",
       "      <td>0</td>\n",
       "      <td>0</td>\n",
       "      <td>0</td>\n",
       "      <td>0.0</td>\n",
       "      <td>0.0</td>\n",
       "      <td>0</td>\n",
       "      <td>0</td>\n",
       "      <td>75-79</td>\n",
       "      <td>No</td>\n",
       "      <td>0</td>\n",
       "      <td>Good</td>\n",
       "      <td>6.0</td>\n",
       "      <td>0</td>\n",
       "      <td>0</td>\n",
       "      <td>1</td>\n",
       "    </tr>\n",
       "    <tr>\n",
       "      <th>4</th>\n",
       "      <td>0</td>\n",
       "      <td>23.71</td>\n",
       "      <td>0</td>\n",
       "      <td>0</td>\n",
       "      <td>0</td>\n",
       "      <td>28.0</td>\n",
       "      <td>0.0</td>\n",
       "      <td>1</td>\n",
       "      <td>0</td>\n",
       "      <td>40-44</td>\n",
       "      <td>No</td>\n",
       "      <td>1</td>\n",
       "      <td>Very good</td>\n",
       "      <td>8.0</td>\n",
       "      <td>0</td>\n",
       "      <td>0</td>\n",
       "      <td>0</td>\n",
       "    </tr>\n",
       "  </tbody>\n",
       "</table>\n",
       "</div>"
      ],
      "text/plain": [
       "   HeartDisease    BMI  Smoking  AlcoholDrinking  Stroke  PhysicalHealth  \\\n",
       "0             0  16.60        1                0       0             3.0   \n",
       "1             0  20.34        0                0       1             0.0   \n",
       "2             0  26.58        1                0       0            20.0   \n",
       "3             0  24.21        0                0       0             0.0   \n",
       "4             0  23.71        0                0       0            28.0   \n",
       "\n",
       "   MentalHealth  DifficultyInWalking  Sex  AgeCategory Diabetic  \\\n",
       "0          30.0                    0    0        55-59      Yes   \n",
       "1           0.0                    0    0  80 or older       No   \n",
       "2          30.0                    0    1        65-69      Yes   \n",
       "3           0.0                    0    0        75-79       No   \n",
       "4           0.0                    1    0        40-44       No   \n",
       "\n",
       "   PhysicalActivity GeneralHealth  SleepTime  Asthma  KidneyDisease  \\\n",
       "0                 1     Very good        5.0       1              0   \n",
       "1                 1     Very good        7.0       0              0   \n",
       "2                 1          Fair        8.0       1              0   \n",
       "3                 0          Good        6.0       0              0   \n",
       "4                 1     Very good        8.0       0              0   \n",
       "\n",
       "   SkinCancer  \n",
       "0           1  \n",
       "1           0  \n",
       "2           0  \n",
       "3           1  \n",
       "4           0  "
      ]
     },
     "execution_count": 267,
     "metadata": {},
     "output_type": "execute_result"
    }
   ],
   "source": [
    "df1.head()"
   ]
  },
  {
   "cell_type": "code",
   "execution_count": 268,
   "id": "003c85b7-fbe5-4f08-969e-deab21a47a28",
   "metadata": {},
   "outputs": [],
   "source": [
    "ageCategory= {'18-24':0, '25-29':1, '30-34':2, '35-39':3,\n",
    "              '40-44':4, '45-49':5, '50-54':6, '55-59':7,\n",
    "              '60-64':8,'65-69':9, '70-74':10, '75-79':11,\n",
    "              '80 or older':12}\n",
    "df1['AgeCategory'] = df1['AgeCategory'].replace(ageCategory)"
   ]
  },
  {
   "cell_type": "code",
   "execution_count": 269,
   "id": "20086f82-461c-42db-98f9-f48705d0d45c",
   "metadata": {},
   "outputs": [
    {
     "data": {
      "text/html": [
       "<div>\n",
       "<style scoped>\n",
       "    .dataframe tbody tr th:only-of-type {\n",
       "        vertical-align: middle;\n",
       "    }\n",
       "\n",
       "    .dataframe tbody tr th {\n",
       "        vertical-align: top;\n",
       "    }\n",
       "\n",
       "    .dataframe thead th {\n",
       "        text-align: right;\n",
       "    }\n",
       "</style>\n",
       "<table border=\"1\" class=\"dataframe\">\n",
       "  <thead>\n",
       "    <tr style=\"text-align: right;\">\n",
       "      <th></th>\n",
       "      <th>HeartDisease</th>\n",
       "      <th>BMI</th>\n",
       "      <th>Smoking</th>\n",
       "      <th>AlcoholDrinking</th>\n",
       "      <th>Stroke</th>\n",
       "      <th>PhysicalHealth</th>\n",
       "      <th>MentalHealth</th>\n",
       "      <th>DifficultyInWalking</th>\n",
       "      <th>Sex</th>\n",
       "      <th>AgeCategory</th>\n",
       "      <th>Diabetic</th>\n",
       "      <th>PhysicalActivity</th>\n",
       "      <th>GeneralHealth</th>\n",
       "      <th>SleepTime</th>\n",
       "      <th>Asthma</th>\n",
       "      <th>KidneyDisease</th>\n",
       "      <th>SkinCancer</th>\n",
       "    </tr>\n",
       "  </thead>\n",
       "  <tbody>\n",
       "    <tr>\n",
       "      <th>0</th>\n",
       "      <td>0</td>\n",
       "      <td>16.60</td>\n",
       "      <td>1</td>\n",
       "      <td>0</td>\n",
       "      <td>0</td>\n",
       "      <td>3.0</td>\n",
       "      <td>30.0</td>\n",
       "      <td>0</td>\n",
       "      <td>0</td>\n",
       "      <td>7</td>\n",
       "      <td>Yes</td>\n",
       "      <td>1</td>\n",
       "      <td>Very good</td>\n",
       "      <td>5.0</td>\n",
       "      <td>1</td>\n",
       "      <td>0</td>\n",
       "      <td>1</td>\n",
       "    </tr>\n",
       "    <tr>\n",
       "      <th>1</th>\n",
       "      <td>0</td>\n",
       "      <td>20.34</td>\n",
       "      <td>0</td>\n",
       "      <td>0</td>\n",
       "      <td>1</td>\n",
       "      <td>0.0</td>\n",
       "      <td>0.0</td>\n",
       "      <td>0</td>\n",
       "      <td>0</td>\n",
       "      <td>12</td>\n",
       "      <td>No</td>\n",
       "      <td>1</td>\n",
       "      <td>Very good</td>\n",
       "      <td>7.0</td>\n",
       "      <td>0</td>\n",
       "      <td>0</td>\n",
       "      <td>0</td>\n",
       "    </tr>\n",
       "    <tr>\n",
       "      <th>2</th>\n",
       "      <td>0</td>\n",
       "      <td>26.58</td>\n",
       "      <td>1</td>\n",
       "      <td>0</td>\n",
       "      <td>0</td>\n",
       "      <td>20.0</td>\n",
       "      <td>30.0</td>\n",
       "      <td>0</td>\n",
       "      <td>1</td>\n",
       "      <td>9</td>\n",
       "      <td>Yes</td>\n",
       "      <td>1</td>\n",
       "      <td>Fair</td>\n",
       "      <td>8.0</td>\n",
       "      <td>1</td>\n",
       "      <td>0</td>\n",
       "      <td>0</td>\n",
       "    </tr>\n",
       "    <tr>\n",
       "      <th>3</th>\n",
       "      <td>0</td>\n",
       "      <td>24.21</td>\n",
       "      <td>0</td>\n",
       "      <td>0</td>\n",
       "      <td>0</td>\n",
       "      <td>0.0</td>\n",
       "      <td>0.0</td>\n",
       "      <td>0</td>\n",
       "      <td>0</td>\n",
       "      <td>11</td>\n",
       "      <td>No</td>\n",
       "      <td>0</td>\n",
       "      <td>Good</td>\n",
       "      <td>6.0</td>\n",
       "      <td>0</td>\n",
       "      <td>0</td>\n",
       "      <td>1</td>\n",
       "    </tr>\n",
       "    <tr>\n",
       "      <th>4</th>\n",
       "      <td>0</td>\n",
       "      <td>23.71</td>\n",
       "      <td>0</td>\n",
       "      <td>0</td>\n",
       "      <td>0</td>\n",
       "      <td>28.0</td>\n",
       "      <td>0.0</td>\n",
       "      <td>1</td>\n",
       "      <td>0</td>\n",
       "      <td>4</td>\n",
       "      <td>No</td>\n",
       "      <td>1</td>\n",
       "      <td>Very good</td>\n",
       "      <td>8.0</td>\n",
       "      <td>0</td>\n",
       "      <td>0</td>\n",
       "      <td>0</td>\n",
       "    </tr>\n",
       "  </tbody>\n",
       "</table>\n",
       "</div>"
      ],
      "text/plain": [
       "   HeartDisease    BMI  Smoking  AlcoholDrinking  Stroke  PhysicalHealth  \\\n",
       "0             0  16.60        1                0       0             3.0   \n",
       "1             0  20.34        0                0       1             0.0   \n",
       "2             0  26.58        1                0       0            20.0   \n",
       "3             0  24.21        0                0       0             0.0   \n",
       "4             0  23.71        0                0       0            28.0   \n",
       "\n",
       "   MentalHealth  DifficultyInWalking  Sex  AgeCategory Diabetic  \\\n",
       "0          30.0                    0    0            7      Yes   \n",
       "1           0.0                    0    0           12       No   \n",
       "2          30.0                    0    1            9      Yes   \n",
       "3           0.0                    0    0           11       No   \n",
       "4           0.0                    1    0            4       No   \n",
       "\n",
       "   PhysicalActivity GeneralHealth  SleepTime  Asthma  KidneyDisease  \\\n",
       "0                 1     Very good        5.0       1              0   \n",
       "1                 1     Very good        7.0       0              0   \n",
       "2                 1          Fair        8.0       1              0   \n",
       "3                 0          Good        6.0       0              0   \n",
       "4                 1     Very good        8.0       0              0   \n",
       "\n",
       "   SkinCancer  \n",
       "0           1  \n",
       "1           0  \n",
       "2           0  \n",
       "3           1  \n",
       "4           0  "
      ]
     },
     "execution_count": 269,
     "metadata": {},
     "output_type": "execute_result"
    }
   ],
   "source": [
    "df1.head()"
   ]
  },
  {
   "cell_type": "code",
   "execution_count": 270,
   "id": "958de001-749f-4a39-9739-8678e35c9098",
   "metadata": {},
   "outputs": [],
   "source": [
    "generalHealth = {'Poor':0, 'Fair':1, 'Good':2, 'Very good':3, 'Excellent':4}\n",
    "df1['GeneralHealth'] = df1['GeneralHealth'].replace(generalHealth)"
   ]
  },
  {
   "cell_type": "code",
   "execution_count": 271,
   "id": "8679995d-432a-4872-8597-fe97c78f9f67",
   "metadata": {},
   "outputs": [
    {
     "data": {
      "text/html": [
       "<div>\n",
       "<style scoped>\n",
       "    .dataframe tbody tr th:only-of-type {\n",
       "        vertical-align: middle;\n",
       "    }\n",
       "\n",
       "    .dataframe tbody tr th {\n",
       "        vertical-align: top;\n",
       "    }\n",
       "\n",
       "    .dataframe thead th {\n",
       "        text-align: right;\n",
       "    }\n",
       "</style>\n",
       "<table border=\"1\" class=\"dataframe\">\n",
       "  <thead>\n",
       "    <tr style=\"text-align: right;\">\n",
       "      <th></th>\n",
       "      <th>HeartDisease</th>\n",
       "      <th>BMI</th>\n",
       "      <th>Smoking</th>\n",
       "      <th>AlcoholDrinking</th>\n",
       "      <th>Stroke</th>\n",
       "      <th>PhysicalHealth</th>\n",
       "      <th>MentalHealth</th>\n",
       "      <th>DifficultyInWalking</th>\n",
       "      <th>Sex</th>\n",
       "      <th>AgeCategory</th>\n",
       "      <th>Diabetic</th>\n",
       "      <th>PhysicalActivity</th>\n",
       "      <th>GeneralHealth</th>\n",
       "      <th>SleepTime</th>\n",
       "      <th>Asthma</th>\n",
       "      <th>KidneyDisease</th>\n",
       "      <th>SkinCancer</th>\n",
       "    </tr>\n",
       "  </thead>\n",
       "  <tbody>\n",
       "    <tr>\n",
       "      <th>0</th>\n",
       "      <td>0</td>\n",
       "      <td>16.60</td>\n",
       "      <td>1</td>\n",
       "      <td>0</td>\n",
       "      <td>0</td>\n",
       "      <td>3.0</td>\n",
       "      <td>30.0</td>\n",
       "      <td>0</td>\n",
       "      <td>0</td>\n",
       "      <td>7</td>\n",
       "      <td>Yes</td>\n",
       "      <td>1</td>\n",
       "      <td>3</td>\n",
       "      <td>5.0</td>\n",
       "      <td>1</td>\n",
       "      <td>0</td>\n",
       "      <td>1</td>\n",
       "    </tr>\n",
       "    <tr>\n",
       "      <th>1</th>\n",
       "      <td>0</td>\n",
       "      <td>20.34</td>\n",
       "      <td>0</td>\n",
       "      <td>0</td>\n",
       "      <td>1</td>\n",
       "      <td>0.0</td>\n",
       "      <td>0.0</td>\n",
       "      <td>0</td>\n",
       "      <td>0</td>\n",
       "      <td>12</td>\n",
       "      <td>No</td>\n",
       "      <td>1</td>\n",
       "      <td>3</td>\n",
       "      <td>7.0</td>\n",
       "      <td>0</td>\n",
       "      <td>0</td>\n",
       "      <td>0</td>\n",
       "    </tr>\n",
       "    <tr>\n",
       "      <th>2</th>\n",
       "      <td>0</td>\n",
       "      <td>26.58</td>\n",
       "      <td>1</td>\n",
       "      <td>0</td>\n",
       "      <td>0</td>\n",
       "      <td>20.0</td>\n",
       "      <td>30.0</td>\n",
       "      <td>0</td>\n",
       "      <td>1</td>\n",
       "      <td>9</td>\n",
       "      <td>Yes</td>\n",
       "      <td>1</td>\n",
       "      <td>1</td>\n",
       "      <td>8.0</td>\n",
       "      <td>1</td>\n",
       "      <td>0</td>\n",
       "      <td>0</td>\n",
       "    </tr>\n",
       "    <tr>\n",
       "      <th>3</th>\n",
       "      <td>0</td>\n",
       "      <td>24.21</td>\n",
       "      <td>0</td>\n",
       "      <td>0</td>\n",
       "      <td>0</td>\n",
       "      <td>0.0</td>\n",
       "      <td>0.0</td>\n",
       "      <td>0</td>\n",
       "      <td>0</td>\n",
       "      <td>11</td>\n",
       "      <td>No</td>\n",
       "      <td>0</td>\n",
       "      <td>2</td>\n",
       "      <td>6.0</td>\n",
       "      <td>0</td>\n",
       "      <td>0</td>\n",
       "      <td>1</td>\n",
       "    </tr>\n",
       "    <tr>\n",
       "      <th>4</th>\n",
       "      <td>0</td>\n",
       "      <td>23.71</td>\n",
       "      <td>0</td>\n",
       "      <td>0</td>\n",
       "      <td>0</td>\n",
       "      <td>28.0</td>\n",
       "      <td>0.0</td>\n",
       "      <td>1</td>\n",
       "      <td>0</td>\n",
       "      <td>4</td>\n",
       "      <td>No</td>\n",
       "      <td>1</td>\n",
       "      <td>3</td>\n",
       "      <td>8.0</td>\n",
       "      <td>0</td>\n",
       "      <td>0</td>\n",
       "      <td>0</td>\n",
       "    </tr>\n",
       "  </tbody>\n",
       "</table>\n",
       "</div>"
      ],
      "text/plain": [
       "   HeartDisease    BMI  Smoking  AlcoholDrinking  Stroke  PhysicalHealth  \\\n",
       "0             0  16.60        1                0       0             3.0   \n",
       "1             0  20.34        0                0       1             0.0   \n",
       "2             0  26.58        1                0       0            20.0   \n",
       "3             0  24.21        0                0       0             0.0   \n",
       "4             0  23.71        0                0       0            28.0   \n",
       "\n",
       "   MentalHealth  DifficultyInWalking  Sex  AgeCategory Diabetic  \\\n",
       "0          30.0                    0    0            7      Yes   \n",
       "1           0.0                    0    0           12       No   \n",
       "2          30.0                    0    1            9      Yes   \n",
       "3           0.0                    0    0           11       No   \n",
       "4           0.0                    1    0            4       No   \n",
       "\n",
       "   PhysicalActivity  GeneralHealth  SleepTime  Asthma  KidneyDisease  \\\n",
       "0                 1              3        5.0       1              0   \n",
       "1                 1              3        7.0       0              0   \n",
       "2                 1              1        8.0       1              0   \n",
       "3                 0              2        6.0       0              0   \n",
       "4                 1              3        8.0       0              0   \n",
       "\n",
       "   SkinCancer  \n",
       "0           1  \n",
       "1           0  \n",
       "2           0  \n",
       "3           1  \n",
       "4           0  "
      ]
     },
     "execution_count": 271,
     "metadata": {},
     "output_type": "execute_result"
    }
   ],
   "source": [
    "df1.head()"
   ]
  },
  {
   "cell_type": "code",
   "execution_count": 272,
   "id": "8d2e9587-220c-41e0-9551-e3e20b3de440",
   "metadata": {},
   "outputs": [],
   "source": [
    "diabetic = {'No':0, 'No, borderline diabetes':1,\n",
    "            'Yes (during pregnancy)':2, 'Yes':3}\n",
    "df1['Diabetic'] = df1['Diabetic'].replace(diabetic)"
   ]
  },
  {
   "cell_type": "code",
   "execution_count": 273,
   "id": "e68b03c2-1c2d-40ad-b04f-ffb95744fb30",
   "metadata": {},
   "outputs": [
    {
     "data": {
      "text/html": [
       "<div>\n",
       "<style scoped>\n",
       "    .dataframe tbody tr th:only-of-type {\n",
       "        vertical-align: middle;\n",
       "    }\n",
       "\n",
       "    .dataframe tbody tr th {\n",
       "        vertical-align: top;\n",
       "    }\n",
       "\n",
       "    .dataframe thead th {\n",
       "        text-align: right;\n",
       "    }\n",
       "</style>\n",
       "<table border=\"1\" class=\"dataframe\">\n",
       "  <thead>\n",
       "    <tr style=\"text-align: right;\">\n",
       "      <th></th>\n",
       "      <th>HeartDisease</th>\n",
       "      <th>BMI</th>\n",
       "      <th>Smoking</th>\n",
       "      <th>AlcoholDrinking</th>\n",
       "      <th>Stroke</th>\n",
       "      <th>PhysicalHealth</th>\n",
       "      <th>MentalHealth</th>\n",
       "      <th>DifficultyInWalking</th>\n",
       "      <th>Sex</th>\n",
       "      <th>AgeCategory</th>\n",
       "      <th>Diabetic</th>\n",
       "      <th>PhysicalActivity</th>\n",
       "      <th>GeneralHealth</th>\n",
       "      <th>SleepTime</th>\n",
       "      <th>Asthma</th>\n",
       "      <th>KidneyDisease</th>\n",
       "      <th>SkinCancer</th>\n",
       "    </tr>\n",
       "  </thead>\n",
       "  <tbody>\n",
       "    <tr>\n",
       "      <th>0</th>\n",
       "      <td>0</td>\n",
       "      <td>16.60</td>\n",
       "      <td>1</td>\n",
       "      <td>0</td>\n",
       "      <td>0</td>\n",
       "      <td>3.0</td>\n",
       "      <td>30.0</td>\n",
       "      <td>0</td>\n",
       "      <td>0</td>\n",
       "      <td>7</td>\n",
       "      <td>3</td>\n",
       "      <td>1</td>\n",
       "      <td>3</td>\n",
       "      <td>5.0</td>\n",
       "      <td>1</td>\n",
       "      <td>0</td>\n",
       "      <td>1</td>\n",
       "    </tr>\n",
       "    <tr>\n",
       "      <th>1</th>\n",
       "      <td>0</td>\n",
       "      <td>20.34</td>\n",
       "      <td>0</td>\n",
       "      <td>0</td>\n",
       "      <td>1</td>\n",
       "      <td>0.0</td>\n",
       "      <td>0.0</td>\n",
       "      <td>0</td>\n",
       "      <td>0</td>\n",
       "      <td>12</td>\n",
       "      <td>0</td>\n",
       "      <td>1</td>\n",
       "      <td>3</td>\n",
       "      <td>7.0</td>\n",
       "      <td>0</td>\n",
       "      <td>0</td>\n",
       "      <td>0</td>\n",
       "    </tr>\n",
       "    <tr>\n",
       "      <th>2</th>\n",
       "      <td>0</td>\n",
       "      <td>26.58</td>\n",
       "      <td>1</td>\n",
       "      <td>0</td>\n",
       "      <td>0</td>\n",
       "      <td>20.0</td>\n",
       "      <td>30.0</td>\n",
       "      <td>0</td>\n",
       "      <td>1</td>\n",
       "      <td>9</td>\n",
       "      <td>3</td>\n",
       "      <td>1</td>\n",
       "      <td>1</td>\n",
       "      <td>8.0</td>\n",
       "      <td>1</td>\n",
       "      <td>0</td>\n",
       "      <td>0</td>\n",
       "    </tr>\n",
       "    <tr>\n",
       "      <th>3</th>\n",
       "      <td>0</td>\n",
       "      <td>24.21</td>\n",
       "      <td>0</td>\n",
       "      <td>0</td>\n",
       "      <td>0</td>\n",
       "      <td>0.0</td>\n",
       "      <td>0.0</td>\n",
       "      <td>0</td>\n",
       "      <td>0</td>\n",
       "      <td>11</td>\n",
       "      <td>0</td>\n",
       "      <td>0</td>\n",
       "      <td>2</td>\n",
       "      <td>6.0</td>\n",
       "      <td>0</td>\n",
       "      <td>0</td>\n",
       "      <td>1</td>\n",
       "    </tr>\n",
       "    <tr>\n",
       "      <th>4</th>\n",
       "      <td>0</td>\n",
       "      <td>23.71</td>\n",
       "      <td>0</td>\n",
       "      <td>0</td>\n",
       "      <td>0</td>\n",
       "      <td>28.0</td>\n",
       "      <td>0.0</td>\n",
       "      <td>1</td>\n",
       "      <td>0</td>\n",
       "      <td>4</td>\n",
       "      <td>0</td>\n",
       "      <td>1</td>\n",
       "      <td>3</td>\n",
       "      <td>8.0</td>\n",
       "      <td>0</td>\n",
       "      <td>0</td>\n",
       "      <td>0</td>\n",
       "    </tr>\n",
       "  </tbody>\n",
       "</table>\n",
       "</div>"
      ],
      "text/plain": [
       "   HeartDisease    BMI  Smoking  AlcoholDrinking  Stroke  PhysicalHealth  \\\n",
       "0             0  16.60        1                0       0             3.0   \n",
       "1             0  20.34        0                0       1             0.0   \n",
       "2             0  26.58        1                0       0            20.0   \n",
       "3             0  24.21        0                0       0             0.0   \n",
       "4             0  23.71        0                0       0            28.0   \n",
       "\n",
       "   MentalHealth  DifficultyInWalking  Sex  AgeCategory  Diabetic  \\\n",
       "0          30.0                    0    0            7         3   \n",
       "1           0.0                    0    0           12         0   \n",
       "2          30.0                    0    1            9         3   \n",
       "3           0.0                    0    0           11         0   \n",
       "4           0.0                    1    0            4         0   \n",
       "\n",
       "   PhysicalActivity  GeneralHealth  SleepTime  Asthma  KidneyDisease  \\\n",
       "0                 1              3        5.0       1              0   \n",
       "1                 1              3        7.0       0              0   \n",
       "2                 1              1        8.0       1              0   \n",
       "3                 0              2        6.0       0              0   \n",
       "4                 1              3        8.0       0              0   \n",
       "\n",
       "   SkinCancer  \n",
       "0           1  \n",
       "1           0  \n",
       "2           0  \n",
       "3           1  \n",
       "4           0  "
      ]
     },
     "execution_count": 273,
     "metadata": {},
     "output_type": "execute_result"
    }
   ],
   "source": [
    "df1.head()"
   ]
  },
  {
   "cell_type": "code",
   "execution_count": 274,
   "id": "00623908-5868-4cc5-bf36-1922cf39ebde",
   "metadata": {},
   "outputs": [
    {
     "data": {
      "text/plain": [
       "HeartDisease             int64\n",
       "BMI                    float64\n",
       "Smoking                  int64\n",
       "AlcoholDrinking          int64\n",
       "Stroke                   int64\n",
       "PhysicalHealth         float64\n",
       "MentalHealth           float64\n",
       "DifficultyInWalking      int64\n",
       "Sex                      int64\n",
       "AgeCategory              int64\n",
       "Diabetic                 int64\n",
       "PhysicalActivity         int64\n",
       "GeneralHealth            int64\n",
       "SleepTime              float64\n",
       "Asthma                   int64\n",
       "KidneyDisease            int64\n",
       "SkinCancer               int64\n",
       "dtype: object"
      ]
     },
     "execution_count": 274,
     "metadata": {},
     "output_type": "execute_result"
    }
   ],
   "source": [
    "df1.dtypes"
   ]
  },
  {
   "cell_type": "markdown",
   "id": "b1eaf9a3-81b8-4b01-b5ae-3c0fbca12120",
   "metadata": {},
   "source": [
    "## P-value method for feature selection"
   ]
  },
  {
   "cell_type": "code",
   "execution_count": 275,
   "id": "57e20df5-59d0-42de-bbe2-3c7da8403ddb",
   "metadata": {},
   "outputs": [],
   "source": [
    "from sklearn.feature_selection import SelectKBest\n",
    "from sklearn.feature_selection import f_regression"
   ]
  },
  {
   "cell_type": "code",
   "execution_count": 276,
   "id": "2450b0ec-322d-42bb-a5fd-206d698c31eb",
   "metadata": {},
   "outputs": [
    {
     "name": "stdout",
     "output_type": "stream",
     "text": [
      "     BMI  Smoking  AlcoholDrinking  Stroke  PhysicalHealth  MentalHealth  \\\n",
      "0  16.60        1                0       0             3.0          30.0   \n",
      "1  20.34        0                0       1             0.0           0.0   \n",
      "2  26.58        1                0       0            20.0          30.0   \n",
      "3  24.21        0                0       0             0.0           0.0   \n",
      "4  23.71        0                0       0            28.0           0.0   \n",
      "\n",
      "   DifficultyInWalking  Sex  AgeCategory  Diabetic  PhysicalActivity  \\\n",
      "0                    0    0            7         3                 1   \n",
      "1                    0    0           12         0                 1   \n",
      "2                    0    1            9         3                 1   \n",
      "3                    0    0           11         0                 0   \n",
      "4                    1    0            4         0                 1   \n",
      "\n",
      "   GeneralHealth  SleepTime  Asthma  KidneyDisease  SkinCancer  \n",
      "0              3        5.0       1              0           1  \n",
      "1              3        7.0       0              0           0  \n",
      "2              1        8.0       1              0           0  \n",
      "3              2        6.0       0              0           1  \n",
      "4              3        8.0       0              0           0  \n",
      "0    0\n",
      "1    0\n",
      "2    0\n",
      "3    0\n",
      "4    0\n",
      "Name: HeartDisease, dtype: int64\n"
     ]
    }
   ],
   "source": [
    "X = df1.drop('HeartDisease',axis=1)\n",
    "y = df1['HeartDisease']\n",
    "print(X.head())\n",
    "print(y.head())"
   ]
  },
  {
   "cell_type": "code",
   "execution_count": 277,
   "id": "dae383d8-a65c-46c2-a198-6eb393d47f36",
   "metadata": {},
   "outputs": [
    {
     "name": "stdout",
     "output_type": "stream",
     "text": [
      "[6.521e-136 0.000e+000 4.753e-095 0.000e+000 0.000e+000 2.338e-022\n",
      " 0.000e+000 0.000e+000 0.000e+000 0.000e+000 0.000e+000 0.000e+000\n",
      " 3.904e-010 2.058e-074 0.000e+000 0.000e+000]\n",
      "[  616.319  3138.944   428.169 11519.168  8053.444    94.609 11591.777\n",
      "  1727.51  17919.06   9260.145  2482.053 17449.904    39.163   333.262\n",
      "  6046.699  2351.198]\n",
      "[ True  True  True  True  True  True  True  True  True  True  True  True\n",
      "  True  True  True  True]\n",
      "          BMI  Smoking  AlcoholDrinking  Stroke  PhysicalHealth  MentalHealth  \\\n",
      "0       16.60        1                0       0             3.0          30.0   \n",
      "1       20.34        0                0       1             0.0           0.0   \n",
      "2       26.58        1                0       0            20.0          30.0   \n",
      "3       24.21        0                0       0             0.0           0.0   \n",
      "4       23.71        0                0       0            28.0           0.0   \n",
      "...       ...      ...              ...     ...             ...           ...   \n",
      "319790  27.41        1                0       0             7.0           0.0   \n",
      "319791  29.84        1                0       0             0.0           0.0   \n",
      "319792  24.24        0                0       0             0.0           0.0   \n",
      "319793  32.81        0                0       0             0.0           0.0   \n",
      "319794  46.56        0                0       0             0.0           0.0   \n",
      "\n",
      "        DifficultyInWalking  Sex  AgeCategory  Diabetic  PhysicalActivity  \\\n",
      "0                         0    0            7         3                 1   \n",
      "1                         0    0           12         0                 1   \n",
      "2                         0    1            9         3                 1   \n",
      "3                         0    0           11         0                 0   \n",
      "4                         1    0            4         0                 1   \n",
      "...                     ...  ...          ...       ...               ...   \n",
      "319790                    1    1            8         3                 0   \n",
      "319791                    0    1            3         0                 1   \n",
      "319792                    0    0            5         0                 1   \n",
      "319793                    0    0            1         0                 0   \n",
      "319794                    0    0           12         0                 1   \n",
      "\n",
      "        GeneralHealth  SleepTime  Asthma  KidneyDisease  SkinCancer  \n",
      "0                   3        5.0       1              0           1  \n",
      "1                   3        7.0       0              0           0  \n",
      "2                   1        8.0       1              0           0  \n",
      "3                   2        6.0       0              0           1  \n",
      "4                   3        8.0       0              0           0  \n",
      "...               ...        ...     ...            ...         ...  \n",
      "319790              1        6.0       1              0           0  \n",
      "319791              3        5.0       1              0           0  \n",
      "319792              2        6.0       0              0           0  \n",
      "319793              2       12.0       0              0           0  \n",
      "319794              2        8.0       0              0           0  \n",
      "\n",
      "[295450 rows x 16 columns]\n",
      "Shape of the new feature set: (295450, 16)\n"
     ]
    },
    {
     "data": {
      "text/html": [
       "<div>\n",
       "<style scoped>\n",
       "    .dataframe tbody tr th:only-of-type {\n",
       "        vertical-align: middle;\n",
       "    }\n",
       "\n",
       "    .dataframe tbody tr th {\n",
       "        vertical-align: top;\n",
       "    }\n",
       "\n",
       "    .dataframe thead th {\n",
       "        text-align: right;\n",
       "    }\n",
       "</style>\n",
       "<table border=\"1\" class=\"dataframe\">\n",
       "  <thead>\n",
       "    <tr style=\"text-align: right;\">\n",
       "      <th></th>\n",
       "      <th>BMI</th>\n",
       "      <th>Smoking</th>\n",
       "      <th>AlcoholDrinking</th>\n",
       "      <th>Stroke</th>\n",
       "      <th>PhysicalHealth</th>\n",
       "      <th>MentalHealth</th>\n",
       "      <th>DifficultyInWalking</th>\n",
       "      <th>Sex</th>\n",
       "      <th>AgeCategory</th>\n",
       "      <th>Diabetic</th>\n",
       "      <th>PhysicalActivity</th>\n",
       "      <th>GeneralHealth</th>\n",
       "      <th>SleepTime</th>\n",
       "      <th>Asthma</th>\n",
       "      <th>KidneyDisease</th>\n",
       "      <th>SkinCancer</th>\n",
       "    </tr>\n",
       "  </thead>\n",
       "  <tbody>\n",
       "    <tr>\n",
       "      <th>0</th>\n",
       "      <td>16.60</td>\n",
       "      <td>1</td>\n",
       "      <td>0</td>\n",
       "      <td>0</td>\n",
       "      <td>3.0</td>\n",
       "      <td>30.0</td>\n",
       "      <td>0</td>\n",
       "      <td>0</td>\n",
       "      <td>7</td>\n",
       "      <td>3</td>\n",
       "      <td>1</td>\n",
       "      <td>3</td>\n",
       "      <td>5.0</td>\n",
       "      <td>1</td>\n",
       "      <td>0</td>\n",
       "      <td>1</td>\n",
       "    </tr>\n",
       "    <tr>\n",
       "      <th>1</th>\n",
       "      <td>20.34</td>\n",
       "      <td>0</td>\n",
       "      <td>0</td>\n",
       "      <td>1</td>\n",
       "      <td>0.0</td>\n",
       "      <td>0.0</td>\n",
       "      <td>0</td>\n",
       "      <td>0</td>\n",
       "      <td>12</td>\n",
       "      <td>0</td>\n",
       "      <td>1</td>\n",
       "      <td>3</td>\n",
       "      <td>7.0</td>\n",
       "      <td>0</td>\n",
       "      <td>0</td>\n",
       "      <td>0</td>\n",
       "    </tr>\n",
       "    <tr>\n",
       "      <th>2</th>\n",
       "      <td>26.58</td>\n",
       "      <td>1</td>\n",
       "      <td>0</td>\n",
       "      <td>0</td>\n",
       "      <td>20.0</td>\n",
       "      <td>30.0</td>\n",
       "      <td>0</td>\n",
       "      <td>1</td>\n",
       "      <td>9</td>\n",
       "      <td>3</td>\n",
       "      <td>1</td>\n",
       "      <td>1</td>\n",
       "      <td>8.0</td>\n",
       "      <td>1</td>\n",
       "      <td>0</td>\n",
       "      <td>0</td>\n",
       "    </tr>\n",
       "    <tr>\n",
       "      <th>3</th>\n",
       "      <td>24.21</td>\n",
       "      <td>0</td>\n",
       "      <td>0</td>\n",
       "      <td>0</td>\n",
       "      <td>0.0</td>\n",
       "      <td>0.0</td>\n",
       "      <td>0</td>\n",
       "      <td>0</td>\n",
       "      <td>11</td>\n",
       "      <td>0</td>\n",
       "      <td>0</td>\n",
       "      <td>2</td>\n",
       "      <td>6.0</td>\n",
       "      <td>0</td>\n",
       "      <td>0</td>\n",
       "      <td>1</td>\n",
       "    </tr>\n",
       "    <tr>\n",
       "      <th>4</th>\n",
       "      <td>23.71</td>\n",
       "      <td>0</td>\n",
       "      <td>0</td>\n",
       "      <td>0</td>\n",
       "      <td>28.0</td>\n",
       "      <td>0.0</td>\n",
       "      <td>1</td>\n",
       "      <td>0</td>\n",
       "      <td>4</td>\n",
       "      <td>0</td>\n",
       "      <td>1</td>\n",
       "      <td>3</td>\n",
       "      <td>8.0</td>\n",
       "      <td>0</td>\n",
       "      <td>0</td>\n",
       "      <td>0</td>\n",
       "    </tr>\n",
       "  </tbody>\n",
       "</table>\n",
       "</div>"
      ],
      "text/plain": [
       "     BMI  Smoking  AlcoholDrinking  Stroke  PhysicalHealth  MentalHealth  \\\n",
       "0  16.60        1                0       0             3.0          30.0   \n",
       "1  20.34        0                0       1             0.0           0.0   \n",
       "2  26.58        1                0       0            20.0          30.0   \n",
       "3  24.21        0                0       0             0.0           0.0   \n",
       "4  23.71        0                0       0            28.0           0.0   \n",
       "\n",
       "   DifficultyInWalking  Sex  AgeCategory  Diabetic  PhysicalActivity  \\\n",
       "0                    0    0            7         3                 1   \n",
       "1                    0    0           12         0                 1   \n",
       "2                    0    1            9         3                 1   \n",
       "3                    0    0           11         0                 0   \n",
       "4                    1    0            4         0                 1   \n",
       "\n",
       "   GeneralHealth  SleepTime  Asthma  KidneyDisease  SkinCancer  \n",
       "0              3        5.0       1              0           1  \n",
       "1              3        7.0       0              0           0  \n",
       "2              1        8.0       1              0           0  \n",
       "3              2        6.0       0              0           1  \n",
       "4              3        8.0       0              0           0  "
      ]
     },
     "execution_count": 277,
     "metadata": {},
     "output_type": "execute_result"
    }
   ],
   "source": [
    "# Perform feature selection using SelectKBest and f_regression\n",
    "selector = SelectKBest(score_func=f_regression, k=16)\n",
    "fit = selector.fit(X, y)\n",
    "\n",
    "# Get the p-values for each feature\n",
    "p_values = fit.pvalues_\n",
    "print(p_values)\n",
    "\n",
    "f_values = fit.scores_\n",
    "print(f_values)\n",
    "\n",
    "# Create a mask to select only the features with p-values below a certain threshold\n",
    "mask = p_values < 0.05\n",
    "print(mask)\n",
    "\n",
    "# Select the features with low p-values\n",
    "X_new = X.iloc[:,mask]\n",
    "print(X_new)\n",
    "\n",
    "# Print the shape of the new feature set\n",
    "print(\"Shape of the new feature set:\", X_new.shape)\n",
    "X_new.head()"
   ]
  },
  {
   "cell_type": "markdown",
   "id": "c48fa496-4347-428f-b19e-a78781069637",
   "metadata": {},
   "source": [
    "## Correlation"
   ]
  },
  {
   "cell_type": "code",
   "execution_count": 278,
   "id": "98c1044d-c8de-4036-9825-3c8252595e76",
   "metadata": {},
   "outputs": [
    {
     "data": {
      "text/html": [
       "<div>\n",
       "<style scoped>\n",
       "    .dataframe tbody tr th:only-of-type {\n",
       "        vertical-align: middle;\n",
       "    }\n",
       "\n",
       "    .dataframe tbody tr th {\n",
       "        vertical-align: top;\n",
       "    }\n",
       "\n",
       "    .dataframe thead th {\n",
       "        text-align: right;\n",
       "    }\n",
       "</style>\n",
       "<table border=\"1\" class=\"dataframe\">\n",
       "  <thead>\n",
       "    <tr style=\"text-align: right;\">\n",
       "      <th></th>\n",
       "      <th>HeartDisease</th>\n",
       "      <th>BMI</th>\n",
       "      <th>Smoking</th>\n",
       "      <th>AlcoholDrinking</th>\n",
       "      <th>Stroke</th>\n",
       "      <th>PhysicalHealth</th>\n",
       "      <th>MentalHealth</th>\n",
       "      <th>DifficultyInWalking</th>\n",
       "      <th>Sex</th>\n",
       "      <th>AgeCategory</th>\n",
       "      <th>Diabetic</th>\n",
       "      <th>PhysicalActivity</th>\n",
       "      <th>GeneralHealth</th>\n",
       "      <th>SleepTime</th>\n",
       "      <th>Asthma</th>\n",
       "      <th>KidneyDisease</th>\n",
       "      <th>SkinCancer</th>\n",
       "    </tr>\n",
       "  </thead>\n",
       "  <tbody>\n",
       "    <tr>\n",
       "      <th>HeartDisease</th>\n",
       "      <td>1.000000</td>\n",
       "      <td>0.045626</td>\n",
       "      <td>0.102531</td>\n",
       "      <td>-0.038041</td>\n",
       "      <td>0.193716</td>\n",
       "      <td>0.162896</td>\n",
       "      <td>0.017892</td>\n",
       "      <td>0.194302</td>\n",
       "      <td>0.076244</td>\n",
       "      <td>0.239128</td>\n",
       "      <td>0.174328</td>\n",
       "      <td>-0.091274</td>\n",
       "      <td>-0.236154</td>\n",
       "      <td>0.011513</td>\n",
       "      <td>0.033567</td>\n",
       "      <td>0.141618</td>\n",
       "      <td>0.088855</td>\n",
       "    </tr>\n",
       "    <tr>\n",
       "      <th>BMI</th>\n",
       "      <td>0.045626</td>\n",
       "      <td>1.000000</td>\n",
       "      <td>0.012415</td>\n",
       "      <td>-0.045304</td>\n",
       "      <td>0.015183</td>\n",
       "      <td>0.101802</td>\n",
       "      <td>0.054327</td>\n",
       "      <td>0.175990</td>\n",
       "      <td>0.024152</td>\n",
       "      <td>-0.010356</td>\n",
       "      <td>0.204483</td>\n",
       "      <td>-0.142871</td>\n",
       "      <td>-0.218346</td>\n",
       "      <td>-0.047906</td>\n",
       "      <td>0.085906</td>\n",
       "      <td>0.046801</td>\n",
       "      <td>-0.040199</td>\n",
       "    </tr>\n",
       "    <tr>\n",
       "      <th>Smoking</th>\n",
       "      <td>0.102531</td>\n",
       "      <td>0.012415</td>\n",
       "      <td>1.000000</td>\n",
       "      <td>0.107650</td>\n",
       "      <td>0.057510</td>\n",
       "      <td>0.107321</td>\n",
       "      <td>0.074859</td>\n",
       "      <td>0.113054</td>\n",
       "      <td>0.088267</td>\n",
       "      <td>0.123528</td>\n",
       "      <td>0.048201</td>\n",
       "      <td>-0.086464</td>\n",
       "      <td>-0.159458</td>\n",
       "      <td>-0.027122</td>\n",
       "      <td>0.014345</td>\n",
       "      <td>0.030263</td>\n",
       "      <td>0.027620</td>\n",
       "    </tr>\n",
       "    <tr>\n",
       "      <th>AlcoholDrinking</th>\n",
       "      <td>-0.038041</td>\n",
       "      <td>-0.045304</td>\n",
       "      <td>0.107650</td>\n",
       "      <td>1.000000</td>\n",
       "      <td>-0.023832</td>\n",
       "      <td>-0.025677</td>\n",
       "      <td>0.043065</td>\n",
       "      <td>-0.043477</td>\n",
       "      <td>0.007625</td>\n",
       "      <td>-0.063776</td>\n",
       "      <td>-0.067743</td>\n",
       "      <td>0.026893</td>\n",
       "      <td>0.043776</td>\n",
       "      <td>-0.002600</td>\n",
       "      <td>-0.009092</td>\n",
       "      <td>-0.032304</td>\n",
       "      <td>-0.010478</td>\n",
       "    </tr>\n",
       "    <tr>\n",
       "      <th>Stroke</th>\n",
       "      <td>0.193716</td>\n",
       "      <td>0.015183</td>\n",
       "      <td>0.057510</td>\n",
       "      <td>-0.023832</td>\n",
       "      <td>1.000000</td>\n",
       "      <td>0.131465</td>\n",
       "      <td>0.039442</td>\n",
       "      <td>0.169349</td>\n",
       "      <td>-0.000697</td>\n",
       "      <td>0.141250</td>\n",
       "      <td>0.103038</td>\n",
       "      <td>-0.073488</td>\n",
       "      <td>-0.163327</td>\n",
       "      <td>0.014146</td>\n",
       "      <td>0.033519</td>\n",
       "      <td>0.088356</td>\n",
       "      <td>0.044805</td>\n",
       "    </tr>\n",
       "    <tr>\n",
       "      <th>PhysicalHealth</th>\n",
       "      <td>0.162896</td>\n",
       "      <td>0.101802</td>\n",
       "      <td>0.107321</td>\n",
       "      <td>-0.025677</td>\n",
       "      <td>0.131465</td>\n",
       "      <td>1.000000</td>\n",
       "      <td>0.276652</td>\n",
       "      <td>0.420812</td>\n",
       "      <td>-0.037511</td>\n",
       "      <td>0.112077</td>\n",
       "      <td>0.148833</td>\n",
       "      <td>-0.221697</td>\n",
       "      <td>-0.479633</td>\n",
       "      <td>-0.057786</td>\n",
       "      <td>0.107267</td>\n",
       "      <td>0.136729</td>\n",
       "      <td>0.033990</td>\n",
       "    </tr>\n",
       "    <tr>\n",
       "      <th>MentalHealth</th>\n",
       "      <td>0.017892</td>\n",
       "      <td>0.054327</td>\n",
       "      <td>0.074859</td>\n",
       "      <td>0.043065</td>\n",
       "      <td>0.039442</td>\n",
       "      <td>0.276652</td>\n",
       "      <td>1.000000</td>\n",
       "      <td>0.139516</td>\n",
       "      <td>-0.098448</td>\n",
       "      <td>-0.164690</td>\n",
       "      <td>0.016007</td>\n",
       "      <td>-0.080641</td>\n",
       "      <td>-0.226317</td>\n",
       "      <td>-0.116638</td>\n",
       "      <td>0.102130</td>\n",
       "      <td>0.030197</td>\n",
       "      <td>-0.043547</td>\n",
       "    </tr>\n",
       "    <tr>\n",
       "      <th>DifficultyInWalking</th>\n",
       "      <td>0.194302</td>\n",
       "      <td>0.175990</td>\n",
       "      <td>0.113054</td>\n",
       "      <td>-0.043477</td>\n",
       "      <td>0.169349</td>\n",
       "      <td>0.420812</td>\n",
       "      <td>0.139516</td>\n",
       "      <td>1.000000</td>\n",
       "      <td>-0.066767</td>\n",
       "      <td>0.249688</td>\n",
       "      <td>0.208761</td>\n",
       "      <td>-0.269801</td>\n",
       "      <td>-0.408792</td>\n",
       "      <td>-0.018399</td>\n",
       "      <td>0.093126</td>\n",
       "      <td>0.148097</td>\n",
       "      <td>0.058082</td>\n",
       "    </tr>\n",
       "    <tr>\n",
       "      <th>Sex</th>\n",
       "      <td>0.076244</td>\n",
       "      <td>0.024152</td>\n",
       "      <td>0.088267</td>\n",
       "      <td>0.007625</td>\n",
       "      <td>-0.000697</td>\n",
       "      <td>-0.037511</td>\n",
       "      <td>-0.098448</td>\n",
       "      <td>-0.066767</td>\n",
       "      <td>1.000000</td>\n",
       "      <td>-0.057604</td>\n",
       "      <td>0.009796</td>\n",
       "      <td>0.044295</td>\n",
       "      <td>0.020358</td>\n",
       "      <td>-0.014616</td>\n",
       "      <td>-0.067705</td>\n",
       "      <td>-0.007009</td>\n",
       "      <td>0.017092</td>\n",
       "    </tr>\n",
       "    <tr>\n",
       "      <th>AgeCategory</th>\n",
       "      <td>0.239128</td>\n",
       "      <td>-0.010356</td>\n",
       "      <td>0.123528</td>\n",
       "      <td>-0.063776</td>\n",
       "      <td>0.141250</td>\n",
       "      <td>0.112077</td>\n",
       "      <td>-0.164690</td>\n",
       "      <td>0.249688</td>\n",
       "      <td>-0.057604</td>\n",
       "      <td>1.000000</td>\n",
       "      <td>0.213927</td>\n",
       "      <td>-0.122877</td>\n",
       "      <td>-0.187702</td>\n",
       "      <td>0.106982</td>\n",
       "      <td>-0.062640</td>\n",
       "      <td>0.126116</td>\n",
       "      <td>0.268041</td>\n",
       "    </tr>\n",
       "    <tr>\n",
       "      <th>Diabetic</th>\n",
       "      <td>0.174328</td>\n",
       "      <td>0.204483</td>\n",
       "      <td>0.048201</td>\n",
       "      <td>-0.067743</td>\n",
       "      <td>0.103038</td>\n",
       "      <td>0.148833</td>\n",
       "      <td>0.016007</td>\n",
       "      <td>0.208761</td>\n",
       "      <td>0.009796</td>\n",
       "      <td>0.213927</td>\n",
       "      <td>1.000000</td>\n",
       "      <td>-0.130164</td>\n",
       "      <td>-0.270461</td>\n",
       "      <td>0.007840</td>\n",
       "      <td>0.038340</td>\n",
       "      <td>0.148124</td>\n",
       "      <td>0.029480</td>\n",
       "    </tr>\n",
       "    <tr>\n",
       "      <th>PhysicalActivity</th>\n",
       "      <td>-0.091274</td>\n",
       "      <td>-0.142871</td>\n",
       "      <td>-0.086464</td>\n",
       "      <td>0.026893</td>\n",
       "      <td>-0.073488</td>\n",
       "      <td>-0.221697</td>\n",
       "      <td>-0.080641</td>\n",
       "      <td>-0.269801</td>\n",
       "      <td>0.044295</td>\n",
       "      <td>-0.122877</td>\n",
       "      <td>-0.130164</td>\n",
       "      <td>1.000000</td>\n",
       "      <td>0.267886</td>\n",
       "      <td>-0.000977</td>\n",
       "      <td>-0.029159</td>\n",
       "      <td>-0.075905</td>\n",
       "      <td>0.007689</td>\n",
       "    </tr>\n",
       "    <tr>\n",
       "      <th>GeneralHealth</th>\n",
       "      <td>-0.236154</td>\n",
       "      <td>-0.218346</td>\n",
       "      <td>-0.159458</td>\n",
       "      <td>0.043776</td>\n",
       "      <td>-0.163327</td>\n",
       "      <td>-0.479633</td>\n",
       "      <td>-0.226317</td>\n",
       "      <td>-0.408792</td>\n",
       "      <td>0.020358</td>\n",
       "      <td>-0.187702</td>\n",
       "      <td>-0.270461</td>\n",
       "      <td>0.267886</td>\n",
       "      <td>1.000000</td>\n",
       "      <td>0.057363</td>\n",
       "      <td>-0.123213</td>\n",
       "      <td>-0.170227</td>\n",
       "      <td>-0.039079</td>\n",
       "    </tr>\n",
       "    <tr>\n",
       "      <th>SleepTime</th>\n",
       "      <td>0.011513</td>\n",
       "      <td>-0.047906</td>\n",
       "      <td>-0.027122</td>\n",
       "      <td>-0.002600</td>\n",
       "      <td>0.014146</td>\n",
       "      <td>-0.057786</td>\n",
       "      <td>-0.116638</td>\n",
       "      <td>-0.018399</td>\n",
       "      <td>-0.014616</td>\n",
       "      <td>0.106982</td>\n",
       "      <td>0.007840</td>\n",
       "      <td>-0.000977</td>\n",
       "      <td>0.057363</td>\n",
       "      <td>1.000000</td>\n",
       "      <td>-0.044818</td>\n",
       "      <td>0.008482</td>\n",
       "      <td>0.044074</td>\n",
       "    </tr>\n",
       "    <tr>\n",
       "      <th>Asthma</th>\n",
       "      <td>0.033567</td>\n",
       "      <td>0.085906</td>\n",
       "      <td>0.014345</td>\n",
       "      <td>-0.009092</td>\n",
       "      <td>0.033519</td>\n",
       "      <td>0.107267</td>\n",
       "      <td>0.102130</td>\n",
       "      <td>0.093126</td>\n",
       "      <td>-0.067705</td>\n",
       "      <td>-0.062640</td>\n",
       "      <td>0.038340</td>\n",
       "      <td>-0.029159</td>\n",
       "      <td>-0.123213</td>\n",
       "      <td>-0.044818</td>\n",
       "      <td>1.000000</td>\n",
       "      <td>0.034408</td>\n",
       "      <td>-0.007513</td>\n",
       "    </tr>\n",
       "    <tr>\n",
       "      <th>KidneyDisease</th>\n",
       "      <td>0.141618</td>\n",
       "      <td>0.046801</td>\n",
       "      <td>0.030263</td>\n",
       "      <td>-0.032304</td>\n",
       "      <td>0.088356</td>\n",
       "      <td>0.136729</td>\n",
       "      <td>0.030197</td>\n",
       "      <td>0.148097</td>\n",
       "      <td>-0.007009</td>\n",
       "      <td>0.126116</td>\n",
       "      <td>0.148124</td>\n",
       "      <td>-0.075905</td>\n",
       "      <td>-0.170227</td>\n",
       "      <td>0.008482</td>\n",
       "      <td>0.034408</td>\n",
       "      <td>1.000000</td>\n",
       "      <td>0.058780</td>\n",
       "    </tr>\n",
       "    <tr>\n",
       "      <th>SkinCancer</th>\n",
       "      <td>0.088855</td>\n",
       "      <td>-0.040199</td>\n",
       "      <td>0.027620</td>\n",
       "      <td>-0.010478</td>\n",
       "      <td>0.044805</td>\n",
       "      <td>0.033990</td>\n",
       "      <td>-0.043547</td>\n",
       "      <td>0.058082</td>\n",
       "      <td>0.017092</td>\n",
       "      <td>0.268041</td>\n",
       "      <td>0.029480</td>\n",
       "      <td>0.007689</td>\n",
       "      <td>-0.039079</td>\n",
       "      <td>0.044074</td>\n",
       "      <td>-0.007513</td>\n",
       "      <td>0.058780</td>\n",
       "      <td>1.000000</td>\n",
       "    </tr>\n",
       "  </tbody>\n",
       "</table>\n",
       "</div>"
      ],
      "text/plain": [
       "                     HeartDisease       BMI   Smoking  AlcoholDrinking  \\\n",
       "HeartDisease             1.000000  0.045626  0.102531        -0.038041   \n",
       "BMI                      0.045626  1.000000  0.012415        -0.045304   \n",
       "Smoking                  0.102531  0.012415  1.000000         0.107650   \n",
       "AlcoholDrinking         -0.038041 -0.045304  0.107650         1.000000   \n",
       "Stroke                   0.193716  0.015183  0.057510        -0.023832   \n",
       "PhysicalHealth           0.162896  0.101802  0.107321        -0.025677   \n",
       "MentalHealth             0.017892  0.054327  0.074859         0.043065   \n",
       "DifficultyInWalking      0.194302  0.175990  0.113054        -0.043477   \n",
       "Sex                      0.076244  0.024152  0.088267         0.007625   \n",
       "AgeCategory              0.239128 -0.010356  0.123528        -0.063776   \n",
       "Diabetic                 0.174328  0.204483  0.048201        -0.067743   \n",
       "PhysicalActivity        -0.091274 -0.142871 -0.086464         0.026893   \n",
       "GeneralHealth           -0.236154 -0.218346 -0.159458         0.043776   \n",
       "SleepTime                0.011513 -0.047906 -0.027122        -0.002600   \n",
       "Asthma                   0.033567  0.085906  0.014345        -0.009092   \n",
       "KidneyDisease            0.141618  0.046801  0.030263        -0.032304   \n",
       "SkinCancer               0.088855 -0.040199  0.027620        -0.010478   \n",
       "\n",
       "                       Stroke  PhysicalHealth  MentalHealth  \\\n",
       "HeartDisease         0.193716        0.162896      0.017892   \n",
       "BMI                  0.015183        0.101802      0.054327   \n",
       "Smoking              0.057510        0.107321      0.074859   \n",
       "AlcoholDrinking     -0.023832       -0.025677      0.043065   \n",
       "Stroke               1.000000        0.131465      0.039442   \n",
       "PhysicalHealth       0.131465        1.000000      0.276652   \n",
       "MentalHealth         0.039442        0.276652      1.000000   \n",
       "DifficultyInWalking  0.169349        0.420812      0.139516   \n",
       "Sex                 -0.000697       -0.037511     -0.098448   \n",
       "AgeCategory          0.141250        0.112077     -0.164690   \n",
       "Diabetic             0.103038        0.148833      0.016007   \n",
       "PhysicalActivity    -0.073488       -0.221697     -0.080641   \n",
       "GeneralHealth       -0.163327       -0.479633     -0.226317   \n",
       "SleepTime            0.014146       -0.057786     -0.116638   \n",
       "Asthma               0.033519        0.107267      0.102130   \n",
       "KidneyDisease        0.088356        0.136729      0.030197   \n",
       "SkinCancer           0.044805        0.033990     -0.043547   \n",
       "\n",
       "                     DifficultyInWalking       Sex  AgeCategory  Diabetic  \\\n",
       "HeartDisease                    0.194302  0.076244     0.239128  0.174328   \n",
       "BMI                             0.175990  0.024152    -0.010356  0.204483   \n",
       "Smoking                         0.113054  0.088267     0.123528  0.048201   \n",
       "AlcoholDrinking                -0.043477  0.007625    -0.063776 -0.067743   \n",
       "Stroke                          0.169349 -0.000697     0.141250  0.103038   \n",
       "PhysicalHealth                  0.420812 -0.037511     0.112077  0.148833   \n",
       "MentalHealth                    0.139516 -0.098448    -0.164690  0.016007   \n",
       "DifficultyInWalking             1.000000 -0.066767     0.249688  0.208761   \n",
       "Sex                            -0.066767  1.000000    -0.057604  0.009796   \n",
       "AgeCategory                     0.249688 -0.057604     1.000000  0.213927   \n",
       "Diabetic                        0.208761  0.009796     0.213927  1.000000   \n",
       "PhysicalActivity               -0.269801  0.044295    -0.122877 -0.130164   \n",
       "GeneralHealth                  -0.408792  0.020358    -0.187702 -0.270461   \n",
       "SleepTime                      -0.018399 -0.014616     0.106982  0.007840   \n",
       "Asthma                          0.093126 -0.067705    -0.062640  0.038340   \n",
       "KidneyDisease                   0.148097 -0.007009     0.126116  0.148124   \n",
       "SkinCancer                      0.058082  0.017092     0.268041  0.029480   \n",
       "\n",
       "                     PhysicalActivity  GeneralHealth  SleepTime    Asthma  \\\n",
       "HeartDisease                -0.091274      -0.236154   0.011513  0.033567   \n",
       "BMI                         -0.142871      -0.218346  -0.047906  0.085906   \n",
       "Smoking                     -0.086464      -0.159458  -0.027122  0.014345   \n",
       "AlcoholDrinking              0.026893       0.043776  -0.002600 -0.009092   \n",
       "Stroke                      -0.073488      -0.163327   0.014146  0.033519   \n",
       "PhysicalHealth              -0.221697      -0.479633  -0.057786  0.107267   \n",
       "MentalHealth                -0.080641      -0.226317  -0.116638  0.102130   \n",
       "DifficultyInWalking         -0.269801      -0.408792  -0.018399  0.093126   \n",
       "Sex                          0.044295       0.020358  -0.014616 -0.067705   \n",
       "AgeCategory                 -0.122877      -0.187702   0.106982 -0.062640   \n",
       "Diabetic                    -0.130164      -0.270461   0.007840  0.038340   \n",
       "PhysicalActivity             1.000000       0.267886  -0.000977 -0.029159   \n",
       "GeneralHealth                0.267886       1.000000   0.057363 -0.123213   \n",
       "SleepTime                   -0.000977       0.057363   1.000000 -0.044818   \n",
       "Asthma                      -0.029159      -0.123213  -0.044818  1.000000   \n",
       "KidneyDisease               -0.075905      -0.170227   0.008482  0.034408   \n",
       "SkinCancer                   0.007689      -0.039079   0.044074 -0.007513   \n",
       "\n",
       "                     KidneyDisease  SkinCancer  \n",
       "HeartDisease              0.141618    0.088855  \n",
       "BMI                       0.046801   -0.040199  \n",
       "Smoking                   0.030263    0.027620  \n",
       "AlcoholDrinking          -0.032304   -0.010478  \n",
       "Stroke                    0.088356    0.044805  \n",
       "PhysicalHealth            0.136729    0.033990  \n",
       "MentalHealth              0.030197   -0.043547  \n",
       "DifficultyInWalking       0.148097    0.058082  \n",
       "Sex                      -0.007009    0.017092  \n",
       "AgeCategory               0.126116    0.268041  \n",
       "Diabetic                  0.148124    0.029480  \n",
       "PhysicalActivity         -0.075905    0.007689  \n",
       "GeneralHealth            -0.170227   -0.039079  \n",
       "SleepTime                 0.008482    0.044074  \n",
       "Asthma                    0.034408   -0.007513  \n",
       "KidneyDisease             1.000000    0.058780  \n",
       "SkinCancer                0.058780    1.000000  "
      ]
     },
     "execution_count": 278,
     "metadata": {},
     "output_type": "execute_result"
    }
   ],
   "source": [
    "df1.corr()"
   ]
  },
  {
   "cell_type": "code",
   "execution_count": 279,
   "id": "7ce899c3-2845-4a8d-8d58-2612c8ba3787",
   "metadata": {},
   "outputs": [
    {
     "data": {
      "image/png": "[encoded data removed]",
      "text/plain": [
       "<Figure size 1440x720 with 2 Axes>"
      ]
     },
     "metadata": {
      "needs_background": "light"
     },
     "output_type": "display_data"
    }
   ],
   "source": [
    "plt.figure(figsize=(20,10))\n",
    "sns.heatmap(df1.corr(),annot=True,cmap='YlGnBu')\n",
    "plt.show()"
   ]
  },
  {
   "cell_type": "code",
   "execution_count": 280,
   "id": "722fe1f2-55c5-40e5-88b8-b903813511b9",
   "metadata": {},
   "outputs": [
    {
     "data": {
      "text/plain": [
       "<AxesSubplot:title={'center':'Correlation with HeartDisease(Target Variable)'}>"
      ]
     },
     "execution_count": 280,
     "metadata": {},
     "output_type": "execute_result"
    },
    {
     "data": {
      "image/png": "[encoded data removed]",
      "text/plain": [
       "<Figure size 1440x576 with 1 Axes>"
      ]
     },
     "metadata": {
      "needs_background": "light"
     },
     "output_type": "display_data"
    }
   ],
   "source": [
    "df1.corrwith(df1['HeartDisease']).plot.bar(figsize=(20,8),grid=True, title='Correlation with HeartDisease(Target Variable)')"
   ]
  },
  {
   "cell_type": "markdown",
   "id": "a51ec6ad-5b07-417e-b1d0-4ba06bab3001",
   "metadata": {},
   "source": [
    "#### Here we can observe that higher the Age and Diabetic rate,  higher the chance of Heart Disease"
   ]
  },
  {
   "cell_type": "markdown",
   "id": "0fb98824-7abc-4ec3-b7e2-99b12f07dc4f",
   "metadata": {},
   "source": [
    "#### and Higher the PhysicalActivity and overall GeneralHealth, lower the chance of Heart Disease"
   ]
  },
  {
   "cell_type": "markdown",
   "id": "5eefcae3-8a40-4821-b5af-c77d584c4703",
   "metadata": {},
   "source": [
    "# Model Building "
   ]
  },
  {
   "cell_type": "markdown",
   "id": "01b9fdc1-4eb7-4029-ba24-e80848e33d6d",
   "metadata": {},
   "source": [
    "## Handling Imbalance in the target Variable"
   ]
  },
  {
   "cell_type": "code",
   "execution_count": 281,
   "id": "d1eb647a-7e8e-4521-bb50-581a2c4c9f50",
   "metadata": {},
   "outputs": [
    {
     "data": {
      "text/plain": [
       "0    268202\n",
       "1     27248\n",
       "Name: HeartDisease, dtype: int64"
      ]
     },
     "execution_count": 281,
     "metadata": {},
     "output_type": "execute_result"
    }
   ],
   "source": [
    "df1['HeartDisease'].value_counts()"
   ]
  },
  {
   "cell_type": "code",
   "execution_count": 282,
   "id": "c1b0f423-ddf2-429b-88ca-8d6955defb6a",
   "metadata": {
    "tags": []
   },
   "outputs": [
    {
     "data": {
      "text/plain": [
       "0    0.907775\n",
       "1    0.092225\n",
       "Name: HeartDisease, dtype: float64"
      ]
     },
     "execution_count": 282,
     "metadata": {},
     "output_type": "execute_result"
    }
   ],
   "source": [
    "df1['HeartDisease'].value_counts(normalize=True)"
   ]
  },
  {
   "cell_type": "code",
   "execution_count": 283,
   "id": "6417edb1-c4a9-483d-a630-bdfab99946e3",
   "metadata": {},
   "outputs": [
    {
     "data": {
      "image/png": "[encoded data removed]",
      "text/plain": [
       "<Figure size 720x504 with 1 Axes>"
      ]
     },
     "metadata": {},
     "output_type": "display_data"
    }
   ],
   "source": [
    "plt.figure(figsize=(10,7))\n",
    "df1['HeartDisease'].value_counts().plot(kind='pie',autopct='%1.1f%%',labels=['No','Yes'])\n",
    "plt.show()"
   ]
  },
  {
   "cell_type": "markdown",
   "id": "6e89651c-121d-4e95-be07-49aeed00763d",
   "metadata": {},
   "source": [
    "## Initial Train Test Split"
   ]
  },
  {
   "cell_type": "code",
   "execution_count": 284,
   "id": "17bd3806-6f8b-4229-bbf9-fed020a21850",
   "metadata": {},
   "outputs": [
    {
     "data": {
      "text/plain": [
       "(295450, 17)"
      ]
     },
     "execution_count": 284,
     "metadata": {},
     "output_type": "execute_result"
    }
   ],
   "source": [
    "df1.shape"
   ]
  },
  {
   "cell_type": "code",
   "execution_count": 285,
   "id": "cd744f04-bb7a-47b0-8b90-6cec9ac50a38",
   "metadata": {},
   "outputs": [
    {
     "data": {
      "text/html": [
       "<div>\n",
       "<style scoped>\n",
       "    .dataframe tbody tr th:only-of-type {\n",
       "        vertical-align: middle;\n",
       "    }\n",
       "\n",
       "    .dataframe tbody tr th {\n",
       "        vertical-align: top;\n",
       "    }\n",
       "\n",
       "    .dataframe thead th {\n",
       "        text-align: right;\n",
       "    }\n",
       "</style>\n",
       "<table border=\"1\" class=\"dataframe\">\n",
       "  <thead>\n",
       "    <tr style=\"text-align: right;\">\n",
       "      <th></th>\n",
       "      <th>HeartDisease</th>\n",
       "      <th>BMI</th>\n",
       "      <th>Smoking</th>\n",
       "      <th>AlcoholDrinking</th>\n",
       "      <th>Stroke</th>\n",
       "      <th>PhysicalHealth</th>\n",
       "      <th>MentalHealth</th>\n",
       "      <th>DifficultyInWalking</th>\n",
       "      <th>Sex</th>\n",
       "      <th>AgeCategory</th>\n",
       "      <th>Diabetic</th>\n",
       "      <th>PhysicalActivity</th>\n",
       "      <th>GeneralHealth</th>\n",
       "      <th>SleepTime</th>\n",
       "      <th>Asthma</th>\n",
       "      <th>KidneyDisease</th>\n",
       "      <th>SkinCancer</th>\n",
       "    </tr>\n",
       "  </thead>\n",
       "  <tbody>\n",
       "    <tr>\n",
       "      <th>0</th>\n",
       "      <td>0</td>\n",
       "      <td>16.6</td>\n",
       "      <td>1</td>\n",
       "      <td>0</td>\n",
       "      <td>0</td>\n",
       "      <td>3.0</td>\n",
       "      <td>30.0</td>\n",
       "      <td>0</td>\n",
       "      <td>0</td>\n",
       "      <td>7</td>\n",
       "      <td>3</td>\n",
       "      <td>1</td>\n",
       "      <td>3</td>\n",
       "      <td>5.0</td>\n",
       "      <td>1</td>\n",
       "      <td>0</td>\n",
       "      <td>1</td>\n",
       "    </tr>\n",
       "  </tbody>\n",
       "</table>\n",
       "</div>"
      ],
      "text/plain": [
       "   HeartDisease   BMI  Smoking  AlcoholDrinking  Stroke  PhysicalHealth  \\\n",
       "0             0  16.6        1                0       0             3.0   \n",
       "\n",
       "   MentalHealth  DifficultyInWalking  Sex  AgeCategory  Diabetic  \\\n",
       "0          30.0                    0    0            7         3   \n",
       "\n",
       "   PhysicalActivity  GeneralHealth  SleepTime  Asthma  KidneyDisease  \\\n",
       "0                 1              3        5.0       1              0   \n",
       "\n",
       "   SkinCancer  \n",
       "0           1  "
      ]
     },
     "execution_count": 285,
     "metadata": {},
     "output_type": "execute_result"
    }
   ],
   "source": [
    "df1.head(1)"
   ]
  },
  {
   "cell_type": "code",
   "execution_count": 286,
   "id": "92809f6c-7abc-4c45-8d0f-b45cbc8adc63",
   "metadata": {},
   "outputs": [
    {
     "data": {
      "text/plain": [
       "(295450, 16)"
      ]
     },
     "execution_count": 286,
     "metadata": {},
     "output_type": "execute_result"
    }
   ],
   "source": [
    "X = df1.drop('HeartDisease',axis=1)\n",
    "X.shape"
   ]
  },
  {
   "cell_type": "code",
   "execution_count": 287,
   "id": "d4832dd7-bf76-49b1-8ec8-4a6153d0265c",
   "metadata": {},
   "outputs": [
    {
     "data": {
      "text/plain": [
       "(295450,)"
      ]
     },
     "execution_count": 287,
     "metadata": {},
     "output_type": "execute_result"
    }
   ],
   "source": [
    "y = df1['HeartDisease']\n",
    "y.shape"
   ]
  },
  {
   "cell_type": "code",
   "execution_count": 288,
   "id": "148ac471-5e13-424a-aa2f-0a89fffd5a05",
   "metadata": {},
   "outputs": [],
   "source": [
    "#oversampling the minority set using Synthetic Minority Oversampling(SMOTE)\n",
    "from imblearn.over_sampling import SMOTE"
   ]
  },
  {
   "cell_type": "code",
   "execution_count": 289,
   "id": "10092873-30cb-4e0a-90cc-a7cd34856ca5",
   "metadata": {},
   "outputs": [],
   "source": [
    "#create test, train and SMOTE the X matrices\n",
    "#os= oversampling\n",
    "os = SMOTE(random_state=0)\n",
    "X_os, y_os = os.fit_resample(X,y)"
   ]
  },
  {
   "cell_type": "code",
   "execution_count": 290,
   "id": "6e1f7419-2f72-4e16-aa74-9c7123faedb1",
   "metadata": {},
   "outputs": [
    {
     "data": {
      "text/plain": [
       "((536404, 16), (536404,))"
      ]
     },
     "execution_count": 290,
     "metadata": {},
     "output_type": "execute_result"
    }
   ],
   "source": [
    "# dimensions of the matrices\n",
    "X_os.shape, y_os.shape"
   ]
  },
  {
   "cell_type": "code",
   "execution_count": 291,
   "id": "637d991a-cb15-495e-8ac8-95e5c04881a5",
   "metadata": {},
   "outputs": [
    {
     "data": {
      "text/plain": [
       "0    268202\n",
       "1    268202\n",
       "Name: HeartDisease, dtype: int64"
      ]
     },
     "execution_count": 291,
     "metadata": {},
     "output_type": "execute_result"
    }
   ],
   "source": [
    "#distribution of categories of target variables\n",
    "y_os.value_counts()"
   ]
  },
  {
   "cell_type": "code",
   "execution_count": 292,
   "id": "16f35cb8-d837-44b6-9c2d-2ccff0d2fda3",
   "metadata": {},
   "outputs": [
    {
     "data": {
      "text/plain": [
       "0    0.5\n",
       "1    0.5\n",
       "Name: HeartDisease, dtype: float64"
      ]
     },
     "execution_count": 292,
     "metadata": {},
     "output_type": "execute_result"
    }
   ],
   "source": [
    "y_os.value_counts(normalize=True)"
   ]
  },
  {
   "cell_type": "code",
   "execution_count": 293,
   "id": "d4c62512-b53b-4d6b-9d2b-2128b9b422ef",
   "metadata": {},
   "outputs": [
    {
     "data": {
      "image/png": "[encoded data removed]",
      "text/plain": [
       "<Figure size 720x504 with 1 Axes>"
      ]
     },
     "metadata": {},
     "output_type": "display_data"
    }
   ],
   "source": [
    "plt.figure(figsize=(10,7))\n",
    "y_os.value_counts().plot(kind='pie',autopct='%1.1f%%',labels=['No','Yes'])\n",
    "plt.show()"
   ]
  },
  {
   "cell_type": "code",
   "execution_count": 294,
   "id": "21ab5cf8-e933-4123-8fcf-892ab85243cf",
   "metadata": {},
   "outputs": [],
   "source": [
    "df2 = pd.DataFrame(X_os)\n",
    "df2['HeartDisease'] = y_os"
   ]
  },
  {
   "cell_type": "markdown",
   "id": "cf29848c-4b2d-4702-b9bc-558ba323dda1",
   "metadata": {},
   "source": [
    "## Final Train Test split"
   ]
  },
  {
   "cell_type": "code",
   "execution_count": 295,
   "id": "1a8cce34-c658-455f-9e86-ab344eb43e3b",
   "metadata": {},
   "outputs": [],
   "source": [
    "from sklearn.model_selection import train_test_split\n",
    "from sklearn.preprocessing import StandardScaler"
   ]
  },
  {
   "cell_type": "code",
   "execution_count": 296,
   "id": "1419fa75-8324-440a-ba2e-55547c96d105",
   "metadata": {},
   "outputs": [],
   "source": [
    "X_train, X_test, y_train, y_test = train_test_split(X,y,test_size=0.3,random_state=42,stratify=y)"
   ]
  },
  {
   "cell_type": "code",
   "execution_count": 297,
   "id": "316e0934-c177-4123-a908-989f7e170d1c",
   "metadata": {},
   "outputs": [],
   "source": [
    "#scaling(transforming features to similar range of values) train features\n",
    "sc_train = StandardScaler().fit(X_train)\n",
    "X_train_sc = sc_train.transform(X_train)"
   ]
  },
  {
   "cell_type": "code",
   "execution_count": 298,
   "id": "ec487012-408e-4030-8dcd-663b1051b1ce",
   "metadata": {},
   "outputs": [
    {
     "name": "stdout",
     "output_type": "stream",
     "text": [
      "[[ 0.035  1.16  -0.28  -0.207 -0.444 -0.147 -0.42  -0.94  -0.43  -0.432\n",
      "   0.562  1.393  0.622  2.439 -0.204 -0.331]\n",
      " [-0.333  1.16  -0.28  -0.207 -0.201  3.151 -0.42  -0.94  -0.151 -0.432\n",
      "  -1.78  -0.516 -0.731  2.439 -0.204 -0.331]\n",
      " [ 1.911 -0.862 -0.28  -0.207 -0.444 -0.269  2.383  1.064 -0.151 -0.432\n",
      "  -1.78   0.439 -0.055 -0.41  -0.204 -0.331]\n",
      " [ 0.298 -0.862 -0.28  -0.207 -0.444 -0.513 -0.42   1.064 -1.825 -0.432\n",
      "   0.562  1.393 -0.055 -0.41  -0.204 -0.331]\n",
      " [-1.248  1.16  -0.28  -0.207 -0.322  1.93  -0.42  -0.94   0.128 -0.432\n",
      "   0.562 -0.516 -0.055 -0.41  -0.204 -0.331]]\n"
     ]
    }
   ],
   "source": [
    "#snapshot of the scaled(transformed) data\n",
    "np.set_printoptions(precision=3)\n",
    "print(X_train_sc[0:5,:])"
   ]
  },
  {
   "cell_type": "code",
   "execution_count": 299,
   "id": "acdcdac3-6049-4e18-8666-acbe2435a416",
   "metadata": {},
   "outputs": [],
   "source": [
    "from sklearn.linear_model import LogisticRegression\n",
    "from sklearn.metrics import accuracy_score, confusion_matrix, classification_report"
   ]
  },
  {
   "cell_type": "markdown",
   "id": "6c4afa89-e725-4eac-a659-b852465eb421",
   "metadata": {},
   "source": [
    "# Logistic Regression"
   ]
  },
  {
   "cell_type": "code",
   "execution_count": 300,
   "id": "9f1db8b3-2f26-4f01-94cc-5aa44b26d6be",
   "metadata": {},
   "outputs": [],
   "source": [
    "model_lr = LogisticRegression()"
   ]
  },
  {
   "cell_type": "code",
   "execution_count": 301,
   "id": "96d2f337-3cdb-4610-811f-cb3152080685",
   "metadata": {},
   "outputs": [
    {
     "data": {
      "text/html": [
       "<style>#sk-container-id-7 {color: black;background-color: white;}#sk-container-id-7 pre{padding: 0;}#sk-container-id-7 div.sk-toggleable {background-color: white;}#sk-container-id-7 label.sk-toggleable__label {cursor: pointer;display: block;width: 100%;margin-bottom: 0;padding: 0.3em;box-sizing: border-box;text-align: center;}#sk-container-id-7 label.sk-toggleable__label-arrow:before {content: \"▸\";float: left;margin-right: 0.25em;color: #696969;}#sk-container-id-7 label.sk-toggleable__label-arrow:hover:before {color: black;}#sk-container-id-7 div.sk-estimator:hover label.sk-toggleable__label-arrow:before {color: black;}#sk-container-id-7 div.sk-toggleable__content {max-height: 0;max-width: 0;overflow: hidden;text-align: left;background-color: #f0f8ff;}#sk-container-id-7 div.sk-toggleable__content pre {margin: 0.2em;color: black;border-radius: 0.25em;background-color: #f0f8ff;}#sk-container-id-7 input.sk-toggleable__control:checked~div.sk-toggleable__content {max-height: 200px;max-width: 100%;overflow: auto;}#sk-container-id-7 input.sk-toggleable__control:checked~label.sk-toggleable__label-arrow:before {content: \"▾\";}#sk-container-id-7 div.sk-estimator input.sk-toggleable__control:checked~label.sk-toggleable__label {background-color: #d4ebff;}#sk-container-id-7 div.sk-label input.sk-toggleable__control:checked~label.sk-toggleable__label {background-color: #d4ebff;}#sk-container-id-7 input.sk-hidden--visually {border: 0;clip: rect(1px 1px 1px 1px);clip: rect(1px, 1px, 1px, 1px);height: 1px;margin: -1px;overflow: hidden;padding: 0;position: absolute;width: 1px;}#sk-container-id-7 div.sk-estimator {font-family: monospace;background-color: #f0f8ff;border: 1px dotted black;border-radius: 0.25em;box-sizing: border-box;margin-bottom: 0.5em;}#sk-container-id-7 div.sk-estimator:hover {background-color: #d4ebff;}#sk-container-id-7 div.sk-parallel-item::after {content: \"\";width: 100%;border-bottom: 1px solid gray;flex-grow: 1;}#sk-container-id-7 div.sk-label:hover label.sk-toggleable__label {background-color: #d4ebff;}#sk-container-id-7 div.sk-serial::before {content: \"\";position: absolute;border-left: 1px solid gray;box-sizing: border-box;top: 0;bottom: 0;left: 50%;z-index: 0;}#sk-container-id-7 div.sk-serial {display: flex;flex-direction: column;align-items: center;background-color: white;padding-right: 0.2em;padding-left: 0.2em;position: relative;}#sk-container-id-7 div.sk-item {position: relative;z-index: 1;}#sk-container-id-7 div.sk-parallel {display: flex;align-items: stretch;justify-content: center;background-color: white;position: relative;}#sk-container-id-7 div.sk-item::before, #sk-container-id-7 div.sk-parallel-item::before {content: \"\";position: absolute;border-left: 1px solid gray;box-sizing: border-box;top: 0;bottom: 0;left: 50%;z-index: -1;}#sk-container-id-7 div.sk-parallel-item {display: flex;flex-direction: column;z-index: 1;position: relative;background-color: white;}#sk-container-id-7 div.sk-parallel-item:first-child::after {align-self: flex-end;width: 50%;}#sk-container-id-7 div.sk-parallel-item:last-child::after {align-self: flex-start;width: 50%;}#sk-container-id-7 div.sk-parallel-item:only-child::after {width: 0;}#sk-container-id-7 div.sk-dashed-wrapped {border: 1px dashed gray;margin: 0 0.4em 0.5em 0.4em;box-sizing: border-box;padding-bottom: 0.4em;background-color: white;}#sk-container-id-7 div.sk-label label {font-family: monospace;font-weight: bold;display: inline-block;line-height: 1.2em;}#sk-container-id-7 div.sk-label-container {text-align: center;}#sk-container-id-7 div.sk-container {/* jupyter's `normalize.less` sets `[hidden] { display: none; }` but bootstrap.min.css set `[hidden] { display: none !important; }` so we also need the `!important` here to be able to override the default hidden behavior on the sphinx rendered scikit-learn.org. See: https://github.com/scikit-learn/scikit-learn/issues/21755 */display: inline-block !important;position: relative;}#sk-container-id-7 div.sk-text-repr-fallback {display: none;}</style><div id=\"sk-container-id-7\" class=\"sk-top-container\"><div class=\"sk-text-repr-fallback\"><pre>LogisticRegression()</pre><b>In a Jupyter environment, please rerun this cell to show the HTML representation or trust the notebook. <br />On GitHub, the HTML representation is unable to render, please try loading this page with nbviewer.org.</b></div><div class=\"sk-container\" hidden><div class=\"sk-item\"><div class=\"sk-estimator sk-toggleable\"><input class=\"sk-toggleable__control sk-hidden--visually\" id=\"sk-estimator-id-7\" type=\"checkbox\" checked><label for=\"sk-estimator-id-7\" class=\"sk-toggleable__label sk-toggleable__label-arrow\">LogisticRegression</label><div class=\"sk-toggleable__content\"><pre>LogisticRegression()</pre></div></div></div></div></div>"
      ],
      "text/plain": [
       "LogisticRegression()"
      ]
     },
     "execution_count": 301,
     "metadata": {},
     "output_type": "execute_result"
    }
   ],
   "source": [
    "model_lr.fit(X_train_sc, y_train)"
   ]
  },
  {
   "cell_type": "markdown",
   "id": "3780d79b-1751-4f5b-85e5-d7dacf51619b",
   "metadata": {},
   "source": [
    "### Testing Logistic Regression model"
   ]
  },
  {
   "cell_type": "code",
   "execution_count": 302,
   "id": "eb2d8527-28f4-42f1-b121-fb20b10b319a",
   "metadata": {},
   "outputs": [],
   "source": [
    "#scaling test data also\n",
    "sc_test = StandardScaler().fit(X_test)\n",
    "X_test_sc = sc_test.transform(X_test)"
   ]
  },
  {
   "cell_type": "code",
   "execution_count": 303,
   "id": "421a7ae5-6c32-4057-b0c0-be2a7af829bb",
   "metadata": {},
   "outputs": [
    {
     "name": "stdout",
     "output_type": "stream",
     "text": [
      "accuracy_score: 0.9091103965702036\n"
     ]
    }
   ],
   "source": [
    "#testing the performance of the model on the test data\n",
    "LRpredictions = model_lr.predict(X_test_sc)\n",
    "print(\"accuracy_score:\", accuracy_score(y_test,LRpredictions))\n"
   ]
  },
  {
   "cell_type": "markdown",
   "id": "50282f7a-b0a9-41e0-8d1a-39409d099e9a",
   "metadata": {},
   "source": [
    "### Validation of Logistic Regression model"
   ]
  },
  {
   "cell_type": "code",
   "execution_count": 304,
   "id": "349f233d-c154-40d4-888e-bb7150ef27d5",
   "metadata": {},
   "outputs": [],
   "source": [
    "from sklearn.model_selection import KFold\n",
    "from sklearn.model_selection import cross_val_score"
   ]
  },
  {
   "cell_type": "code",
   "execution_count": 305,
   "id": "6476ace5-07fd-48a9-9e03-674c3fec2514",
   "metadata": {},
   "outputs": [],
   "source": [
    "kfold = KFold(n_splits=10, random_state=7, shuffle=True)"
   ]
  },
  {
   "cell_type": "code",
   "execution_count": 306,
   "id": "c220b011-8761-44ea-aad4-a947af53ae62",
   "metadata": {},
   "outputs": [
    {
     "data": {
      "text/plain": [
       "array([0.908, 0.911, 0.909, 0.909, 0.908, 0.91 , 0.91 , 0.91 , 0.912,\n",
       "       0.905])"
      ]
     },
     "execution_count": 306,
     "metadata": {},
     "output_type": "execute_result"
    }
   ],
   "source": [
    "results = cross_val_score(model_lr, X_train_sc, y_train, cv=kfold)\n",
    "results"
   ]
  },
  {
   "cell_type": "code",
   "execution_count": 307,
   "id": "2c1c9c11-6584-4d4e-90a9-99d5c050ef99",
   "metadata": {},
   "outputs": [
    {
     "data": {
      "text/plain": [
       "<AxesSubplot:>"
      ]
     },
     "execution_count": 307,
     "metadata": {},
     "output_type": "execute_result"
    },
    {
     "data": {
      "image/png": "[encoded data removed]",
      "text/plain": [
       "<Figure size 432x288 with 2 Axes>"
      ]
     },
     "metadata": {
      "needs_background": "light"
     },
     "output_type": "display_data"
    }
   ],
   "source": [
    "pred_y = model_lr.predict(X_test_sc)\n",
    "matrix = confusion_matrix(y_test,pred_y)\n",
    "sns.heatmap(matrix/np.sum(matrix),fmt='.2%', annot=True)"
   ]
  },
  {
   "cell_type": "markdown",
   "id": "77856530-73fd-4c05-955a-35bade671401",
   "metadata": {},
   "source": [
    "#### Here the FalseNegative(classifying someone as not having heart disease when they do) value is 8.25%. Reducing this value is one of the objective"
   ]
  },
  {
   "cell_type": "code",
   "execution_count": 308,
   "id": "c0ab3ee2-5c10-43b8-82bf-6b1417774de5",
   "metadata": {},
   "outputs": [
    {
     "name": "stdout",
     "output_type": "stream",
     "text": [
      "              precision    recall  f1-score   support\n",
      "\n",
      "           0       0.92      0.99      0.95     80461\n",
      "           1       0.54      0.11      0.18      8174\n",
      "\n",
      "    accuracy                           0.91     88635\n",
      "   macro avg       0.73      0.55      0.56     88635\n",
      "weighted avg       0.88      0.91      0.88     88635\n",
      "\n"
     ]
    }
   ],
   "source": [
    "#classification report\n",
    "report = classification_report(y_test,pred_y)\n",
    "print(report)"
   ]
  },
  {
   "cell_type": "markdown",
   "id": "3599aecb-3329-4ea8-9356-ee183b253ee4",
   "metadata": {},
   "source": [
    "# Decision Tree"
   ]
  },
  {
   "cell_type": "code",
   "execution_count": 309,
   "id": "bc47ec4b-1434-4807-969c-beb924427b53",
   "metadata": {},
   "outputs": [],
   "source": [
    "from sklearn.tree import DecisionTreeClassifier"
   ]
  },
  {
   "cell_type": "code",
   "execution_count": 310,
   "id": "aeebcf3e-3e37-40d9-bcac-ca23f96fd8b7",
   "metadata": {},
   "outputs": [],
   "source": [
    "model_dt = DecisionTreeClassifier()"
   ]
  },
  {
   "cell_type": "code",
   "execution_count": 311,
   "id": "2a115faa-1a13-484a-b771-79be2ee146bd",
   "metadata": {},
   "outputs": [
    {
     "data": {
      "text/html": [
       "<style>#sk-container-id-8 {color: black;background-color: white;}#sk-container-id-8 pre{padding: 0;}#sk-container-id-8 div.sk-toggleable {background-color: white;}#sk-container-id-8 label.sk-toggleable__label {cursor: pointer;display: block;width: 100%;margin-bottom: 0;padding: 0.3em;box-sizing: border-box;text-align: center;}#sk-container-id-8 label.sk-toggleable__label-arrow:before {content: \"▸\";float: left;margin-right: 0.25em;color: #696969;}#sk-container-id-8 label.sk-toggleable__label-arrow:hover:before {color: black;}#sk-container-id-8 div.sk-estimator:hover label.sk-toggleable__label-arrow:before {color: black;}#sk-container-id-8 div.sk-toggleable__content {max-height: 0;max-width: 0;overflow: hidden;text-align: left;background-color: #f0f8ff;}#sk-container-id-8 div.sk-toggleable__content pre {margin: 0.2em;color: black;border-radius: 0.25em;background-color: #f0f8ff;}#sk-container-id-8 input.sk-toggleable__control:checked~div.sk-toggleable__content {max-height: 200px;max-width: 100%;overflow: auto;}#sk-container-id-8 input.sk-toggleable__control:checked~label.sk-toggleable__label-arrow:before {content: \"▾\";}#sk-container-id-8 div.sk-estimator input.sk-toggleable__control:checked~label.sk-toggleable__label {background-color: #d4ebff;}#sk-container-id-8 div.sk-label input.sk-toggleable__control:checked~label.sk-toggleable__label {background-color: #d4ebff;}#sk-container-id-8 input.sk-hidden--visually {border: 0;clip: rect(1px 1px 1px 1px);clip: rect(1px, 1px, 1px, 1px);height: 1px;margin: -1px;overflow: hidden;padding: 0;position: absolute;width: 1px;}#sk-container-id-8 div.sk-estimator {font-family: monospace;background-color: #f0f8ff;border: 1px dotted black;border-radius: 0.25em;box-sizing: border-box;margin-bottom: 0.5em;}#sk-container-id-8 div.sk-estimator:hover {background-color: #d4ebff;}#sk-container-id-8 div.sk-parallel-item::after {content: \"\";width: 100%;border-bottom: 1px solid gray;flex-grow: 1;}#sk-container-id-8 div.sk-label:hover label.sk-toggleable__label {background-color: #d4ebff;}#sk-container-id-8 div.sk-serial::before {content: \"\";position: absolute;border-left: 1px solid gray;box-sizing: border-box;top: 0;bottom: 0;left: 50%;z-index: 0;}#sk-container-id-8 div.sk-serial {display: flex;flex-direction: column;align-items: center;background-color: white;padding-right: 0.2em;padding-left: 0.2em;position: relative;}#sk-container-id-8 div.sk-item {position: relative;z-index: 1;}#sk-container-id-8 div.sk-parallel {display: flex;align-items: stretch;justify-content: center;background-color: white;position: relative;}#sk-container-id-8 div.sk-item::before, #sk-container-id-8 div.sk-parallel-item::before {content: \"\";position: absolute;border-left: 1px solid gray;box-sizing: border-box;top: 0;bottom: 0;left: 50%;z-index: -1;}#sk-container-id-8 div.sk-parallel-item {display: flex;flex-direction: column;z-index: 1;position: relative;background-color: white;}#sk-container-id-8 div.sk-parallel-item:first-child::after {align-self: flex-end;width: 50%;}#sk-container-id-8 div.sk-parallel-item:last-child::after {align-self: flex-start;width: 50%;}#sk-container-id-8 div.sk-parallel-item:only-child::after {width: 0;}#sk-container-id-8 div.sk-dashed-wrapped {border: 1px dashed gray;margin: 0 0.4em 0.5em 0.4em;box-sizing: border-box;padding-bottom: 0.4em;background-color: white;}#sk-container-id-8 div.sk-label label {font-family: monospace;font-weight: bold;display: inline-block;line-height: 1.2em;}#sk-container-id-8 div.sk-label-container {text-align: center;}#sk-container-id-8 div.sk-container {/* jupyter's `normalize.less` sets `[hidden] { display: none; }` but bootstrap.min.css set `[hidden] { display: none !important; }` so we also need the `!important` here to be able to override the default hidden behavior on the sphinx rendered scikit-learn.org. See: https://github.com/scikit-learn/scikit-learn/issues/21755 */display: inline-block !important;position: relative;}#sk-container-id-8 div.sk-text-repr-fallback {display: none;}</style><div id=\"sk-container-id-8\" class=\"sk-top-container\"><div class=\"sk-text-repr-fallback\"><pre>DecisionTreeClassifier()</pre><b>In a Jupyter environment, please rerun this cell to show the HTML representation or trust the notebook. <br />On GitHub, the HTML representation is unable to render, please try loading this page with nbviewer.org.</b></div><div class=\"sk-container\" hidden><div class=\"sk-item\"><div class=\"sk-estimator sk-toggleable\"><input class=\"sk-toggleable__control sk-hidden--visually\" id=\"sk-estimator-id-8\" type=\"checkbox\" checked><label for=\"sk-estimator-id-8\" class=\"sk-toggleable__label sk-toggleable__label-arrow\">DecisionTreeClassifier</label><div class=\"sk-toggleable__content\"><pre>DecisionTreeClassifier()</pre></div></div></div></div></div>"
      ],
      "text/plain": [
       "DecisionTreeClassifier()"
      ]
     },
     "execution_count": 311,
     "metadata": {},
     "output_type": "execute_result"
    }
   ],
   "source": [
    "model_dt.fit(X_train_sc, y_train)"
   ]
  },
  {
   "cell_type": "code",
   "execution_count": 312,
   "id": "a982f615-8f0e-4341-b580-575c48073a7b",
   "metadata": {},
   "outputs": [
    {
     "name": "stdout",
     "output_type": "stream",
     "text": [
      "accuracy_score: 0.8512777119647995\n"
     ]
    }
   ],
   "source": [
    "DTpredictions = model_dt.predict(X_test_sc)\n",
    "print(\"accuracy_score:\", accuracy_score(y_test,DTpredictions))"
   ]
  },
  {
   "cell_type": "markdown",
   "id": "634c7995-d8c0-41ec-a7e8-06d440b09e22",
   "metadata": {},
   "source": [
    "### validation of DecisionTree Classifier Model"
   ]
  },
  {
   "cell_type": "code",
   "execution_count": 313,
   "id": "ea8667ce-43da-4dba-9e5d-dc515f8d6de6",
   "metadata": {},
   "outputs": [
    {
     "data": {
      "text/plain": [
       "array([0.852, 0.852, 0.851, 0.853, 0.851, 0.851, 0.852, 0.853, 0.849,\n",
       "       0.848])"
      ]
     },
     "execution_count": 313,
     "metadata": {},
     "output_type": "execute_result"
    }
   ],
   "source": [
    "result_dt = cross_val_score(model_dt, X_train_sc,y_train,cv=kfold)\n",
    "result_dt"
   ]
  },
  {
   "cell_type": "code",
   "execution_count": 314,
   "id": "492f111a-fc8b-455a-838a-5f8c902d63ff",
   "metadata": {},
   "outputs": [
    {
     "data": {
      "text/plain": [
       "<AxesSubplot:>"
      ]
     },
     "execution_count": 314,
     "metadata": {},
     "output_type": "execute_result"
    },
    {
     "data": {
      "image/png": "[encoded data removed]",
      "text/plain": [
       "<Figure size 432x288 with 2 Axes>"
      ]
     },
     "metadata": {
      "needs_background": "light"
     },
     "output_type": "display_data"
    }
   ],
   "source": [
    "pred_y_dt = model_dt.predict(X_test_sc)\n",
    "matrix_dt = confusion_matrix(y_test,pred_y_dt)\n",
    "sns.heatmap(matrix_dt/np.sum(matrix_dt),fmt='.2%', annot=True)"
   ]
  },
  {
   "cell_type": "code",
   "execution_count": 315,
   "id": "ad69d60f-9948-4f9f-b016-a6b660e268b5",
   "metadata": {},
   "outputs": [
    {
     "name": "stdout",
     "output_type": "stream",
     "text": [
      "              precision    recall  f1-score   support\n",
      "\n",
      "           0       0.92      0.91      0.92     80461\n",
      "           1       0.23      0.25      0.24      8174\n",
      "\n",
      "    accuracy                           0.85     88635\n",
      "   macro avg       0.57      0.58      0.58     88635\n",
      "weighted avg       0.86      0.85      0.85     88635\n",
      "\n"
     ]
    }
   ],
   "source": [
    "#classification report\n",
    "report_dt = classification_report(y_test,pred_y_dt)\n",
    "print(report_dt)"
   ]
  },
  {
   "cell_type": "markdown",
   "id": "bb2f4a49-6b6f-4c4c-9317-91f00a70534d",
   "metadata": {},
   "source": [
    "# RandomForest"
   ]
  },
  {
   "cell_type": "code",
   "execution_count": 316,
   "id": "2d20a087-1228-4a2c-a7a5-79bfa8efb87a",
   "metadata": {},
   "outputs": [],
   "source": [
    "from sklearn.ensemble import RandomForestClassifier"
   ]
  },
  {
   "cell_type": "code",
   "execution_count": 317,
   "id": "fe0c6411-1b87-45f6-807a-7f94ad7c5dad",
   "metadata": {},
   "outputs": [],
   "source": [
    "model_rf = RandomForestClassifier()"
   ]
  },
  {
   "cell_type": "code",
   "execution_count": 318,
   "id": "151f1b6e-f494-4225-bef9-9eb79d87aac8",
   "metadata": {},
   "outputs": [
    {
     "data": {
      "text/html": [
       "<style>#sk-container-id-9 {color: black;background-color: white;}#sk-container-id-9 pre{padding: 0;}#sk-container-id-9 div.sk-toggleable {background-color: white;}#sk-container-id-9 label.sk-toggleable__label {cursor: pointer;display: block;width: 100%;margin-bottom: 0;padding: 0.3em;box-sizing: border-box;text-align: center;}#sk-container-id-9 label.sk-toggleable__label-arrow:before {content: \"▸\";float: left;margin-right: 0.25em;color: #696969;}#sk-container-id-9 label.sk-toggleable__label-arrow:hover:before {color: black;}#sk-container-id-9 div.sk-estimator:hover label.sk-toggleable__label-arrow:before {color: black;}#sk-container-id-9 div.sk-toggleable__content {max-height: 0;max-width: 0;overflow: hidden;text-align: left;background-color: #f0f8ff;}#sk-container-id-9 div.sk-toggleable__content pre {margin: 0.2em;color: black;border-radius: 0.25em;background-color: #f0f8ff;}#sk-container-id-9 input.sk-toggleable__control:checked~div.sk-toggleable__content {max-height: 200px;max-width: 100%;overflow: auto;}#sk-container-id-9 input.sk-toggleable__control:checked~label.sk-toggleable__label-arrow:before {content: \"▾\";}#sk-container-id-9 div.sk-estimator input.sk-toggleable__control:checked~label.sk-toggleable__label {background-color: #d4ebff;}#sk-container-id-9 div.sk-label input.sk-toggleable__control:checked~label.sk-toggleable__label {background-color: #d4ebff;}#sk-container-id-9 input.sk-hidden--visually {border: 0;clip: rect(1px 1px 1px 1px);clip: rect(1px, 1px, 1px, 1px);height: 1px;margin: -1px;overflow: hidden;padding: 0;position: absolute;width: 1px;}#sk-container-id-9 div.sk-estimator {font-family: monospace;background-color: #f0f8ff;border: 1px dotted black;border-radius: 0.25em;box-sizing: border-box;margin-bottom: 0.5em;}#sk-container-id-9 div.sk-estimator:hover {background-color: #d4ebff;}#sk-container-id-9 div.sk-parallel-item::after {content: \"\";width: 100%;border-bottom: 1px solid gray;flex-grow: 1;}#sk-container-id-9 div.sk-label:hover label.sk-toggleable__label {background-color: #d4ebff;}#sk-container-id-9 div.sk-serial::before {content: \"\";position: absolute;border-left: 1px solid gray;box-sizing: border-box;top: 0;bottom: 0;left: 50%;z-index: 0;}#sk-container-id-9 div.sk-serial {display: flex;flex-direction: column;align-items: center;background-color: white;padding-right: 0.2em;padding-left: 0.2em;position: relative;}#sk-container-id-9 div.sk-item {position: relative;z-index: 1;}#sk-container-id-9 div.sk-parallel {display: flex;align-items: stretch;justify-content: center;background-color: white;position: relative;}#sk-container-id-9 div.sk-item::before, #sk-container-id-9 div.sk-parallel-item::before {content: \"\";position: absolute;border-left: 1px solid gray;box-sizing: border-box;top: 0;bottom: 0;left: 50%;z-index: -1;}#sk-container-id-9 div.sk-parallel-item {display: flex;flex-direction: column;z-index: 1;position: relative;background-color: white;}#sk-container-id-9 div.sk-parallel-item:first-child::after {align-self: flex-end;width: 50%;}#sk-container-id-9 div.sk-parallel-item:last-child::after {align-self: flex-start;width: 50%;}#sk-container-id-9 div.sk-parallel-item:only-child::after {width: 0;}#sk-container-id-9 div.sk-dashed-wrapped {border: 1px dashed gray;margin: 0 0.4em 0.5em 0.4em;box-sizing: border-box;padding-bottom: 0.4em;background-color: white;}#sk-container-id-9 div.sk-label label {font-family: monospace;font-weight: bold;display: inline-block;line-height: 1.2em;}#sk-container-id-9 div.sk-label-container {text-align: center;}#sk-container-id-9 div.sk-container {/* jupyter's `normalize.less` sets `[hidden] { display: none; }` but bootstrap.min.css set `[hidden] { display: none !important; }` so we also need the `!important` here to be able to override the default hidden behavior on the sphinx rendered scikit-learn.org. See: https://github.com/scikit-learn/scikit-learn/issues/21755 */display: inline-block !important;position: relative;}#sk-container-id-9 div.sk-text-repr-fallback {display: none;}</style><div id=\"sk-container-id-9\" class=\"sk-top-container\"><div class=\"sk-text-repr-fallback\"><pre>RandomForestClassifier()</pre><b>In a Jupyter environment, please rerun this cell to show the HTML representation or trust the notebook. <br />On GitHub, the HTML representation is unable to render, please try loading this page with nbviewer.org.</b></div><div class=\"sk-container\" hidden><div class=\"sk-item\"><div class=\"sk-estimator sk-toggleable\"><input class=\"sk-toggleable__control sk-hidden--visually\" id=\"sk-estimator-id-9\" type=\"checkbox\" checked><label for=\"sk-estimator-id-9\" class=\"sk-toggleable__label sk-toggleable__label-arrow\">RandomForestClassifier</label><div class=\"sk-toggleable__content\"><pre>RandomForestClassifier()</pre></div></div></div></div></div>"
      ],
      "text/plain": [
       "RandomForestClassifier()"
      ]
     },
     "execution_count": 318,
     "metadata": {},
     "output_type": "execute_result"
    }
   ],
   "source": [
    "model_rf.fit(X_train_sc,y_train)"
   ]
  },
  {
   "cell_type": "code",
   "execution_count": 319,
   "id": "8c8fa389-5e80-4b7e-945d-26252c2e99d4",
   "metadata": {},
   "outputs": [
    {
     "name": "stdout",
     "output_type": "stream",
     "text": [
      "accuracy_score: 0.8957296778924804\n"
     ]
    }
   ],
   "source": [
    "RFpredictions = model_rf.predict(X_test_sc)\n",
    "print(\"accuracy_score:\", accuracy_score(y_test,RFpredictions))"
   ]
  },
  {
   "cell_type": "markdown",
   "id": "1b62be64-8d4a-4629-b82c-5d1a759ed9c1",
   "metadata": {},
   "source": [
    "## Validation of RandomForest Classifier Model"
   ]
  },
  {
   "cell_type": "code",
   "execution_count": 320,
   "id": "28889b25-9735-4add-8190-710c68f945aa",
   "metadata": {},
   "outputs": [
    {
     "data": {
      "text/plain": [
       "array([0.897, 0.898, 0.897, 0.897, 0.894, 0.896, 0.899, 0.898, 0.899,\n",
       "       0.891])"
      ]
     },
     "execution_count": 320,
     "metadata": {},
     "output_type": "execute_result"
    }
   ],
   "source": [
    "result_rf = cross_val_score(model_rf, X_train_sc,y_train,cv=kfold)\n",
    "result_rf"
   ]
  },
  {
   "cell_type": "code",
   "execution_count": 321,
   "id": "f5b524f4-4aeb-47ed-9c0b-b9671735b966",
   "metadata": {},
   "outputs": [
    {
     "data": {
      "text/plain": [
       "<AxesSubplot:>"
      ]
     },
     "execution_count": 321,
     "metadata": {},
     "output_type": "execute_result"
    },
    {
     "data": {
      "image/png": "[encoded data removed]",
      "text/plain": [
       "<Figure size 432x288 with 2 Axes>"
      ]
     },
     "metadata": {
      "needs_background": "light"
     },
     "output_type": "display_data"
    }
   ],
   "source": [
    "pred_y_rf = model_rf.predict(X_test_sc)\n",
    "matrix_rf = confusion_matrix(y_test,pred_y_rf)\n",
    "sns.heatmap(matrix_rf/np.sum(matrix_rf),fmt='.2%', annot=True)"
   ]
  },
  {
   "cell_type": "code",
   "execution_count": 322,
   "id": "334d2f5a-0728-4929-97a9-5d036845b363",
   "metadata": {},
   "outputs": [
    {
     "name": "stdout",
     "output_type": "stream",
     "text": [
      "              precision    recall  f1-score   support\n",
      "\n",
      "           0       0.92      0.97      0.94     80461\n",
      "           1       0.32      0.12      0.18      8174\n",
      "\n",
      "    accuracy                           0.90     88635\n",
      "   macro avg       0.62      0.55      0.56     88635\n",
      "weighted avg       0.86      0.90      0.87     88635\n",
      "\n"
     ]
    }
   ],
   "source": [
    "#classification report\n",
    "report_rf = classification_report(y_test,pred_y_rf)\n",
    "print(report_rf)"
   ]
  }
 ],
 "metadata": {
  "kernelspec": {
   "display_name": "Python 3 (ipykernel)",
   "language": "python",
   "name": "python3"
  },
  "language_info": {
   "codemirror_mode": {
    "name": "ipython",
    "version": 3
   },
   "file_extension": ".py",
   "mimetype": "text/x-python",
   "name": "python",
   "nbconvert_exporter": "python",
   "pygments_lexer": "ipython3",
   "version": "3.9.9"
  }
 },
 "nbformat": 4,
 "nbformat_minor": 5
}
