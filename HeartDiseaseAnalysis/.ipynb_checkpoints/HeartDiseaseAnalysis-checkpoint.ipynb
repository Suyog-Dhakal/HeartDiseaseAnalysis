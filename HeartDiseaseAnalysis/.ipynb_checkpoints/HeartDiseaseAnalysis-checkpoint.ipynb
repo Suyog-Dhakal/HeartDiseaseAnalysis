{
 "cells": [
  {
   "cell_type": "markdown",
   "id": "49ff9cac-4c45-4d99-9d46-4ce65b90d24a",
   "metadata": {},
   "source": [
    "<h2>Centers for Disease Control and Prevention(CDC) annual survey data of adults related to their health status</h2>"
   ]
  },
  {
   "cell_type": "code",
   "execution_count": 1,
   "id": "b9dac6d4-429f-41ff-bd15-33bc9952e5ad",
   "metadata": {},
   "outputs": [],
   "source": [
    "import pandas as pd\n",
    "import numpy as np\n",
    "import seaborn as sns\n",
    "import matplotlib.pyplot as plt"
   ]
  },
  {
   "cell_type": "code",
   "execution_count": 2,
   "id": "928940b5-3ad6-43e8-9224-61598ffee7b5",
   "metadata": {},
   "outputs": [],
   "source": [
    "df1 = pd.read_csv('heart_data.csv')"
   ]
  },
  {
   "cell_type": "code",
   "execution_count": 3,
   "id": "55cd59a3-0fb5-4d0c-9785-5d4c3dc9c44e",
   "metadata": {},
   "outputs": [
    {
     "data": {
      "text/html": [
       "<div>\n",
       "<style scoped>\n",
       "    .dataframe tbody tr th:only-of-type {\n",
       "        vertical-align: middle;\n",
       "    }\n",
       "\n",
       "    .dataframe tbody tr th {\n",
       "        vertical-align: top;\n",
       "    }\n",
       "\n",
       "    .dataframe thead th {\n",
       "        text-align: right;\n",
       "    }\n",
       "</style>\n",
       "<table border=\"1\" class=\"dataframe\">\n",
       "  <thead>\n",
       "    <tr style=\"text-align: right;\">\n",
       "      <th></th>\n",
       "      <th>HeartDisease</th>\n",
       "      <th>BMI</th>\n",
       "      <th>Smoking</th>\n",
       "      <th>AlcoholDrinking</th>\n",
       "      <th>Stroke</th>\n",
       "      <th>PhysicalHealth</th>\n",
       "      <th>MentalHealth</th>\n",
       "      <th>DiffWalking</th>\n",
       "      <th>Sex</th>\n",
       "      <th>AgeCategory</th>\n",
       "      <th>Race</th>\n",
       "      <th>Diabetic</th>\n",
       "      <th>PhysicalActivity</th>\n",
       "      <th>GenHealth</th>\n",
       "      <th>SleepTime</th>\n",
       "      <th>Asthma</th>\n",
       "      <th>KidneyDisease</th>\n",
       "      <th>SkinCancer</th>\n",
       "    </tr>\n",
       "  </thead>\n",
       "  <tbody>\n",
       "    <tr>\n",
       "      <th>0</th>\n",
       "      <td>No</td>\n",
       "      <td>16.60</td>\n",
       "      <td>Yes</td>\n",
       "      <td>No</td>\n",
       "      <td>No</td>\n",
       "      <td>3.0</td>\n",
       "      <td>30.0</td>\n",
       "      <td>No</td>\n",
       "      <td>Female</td>\n",
       "      <td>55-59</td>\n",
       "      <td>White</td>\n",
       "      <td>Yes</td>\n",
       "      <td>Yes</td>\n",
       "      <td>Very good</td>\n",
       "      <td>5.0</td>\n",
       "      <td>Yes</td>\n",
       "      <td>No</td>\n",
       "      <td>Yes</td>\n",
       "    </tr>\n",
       "    <tr>\n",
       "      <th>1</th>\n",
       "      <td>No</td>\n",
       "      <td>20.34</td>\n",
       "      <td>No</td>\n",
       "      <td>No</td>\n",
       "      <td>Yes</td>\n",
       "      <td>0.0</td>\n",
       "      <td>0.0</td>\n",
       "      <td>No</td>\n",
       "      <td>Female</td>\n",
       "      <td>80 or older</td>\n",
       "      <td>White</td>\n",
       "      <td>No</td>\n",
       "      <td>Yes</td>\n",
       "      <td>Very good</td>\n",
       "      <td>7.0</td>\n",
       "      <td>No</td>\n",
       "      <td>No</td>\n",
       "      <td>No</td>\n",
       "    </tr>\n",
       "    <tr>\n",
       "      <th>2</th>\n",
       "      <td>No</td>\n",
       "      <td>26.58</td>\n",
       "      <td>Yes</td>\n",
       "      <td>No</td>\n",
       "      <td>No</td>\n",
       "      <td>20.0</td>\n",
       "      <td>30.0</td>\n",
       "      <td>No</td>\n",
       "      <td>Male</td>\n",
       "      <td>65-69</td>\n",
       "      <td>White</td>\n",
       "      <td>Yes</td>\n",
       "      <td>Yes</td>\n",
       "      <td>Fair</td>\n",
       "      <td>8.0</td>\n",
       "      <td>Yes</td>\n",
       "      <td>No</td>\n",
       "      <td>No</td>\n",
       "    </tr>\n",
       "    <tr>\n",
       "      <th>3</th>\n",
       "      <td>No</td>\n",
       "      <td>24.21</td>\n",
       "      <td>No</td>\n",
       "      <td>No</td>\n",
       "      <td>No</td>\n",
       "      <td>0.0</td>\n",
       "      <td>0.0</td>\n",
       "      <td>No</td>\n",
       "      <td>Female</td>\n",
       "      <td>75-79</td>\n",
       "      <td>White</td>\n",
       "      <td>No</td>\n",
       "      <td>No</td>\n",
       "      <td>Good</td>\n",
       "      <td>6.0</td>\n",
       "      <td>No</td>\n",
       "      <td>No</td>\n",
       "      <td>Yes</td>\n",
       "    </tr>\n",
       "    <tr>\n",
       "      <th>4</th>\n",
       "      <td>No</td>\n",
       "      <td>23.71</td>\n",
       "      <td>No</td>\n",
       "      <td>No</td>\n",
       "      <td>No</td>\n",
       "      <td>28.0</td>\n",
       "      <td>0.0</td>\n",
       "      <td>Yes</td>\n",
       "      <td>Female</td>\n",
       "      <td>40-44</td>\n",
       "      <td>White</td>\n",
       "      <td>No</td>\n",
       "      <td>Yes</td>\n",
       "      <td>Very good</td>\n",
       "      <td>8.0</td>\n",
       "      <td>No</td>\n",
       "      <td>No</td>\n",
       "      <td>No</td>\n",
       "    </tr>\n",
       "  </tbody>\n",
       "</table>\n",
       "</div>"
      ],
      "text/plain": [
       "  HeartDisease    BMI Smoking AlcoholDrinking Stroke  PhysicalHealth  \\\n",
       "0           No  16.60     Yes              No     No             3.0   \n",
       "1           No  20.34      No              No    Yes             0.0   \n",
       "2           No  26.58     Yes              No     No            20.0   \n",
       "3           No  24.21      No              No     No             0.0   \n",
       "4           No  23.71      No              No     No            28.0   \n",
       "\n",
       "   MentalHealth DiffWalking     Sex  AgeCategory   Race Diabetic  \\\n",
       "0          30.0          No  Female        55-59  White      Yes   \n",
       "1           0.0          No  Female  80 or older  White       No   \n",
       "2          30.0          No    Male        65-69  White      Yes   \n",
       "3           0.0          No  Female        75-79  White       No   \n",
       "4           0.0         Yes  Female        40-44  White       No   \n",
       "\n",
       "  PhysicalActivity  GenHealth  SleepTime Asthma KidneyDisease SkinCancer  \n",
       "0              Yes  Very good        5.0    Yes            No        Yes  \n",
       "1              Yes  Very good        7.0     No            No         No  \n",
       "2              Yes       Fair        8.0    Yes            No         No  \n",
       "3               No       Good        6.0     No            No        Yes  \n",
       "4              Yes  Very good        8.0     No            No         No  "
      ]
     },
     "execution_count": 3,
     "metadata": {},
     "output_type": "execute_result"
    }
   ],
   "source": [
    "df1.head()"
   ]
  },
  {
   "cell_type": "code",
   "execution_count": 4,
   "id": "05440c21-f334-41b4-8f93-a6c68869701b",
   "metadata": {},
   "outputs": [
    {
     "data": {
      "text/html": [
       "<div>\n",
       "<style scoped>\n",
       "    .dataframe tbody tr th:only-of-type {\n",
       "        vertical-align: middle;\n",
       "    }\n",
       "\n",
       "    .dataframe tbody tr th {\n",
       "        vertical-align: top;\n",
       "    }\n",
       "\n",
       "    .dataframe thead th {\n",
       "        text-align: right;\n",
       "    }\n",
       "</style>\n",
       "<table border=\"1\" class=\"dataframe\">\n",
       "  <thead>\n",
       "    <tr style=\"text-align: right;\">\n",
       "      <th></th>\n",
       "      <th>HeartDisease</th>\n",
       "      <th>BMI</th>\n",
       "      <th>Smoking</th>\n",
       "      <th>AlcoholDrinking</th>\n",
       "      <th>Stroke</th>\n",
       "      <th>PhysicalHealth</th>\n",
       "      <th>MentalHealth</th>\n",
       "      <th>DiffWalking</th>\n",
       "      <th>Sex</th>\n",
       "      <th>AgeCategory</th>\n",
       "      <th>Race</th>\n",
       "      <th>Diabetic</th>\n",
       "      <th>PhysicalActivity</th>\n",
       "      <th>GenHealth</th>\n",
       "      <th>SleepTime</th>\n",
       "      <th>Asthma</th>\n",
       "      <th>KidneyDisease</th>\n",
       "      <th>SkinCancer</th>\n",
       "    </tr>\n",
       "  </thead>\n",
       "  <tbody>\n",
       "    <tr>\n",
       "      <th>319790</th>\n",
       "      <td>Yes</td>\n",
       "      <td>27.41</td>\n",
       "      <td>Yes</td>\n",
       "      <td>No</td>\n",
       "      <td>No</td>\n",
       "      <td>7.0</td>\n",
       "      <td>0.0</td>\n",
       "      <td>Yes</td>\n",
       "      <td>Male</td>\n",
       "      <td>60-64</td>\n",
       "      <td>Hispanic</td>\n",
       "      <td>Yes</td>\n",
       "      <td>No</td>\n",
       "      <td>Fair</td>\n",
       "      <td>6.0</td>\n",
       "      <td>Yes</td>\n",
       "      <td>No</td>\n",
       "      <td>No</td>\n",
       "    </tr>\n",
       "    <tr>\n",
       "      <th>319791</th>\n",
       "      <td>No</td>\n",
       "      <td>29.84</td>\n",
       "      <td>Yes</td>\n",
       "      <td>No</td>\n",
       "      <td>No</td>\n",
       "      <td>0.0</td>\n",
       "      <td>0.0</td>\n",
       "      <td>No</td>\n",
       "      <td>Male</td>\n",
       "      <td>35-39</td>\n",
       "      <td>Hispanic</td>\n",
       "      <td>No</td>\n",
       "      <td>Yes</td>\n",
       "      <td>Very good</td>\n",
       "      <td>5.0</td>\n",
       "      <td>Yes</td>\n",
       "      <td>No</td>\n",
       "      <td>No</td>\n",
       "    </tr>\n",
       "    <tr>\n",
       "      <th>319792</th>\n",
       "      <td>No</td>\n",
       "      <td>24.24</td>\n",
       "      <td>No</td>\n",
       "      <td>No</td>\n",
       "      <td>No</td>\n",
       "      <td>0.0</td>\n",
       "      <td>0.0</td>\n",
       "      <td>No</td>\n",
       "      <td>Female</td>\n",
       "      <td>45-49</td>\n",
       "      <td>Hispanic</td>\n",
       "      <td>No</td>\n",
       "      <td>Yes</td>\n",
       "      <td>Good</td>\n",
       "      <td>6.0</td>\n",
       "      <td>No</td>\n",
       "      <td>No</td>\n",
       "      <td>No</td>\n",
       "    </tr>\n",
       "    <tr>\n",
       "      <th>319793</th>\n",
       "      <td>No</td>\n",
       "      <td>32.81</td>\n",
       "      <td>No</td>\n",
       "      <td>No</td>\n",
       "      <td>No</td>\n",
       "      <td>0.0</td>\n",
       "      <td>0.0</td>\n",
       "      <td>No</td>\n",
       "      <td>Female</td>\n",
       "      <td>25-29</td>\n",
       "      <td>Hispanic</td>\n",
       "      <td>No</td>\n",
       "      <td>No</td>\n",
       "      <td>Good</td>\n",
       "      <td>12.0</td>\n",
       "      <td>No</td>\n",
       "      <td>No</td>\n",
       "      <td>No</td>\n",
       "    </tr>\n",
       "    <tr>\n",
       "      <th>319794</th>\n",
       "      <td>No</td>\n",
       "      <td>46.56</td>\n",
       "      <td>No</td>\n",
       "      <td>No</td>\n",
       "      <td>No</td>\n",
       "      <td>0.0</td>\n",
       "      <td>0.0</td>\n",
       "      <td>No</td>\n",
       "      <td>Female</td>\n",
       "      <td>80 or older</td>\n",
       "      <td>Hispanic</td>\n",
       "      <td>No</td>\n",
       "      <td>Yes</td>\n",
       "      <td>Good</td>\n",
       "      <td>8.0</td>\n",
       "      <td>No</td>\n",
       "      <td>No</td>\n",
       "      <td>No</td>\n",
       "    </tr>\n",
       "  </tbody>\n",
       "</table>\n",
       "</div>"
      ],
      "text/plain": [
       "       HeartDisease    BMI Smoking AlcoholDrinking Stroke  PhysicalHealth  \\\n",
       "319790          Yes  27.41     Yes              No     No             7.0   \n",
       "319791           No  29.84     Yes              No     No             0.0   \n",
       "319792           No  24.24      No              No     No             0.0   \n",
       "319793           No  32.81      No              No     No             0.0   \n",
       "319794           No  46.56      No              No     No             0.0   \n",
       "\n",
       "        MentalHealth DiffWalking     Sex  AgeCategory      Race Diabetic  \\\n",
       "319790           0.0         Yes    Male        60-64  Hispanic      Yes   \n",
       "319791           0.0          No    Male        35-39  Hispanic       No   \n",
       "319792           0.0          No  Female        45-49  Hispanic       No   \n",
       "319793           0.0          No  Female        25-29  Hispanic       No   \n",
       "319794           0.0          No  Female  80 or older  Hispanic       No   \n",
       "\n",
       "       PhysicalActivity  GenHealth  SleepTime Asthma KidneyDisease SkinCancer  \n",
       "319790               No       Fair        6.0    Yes            No         No  \n",
       "319791              Yes  Very good        5.0    Yes            No         No  \n",
       "319792              Yes       Good        6.0     No            No         No  \n",
       "319793               No       Good       12.0     No            No         No  \n",
       "319794              Yes       Good        8.0     No            No         No  "
      ]
     },
     "execution_count": 4,
     "metadata": {},
     "output_type": "execute_result"
    }
   ],
   "source": [
    "df1.tail()"
   ]
  },
  {
   "cell_type": "markdown",
   "id": "aeaf3a40-ae45-480e-8299-88568d6edf39",
   "metadata": {},
   "source": [
    "# Data Information"
   ]
  },
  {
   "cell_type": "markdown",
   "id": "14048219-7be4-42db-b8c5-5d12145e033b",
   "metadata": {},
   "source": [
    "### Attributes information\n",
    "> * HeartDisease : Respondents that have ever reported having coronary heart disease (CHD) or myocardial infarction (MI)\n",
    "> * BMI : Body Mass Index (BMI)\n",
    "> * Smoking : Have you smoked at least 100 cigarettes in your entire life? \n",
    "> * AlcoholDrinking : Heavy drinkers (adult men having more than 14 drinks per week and adult women having more than 7 drinks per week\n",
    "> * Stroke : (Ever told) (you had) a stroke?\n",
    "> * PhysicalHealth : Now thinking about your physical health, which includes physical illness and injury, for how many days during the past 30 days was your physical * health not good? (0-30 days)\n",
    "> * MentalHealth : Thinking about your mental health, for how many days during the past 30 days was your mental health not good? (0-30 days)\n",
    "> * DiffWalking : Do you have serious difficulty walking or climbing stairs?\n",
    "> * Sex : Are you male or female?\n",
    "> * AgeCategory : Fourteen-level age category\n",
    "> * Race : Imputed race/ethnicity value\n",
    "> * Diabetic : (Ever told) (you had) diabetes?\n",
    "> * PhysicalActivity : Adults who reported doing physical activity or exercise during the past 30 days other than their regular job\n",
    "> * GenHealth : Would you say that in general your health is...\n",
    "> * SleepTime : On average, how many hours of sleep do you get in a 24-hour period?\n",
    "> * Asthma : (Ever told) (you had) asthma?\n",
    "> * KidneyDisease : Not including kidney stones, bladder infection or incontinence, were you ever told you had kidney disease?\n",
    "> * SkinCancer : (Ever told) (you had) skin cancer?"
   ]
  },
  {
   "cell_type": "markdown",
   "id": "20ee1ed9-129c-4d9e-9322-e96756cd65ba",
   "metadata": {},
   "source": [
    "### Columns Names"
   ]
  },
  {
   "cell_type": "code",
   "execution_count": 5,
   "id": "9596dc5a-ce21-4261-b6a0-52958a11d598",
   "metadata": {},
   "outputs": [
    {
     "data": {
      "text/plain": [
       "Index(['HeartDisease', 'BMI', 'Smoking', 'AlcoholDrinking', 'Stroke',\n",
       "       'PhysicalHealth', 'MentalHealth', 'DiffWalking', 'Sex', 'AgeCategory',\n",
       "       'Race', 'Diabetic', 'PhysicalActivity', 'GenHealth', 'SleepTime',\n",
       "       'Asthma', 'KidneyDisease', 'SkinCancer'],\n",
       "      dtype='object')"
      ]
     },
     "execution_count": 5,
     "metadata": {},
     "output_type": "execute_result"
    }
   ],
   "source": [
    "df1.columns"
   ]
  },
  {
   "cell_type": "markdown",
   "id": "0a40df2a-29fb-4f4b-a11c-53c075f8359f",
   "metadata": {},
   "source": [
    "### Renaming columns"
   ]
  },
  {
   "cell_type": "code",
   "execution_count": 6,
   "id": "8d8cf9b5-eff6-4dbd-9901-813478393a6d",
   "metadata": {},
   "outputs": [],
   "source": [
    "df1.rename(columns={\n",
    "        'DiffWalking': 'DifficultyInWalking',\n",
    "        'GenHealth': 'GeneralHealth'\n",
    "},inplace=True)"
   ]
  },
  {
   "cell_type": "code",
   "execution_count": 7,
   "id": "bf4e3a02-8d86-4b44-8d0c-3fef8d8ed356",
   "metadata": {},
   "outputs": [
    {
     "data": {
      "text/html": [
       "<div>\n",
       "<style scoped>\n",
       "    .dataframe tbody tr th:only-of-type {\n",
       "        vertical-align: middle;\n",
       "    }\n",
       "\n",
       "    .dataframe tbody tr th {\n",
       "        vertical-align: top;\n",
       "    }\n",
       "\n",
       "    .dataframe thead th {\n",
       "        text-align: right;\n",
       "    }\n",
       "</style>\n",
       "<table border=\"1\" class=\"dataframe\">\n",
       "  <thead>\n",
       "    <tr style=\"text-align: right;\">\n",
       "      <th></th>\n",
       "      <th>HeartDisease</th>\n",
       "      <th>BMI</th>\n",
       "      <th>Smoking</th>\n",
       "      <th>AlcoholDrinking</th>\n",
       "      <th>Stroke</th>\n",
       "      <th>PhysicalHealth</th>\n",
       "      <th>MentalHealth</th>\n",
       "      <th>DifficultyInWalking</th>\n",
       "      <th>Sex</th>\n",
       "      <th>AgeCategory</th>\n",
       "      <th>Race</th>\n",
       "      <th>Diabetic</th>\n",
       "      <th>PhysicalActivity</th>\n",
       "      <th>GeneralHealth</th>\n",
       "      <th>SleepTime</th>\n",
       "      <th>Asthma</th>\n",
       "      <th>KidneyDisease</th>\n",
       "      <th>SkinCancer</th>\n",
       "    </tr>\n",
       "  </thead>\n",
       "  <tbody>\n",
       "    <tr>\n",
       "      <th>0</th>\n",
       "      <td>No</td>\n",
       "      <td>16.6</td>\n",
       "      <td>Yes</td>\n",
       "      <td>No</td>\n",
       "      <td>No</td>\n",
       "      <td>3.0</td>\n",
       "      <td>30.0</td>\n",
       "      <td>No</td>\n",
       "      <td>Female</td>\n",
       "      <td>55-59</td>\n",
       "      <td>White</td>\n",
       "      <td>Yes</td>\n",
       "      <td>Yes</td>\n",
       "      <td>Very good</td>\n",
       "      <td>5.0</td>\n",
       "      <td>Yes</td>\n",
       "      <td>No</td>\n",
       "      <td>Yes</td>\n",
       "    </tr>\n",
       "  </tbody>\n",
       "</table>\n",
       "</div>"
      ],
      "text/plain": [
       "  HeartDisease   BMI Smoking AlcoholDrinking Stroke  PhysicalHealth  \\\n",
       "0           No  16.6     Yes              No     No             3.0   \n",
       "\n",
       "   MentalHealth DifficultyInWalking     Sex AgeCategory   Race Diabetic  \\\n",
       "0          30.0                  No  Female       55-59  White      Yes   \n",
       "\n",
       "  PhysicalActivity GeneralHealth  SleepTime Asthma KidneyDisease SkinCancer  \n",
       "0              Yes     Very good        5.0    Yes            No        Yes  "
      ]
     },
     "execution_count": 7,
     "metadata": {},
     "output_type": "execute_result"
    }
   ],
   "source": [
    "df1.head(1)"
   ]
  },
  {
   "cell_type": "markdown",
   "id": "437acf66-016e-41e9-9037-334edfb78bb6",
   "metadata": {},
   "source": [
    "### Dataset shape"
   ]
  },
  {
   "cell_type": "code",
   "execution_count": 8,
   "id": "8eabc2d7-ca8d-4847-a638-3914a2ef12de",
   "metadata": {},
   "outputs": [
    {
     "data": {
      "text/plain": [
       "(319795, 18)"
      ]
     },
     "execution_count": 8,
     "metadata": {},
     "output_type": "execute_result"
    }
   ],
   "source": [
    "df1.shape"
   ]
  },
  {
   "cell_type": "markdown",
   "id": "03ed6508-3520-4201-9ec7-e5643e8b02ad",
   "metadata": {},
   "source": [
    "### Data types of the attributes"
   ]
  },
  {
   "cell_type": "code",
   "execution_count": 9,
   "id": "d00e6bac-55ff-4a4f-9455-286f0fab5e7e",
   "metadata": {},
   "outputs": [
    {
     "name": "stdout",
     "output_type": "stream",
     "text": [
      "<class 'pandas.core.frame.DataFrame'>\n",
      "RangeIndex: 319795 entries, 0 to 319794\n",
      "Data columns (total 18 columns):\n",
      " #   Column               Non-Null Count   Dtype  \n",
      "---  ------               --------------   -----  \n",
      " 0   HeartDisease         319795 non-null  object \n",
      " 1   BMI                  319795 non-null  float64\n",
      " 2   Smoking              319795 non-null  object \n",
      " 3   AlcoholDrinking      319795 non-null  object \n",
      " 4   Stroke               319795 non-null  object \n",
      " 5   PhysicalHealth       319795 non-null  float64\n",
      " 6   MentalHealth         319795 non-null  float64\n",
      " 7   DifficultyInWalking  319795 non-null  object \n",
      " 8   Sex                  319795 non-null  object \n",
      " 9   AgeCategory          319795 non-null  object \n",
      " 10  Race                 319795 non-null  object \n",
      " 11  Diabetic             319795 non-null  object \n",
      " 12  PhysicalActivity     319795 non-null  object \n",
      " 13  GeneralHealth        319795 non-null  object \n",
      " 14  SleepTime            319795 non-null  float64\n",
      " 15  Asthma               319795 non-null  object \n",
      " 16  KidneyDisease        319795 non-null  object \n",
      " 17  SkinCancer           319795 non-null  object \n",
      "dtypes: float64(4), object(14)\n",
      "memory usage: 43.9+ MB\n"
     ]
    }
   ],
   "source": [
    "df1.info()"
   ]
  },
  {
   "cell_type": "markdown",
   "id": "894c3aae-31d0-4374-a713-8a6fe567bd99",
   "metadata": {},
   "source": [
    "### Checking Null values "
   ]
  },
  {
   "cell_type": "code",
   "execution_count": 10,
   "id": "3a8fb231-b1ff-48d5-93de-2be76a423a68",
   "metadata": {},
   "outputs": [
    {
     "data": {
      "text/plain": [
       "HeartDisease           0\n",
       "BMI                    0\n",
       "Smoking                0\n",
       "AlcoholDrinking        0\n",
       "Stroke                 0\n",
       "PhysicalHealth         0\n",
       "MentalHealth           0\n",
       "DifficultyInWalking    0\n",
       "Sex                    0\n",
       "AgeCategory            0\n",
       "Race                   0\n",
       "Diabetic               0\n",
       "PhysicalActivity       0\n",
       "GeneralHealth          0\n",
       "SleepTime              0\n",
       "Asthma                 0\n",
       "KidneyDisease          0\n",
       "SkinCancer             0\n",
       "dtype: int64"
      ]
     },
     "execution_count": 10,
     "metadata": {},
     "output_type": "execute_result"
    }
   ],
   "source": [
    "df1.isnull().sum()"
   ]
  },
  {
   "cell_type": "markdown",
   "id": "dd45e63a-b164-4923-a94c-6c86acc3c25f",
   "metadata": {},
   "source": [
    "### Checking unique values of every categorical features"
   ]
  },
  {
   "cell_type": "code",
   "execution_count": 11,
   "id": "f3644b8b-004d-41bf-b175-744750d8d5ae",
   "metadata": {},
   "outputs": [
    {
     "data": {
      "text/plain": [
       "array(['No', 'Yes'], dtype=object)"
      ]
     },
     "execution_count": 11,
     "metadata": {},
     "output_type": "execute_result"
    }
   ],
   "source": [
    "df1['HeartDisease'].unique()"
   ]
  },
  {
   "cell_type": "code",
   "execution_count": 12,
   "id": "5d4cfbcb-810f-4d8f-b108-b56d55249349",
   "metadata": {},
   "outputs": [
    {
     "data": {
      "text/plain": [
       "array(['Yes', 'No'], dtype=object)"
      ]
     },
     "execution_count": 12,
     "metadata": {},
     "output_type": "execute_result"
    }
   ],
   "source": [
    "df1['Smoking'].unique()"
   ]
  },
  {
   "cell_type": "code",
   "execution_count": 13,
   "id": "acb00220-e8b3-4a7b-acb8-dfdd538b698f",
   "metadata": {},
   "outputs": [
    {
     "data": {
      "text/plain": [
       "array(['No', 'Yes'], dtype=object)"
      ]
     },
     "execution_count": 13,
     "metadata": {},
     "output_type": "execute_result"
    }
   ],
   "source": [
    "df1['AlcoholDrinking'].unique()"
   ]
  },
  {
   "cell_type": "code",
   "execution_count": 14,
   "id": "3dec9ed1-db58-4723-a57f-a19752aa0f11",
   "metadata": {},
   "outputs": [
    {
     "data": {
      "text/plain": [
       "array(['No', 'Yes'], dtype=object)"
      ]
     },
     "execution_count": 14,
     "metadata": {},
     "output_type": "execute_result"
    }
   ],
   "source": [
    "df1['Stroke'].unique()"
   ]
  },
  {
   "cell_type": "code",
   "execution_count": 15,
   "id": "fa30f585-3676-4698-99f6-5896880ed746",
   "metadata": {},
   "outputs": [
    {
     "data": {
      "text/plain": [
       "array(['No', 'Yes'], dtype=object)"
      ]
     },
     "execution_count": 15,
     "metadata": {},
     "output_type": "execute_result"
    }
   ],
   "source": [
    "df1['DifficultyInWalking'].unique()"
   ]
  },
  {
   "cell_type": "code",
   "execution_count": 16,
   "id": "ac9e0221-db40-4826-8a4d-2d896b569808",
   "metadata": {},
   "outputs": [
    {
     "data": {
      "text/plain": [
       "array(['Female', 'Male'], dtype=object)"
      ]
     },
     "execution_count": 16,
     "metadata": {},
     "output_type": "execute_result"
    }
   ],
   "source": [
    "df1['Sex'].unique()"
   ]
  },
  {
   "cell_type": "code",
   "execution_count": 17,
   "id": "e551e2f1-9de9-47fd-9a0f-3d80ab8d4cae",
   "metadata": {},
   "outputs": [
    {
     "data": {
      "text/plain": [
       "array(['55-59', '80 or older', '65-69', '75-79', '40-44', '70-74',\n",
       "       '60-64', '50-54', '45-49', '18-24', '35-39', '30-34', '25-29'],\n",
       "      dtype=object)"
      ]
     },
     "execution_count": 17,
     "metadata": {},
     "output_type": "execute_result"
    }
   ],
   "source": [
    "df1['AgeCategory'].unique()"
   ]
  },
  {
   "cell_type": "code",
   "execution_count": 18,
   "id": "4feb1565-c72d-44a2-9134-9845e7b2d3a2",
   "metadata": {},
   "outputs": [
    {
     "data": {
      "text/plain": [
       "array(['White', 'Black', 'Asian', 'American Indian/Alaskan Native',\n",
       "       'Other', 'Hispanic'], dtype=object)"
      ]
     },
     "execution_count": 18,
     "metadata": {},
     "output_type": "execute_result"
    }
   ],
   "source": [
    "df1['Race'].unique()"
   ]
  },
  {
   "cell_type": "code",
   "execution_count": 19,
   "id": "b05bc0cc-58b9-4672-a91f-9d4b7872dda4",
   "metadata": {},
   "outputs": [
    {
     "data": {
      "text/plain": [
       "array(['Yes', 'No', 'No, borderline diabetes', 'Yes (during pregnancy)'],\n",
       "      dtype=object)"
      ]
     },
     "execution_count": 19,
     "metadata": {},
     "output_type": "execute_result"
    }
   ],
   "source": [
    "df1['Diabetic'].unique()"
   ]
  },
  {
   "cell_type": "code",
   "execution_count": 20,
   "id": "4aa5349f-019d-4628-967d-6118c72d2a10",
   "metadata": {},
   "outputs": [
    {
     "data": {
      "text/plain": [
       "array(['Yes', 'No'], dtype=object)"
      ]
     },
     "execution_count": 20,
     "metadata": {},
     "output_type": "execute_result"
    }
   ],
   "source": [
    "df1['PhysicalActivity'].unique()"
   ]
  },
  {
   "cell_type": "code",
   "execution_count": 21,
   "id": "a4c2b86c-ce7e-4520-bb50-900fa66b4631",
   "metadata": {},
   "outputs": [
    {
     "data": {
      "text/plain": [
       "array(['Very good', 'Fair', 'Good', 'Poor', 'Excellent'], dtype=object)"
      ]
     },
     "execution_count": 21,
     "metadata": {},
     "output_type": "execute_result"
    }
   ],
   "source": [
    "df1['GeneralHealth'].unique()"
   ]
  },
  {
   "cell_type": "code",
   "execution_count": 22,
   "id": "09b274d1-5ee9-43f6-8c87-8a18e5c3d5c3",
   "metadata": {},
   "outputs": [
    {
     "data": {
      "text/plain": [
       "array(['Yes', 'No'], dtype=object)"
      ]
     },
     "execution_count": 22,
     "metadata": {},
     "output_type": "execute_result"
    }
   ],
   "source": [
    "df1['Asthma'].unique()"
   ]
  },
  {
   "cell_type": "code",
   "execution_count": 23,
   "id": "3d04bfd8-4d4e-4908-9781-627f5686cf32",
   "metadata": {},
   "outputs": [
    {
     "data": {
      "text/plain": [
       "array(['No', 'Yes'], dtype=object)"
      ]
     },
     "execution_count": 23,
     "metadata": {},
     "output_type": "execute_result"
    }
   ],
   "source": [
    "df1['KidneyDisease'].unique()"
   ]
  },
  {
   "cell_type": "code",
   "execution_count": 24,
   "id": "f27ad8df-2c39-43b1-98e6-1f65e81f30d0",
   "metadata": {},
   "outputs": [
    {
     "data": {
      "text/plain": [
       "array(['Yes', 'No'], dtype=object)"
      ]
     },
     "execution_count": 24,
     "metadata": {},
     "output_type": "execute_result"
    }
   ],
   "source": [
    "df1['SkinCancer'].unique()"
   ]
  },
  {
   "cell_type": "markdown",
   "id": "6f6cad0b-597b-4ea4-834f-6b6ea8d24c84",
   "metadata": {},
   "source": [
    "### Droping unnecessary attribute and duplicate values"
   ]
  },
  {
   "cell_type": "code",
   "execution_count": 25,
   "id": "6a143e5f-bd42-4630-8ae2-276992bc0f6e",
   "metadata": {},
   "outputs": [],
   "source": [
    "df1.drop(columns=['Race'],inplace=True)"
   ]
  },
  {
   "cell_type": "code",
   "execution_count": 26,
   "id": "888df581-b9dc-4dde-b6df-58ae2ce6cbec",
   "metadata": {},
   "outputs": [
    {
     "data": {
      "text/plain": [
       "(319795, 17)"
      ]
     },
     "execution_count": 26,
     "metadata": {},
     "output_type": "execute_result"
    }
   ],
   "source": [
    "df1.shape"
   ]
  },
  {
   "cell_type": "code",
   "execution_count": 27,
   "id": "148de2f5-4429-4a27-831a-4805ebf71694",
   "metadata": {},
   "outputs": [
    {
     "data": {
      "text/plain": [
       "24345"
      ]
     },
     "execution_count": 27,
     "metadata": {},
     "output_type": "execute_result"
    }
   ],
   "source": [
    "df1.duplicated().sum()"
   ]
  },
  {
   "cell_type": "code",
   "execution_count": 28,
   "id": "c74b8c0e-2b6e-4731-b0f6-9a3af0e14d4e",
   "metadata": {},
   "outputs": [],
   "source": [
    "df1.drop_duplicates(inplace=True)"
   ]
  },
  {
   "cell_type": "code",
   "execution_count": 29,
   "id": "24568131-d9dc-421b-8679-acc5b7148025",
   "metadata": {},
   "outputs": [
    {
     "data": {
      "text/plain": [
       "(295450, 17)"
      ]
     },
     "execution_count": 29,
     "metadata": {},
     "output_type": "execute_result"
    }
   ],
   "source": [
    "df1.shape"
   ]
  },
  {
   "cell_type": "markdown",
   "id": "4fbf8443-abac-4757-a8d7-151fcf4352f8",
   "metadata": {},
   "source": [
    "# Exploratory Data Analysis"
   ]
  },
  {
   "cell_type": "code",
   "execution_count": 30,
   "id": "8499d521-1389-48fb-898e-a81031435f97",
   "metadata": {},
   "outputs": [],
   "source": [
    "def plotNumber(ax):\n",
    "    for p in ax.patches:\n",
    "        ax.annotate(\"%.2f\" % p.get_height(), (p.get_x() + p.get_width() / 2, p.get_height()),\n",
    "                    ha='center', va='center', fontsize=11, color='Black', xytext=(0, 10),textcoords='offset points')"
   ]
  },
  {
   "cell_type": "code",
   "execution_count": 31,
   "id": "72078e86-2090-47e8-a0ec-d9c6f849052f",
   "metadata": {},
   "outputs": [
    {
     "data": {
      "image/png": "[encoded data removed]",
      "text/plain": [
       "<Figure size 720x504 with 1 Axes>"
      ]
     },
     "metadata": {
      "needs_background": "light"
     },
     "output_type": "display_data"
    }
   ],
   "source": [
    "plt.figure(figsize=(10,7))\n",
    "heart_disease_plot = sns.countplot(x='HeartDisease',data=df1)\n",
    "plotNumber(heart_disease_plot)\n",
    "plt.show()"
   ]
  },
  {
   "cell_type": "code",
   "execution_count": 32,
   "id": "dde4ffdc-218f-4bac-8a7b-52a5045efea4",
   "metadata": {},
   "outputs": [
    {
     "data": {
      "image/png": "[encoded data removed]",
      "text/plain": [
       "<Figure size 720x360 with 1 Axes>"
      ]
     },
     "metadata": {
      "needs_background": "light"
     },
     "output_type": "display_data"
    }
   ],
   "source": [
    "plt.figure(figsize=(10,5))\n",
    "plt.xticks(range(0,100,5))\n",
    "sns.boxenplot(x=df1['BMI'])\n",
    "plt.show()"
   ]
  },
  {
   "cell_type": "code",
   "execution_count": 33,
   "id": "e1e8f7ca-0a04-4b2a-99ef-95a93b9c3277",
   "metadata": {},
   "outputs": [
    {
     "data": {
      "image/png": "[encoded data removed]",
      "text/plain": [
       "<Figure size 720x504 with 1 Axes>"
      ]
     },
     "metadata": {
      "needs_background": "light"
     },
     "output_type": "display_data"
    }
   ],
   "source": [
    "plt.figure(figsize=(10,7))\n",
    "smoking_plot = sns.countplot(x='Smoking', hue='HeartDisease',data=df1)\n",
    "plotNumber(smoking_plot)\n",
    "plt.show()\n"
   ]
  },
  {
   "cell_type": "code",
   "execution_count": 34,
   "id": "f0669c8c-3f08-4993-aa1c-742547232a63",
   "metadata": {},
   "outputs": [
    {
     "data": {
      "image/png": "[encoded data removed]",
      "text/plain": [
       "<Figure size 720x504 with 1 Axes>"
      ]
     },
     "metadata": {
      "needs_background": "light"
     },
     "output_type": "display_data"
    }
   ],
   "source": [
    "plt.figure(figsize=(10,7))\n",
    "alcohol_plot = sns.countplot(x='AlcoholDrinking', hue='HeartDisease',data=df1)\n",
    "plotNumber(alcohol_plot)\n",
    "plt.show()\n",
    "\n"
   ]
  },
  {
   "cell_type": "code",
   "execution_count": 35,
   "id": "bc32307b-b0d1-4ca1-bc9a-854c98ce1722",
   "metadata": {},
   "outputs": [
    {
     "data": {
      "image/png": "[encoded data removed]",
      "text/plain": [
       "<Figure size 720x504 with 1 Axes>"
      ]
     },
     "metadata": {
      "needs_background": "light"
     },
     "output_type": "display_data"
    }
   ],
   "source": [
    "plt.figure(figsize=(10,7))\n",
    "stroke_plot = sns.countplot(x='Stroke', hue='HeartDisease',data=df1)\n",
    "plotNumber(stroke_plot)\n",
    "plt.show()\n"
   ]
  },
  {
   "cell_type": "code",
   "execution_count": 36,
   "id": "00c6c962-1ea4-4780-a4df-734811fd3a64",
   "metadata": {},
   "outputs": [
    {
     "name": "stderr",
     "output_type": "stream",
     "text": [
      "C:\\Users\\suyog\\AppData\\Local\\Programs\\Python\\Python39\\lib\\site-packages\\seaborn\\distributions.py:2619: FutureWarning: `distplot` is a deprecated function and will be removed in a future version. Please adapt your code to use either `displot` (a figure-level function with similar flexibility) or `histplot` (an axes-level function for histograms).\n",
      "  warnings.warn(msg, FutureWarning)\n"
     ]
    },
    {
     "data": {
      "image/png": "[encoded data removed]",
      "text/plain": [
       "<Figure size 720x360 with 1 Axes>"
      ]
     },
     "metadata": {
      "needs_background": "light"
     },
     "output_type": "display_data"
    }
   ],
   "source": [
    "plt.figure(figsize=(10,5))\n",
    "sns.distplot(x=df1['PhysicalHealth'])\n",
    "plt.show()"
   ]
  },
  {
   "cell_type": "code",
   "execution_count": 37,
   "id": "7cbb8034-febd-4c9f-82da-faf1d8936cf8",
   "metadata": {},
   "outputs": [
    {
     "name": "stderr",
     "output_type": "stream",
     "text": [
      "C:\\Users\\suyog\\AppData\\Local\\Programs\\Python\\Python39\\lib\\site-packages\\seaborn\\distributions.py:2619: FutureWarning: `distplot` is a deprecated function and will be removed in a future version. Please adapt your code to use either `displot` (a figure-level function with similar flexibility) or `histplot` (an axes-level function for histograms).\n",
      "  warnings.warn(msg, FutureWarning)\n"
     ]
    },
    {
     "data": {
      "image/png": "[encoded data removed]",
      "text/plain": [
       "<Figure size 720x360 with 1 Axes>"
      ]
     },
     "metadata": {
      "needs_background": "light"
     },
     "output_type": "display_data"
    }
   ],
   "source": [
    "plt.figure(figsize=(10,5))\n",
    "sns.distplot(x=df1['MentalHealth'])\n",
    "plt.show()"
   ]
  },
  {
   "cell_type": "code",
   "execution_count": 38,
   "id": "ee42f2c0-4fa5-4fb8-bac6-76d69e5085d6",
   "metadata": {},
   "outputs": [
    {
     "data": {
      "image/png": "[encoded data removed]",
      "text/plain": [
       "<Figure size 720x504 with 1 Axes>"
      ]
     },
     "metadata": {
      "needs_background": "light"
     },
     "output_type": "display_data"
    }
   ],
   "source": [
    "plt.figure(figsize=(10,7))\n",
    "difficulty_in_walking_plot = sns.countplot(x='DifficultyInWalking', hue='HeartDisease',data=df1)\n",
    "plotNumber(difficulty_in_walking_plot)\n",
    "plt.show()"
   ]
  },
  {
   "cell_type": "code",
   "execution_count": 39,
   "id": "e1cbec0f-01bd-4d2d-b238-3e4b9facf5e8",
   "metadata": {},
   "outputs": [
    {
     "data": {
      "image/png": "[encoded data removed]",
      "text/plain": [
       "<Figure size 720x504 with 1 Axes>"
      ]
     },
     "metadata": {
      "needs_background": "light"
     },
     "output_type": "display_data"
    }
   ],
   "source": [
    "plt.figure(figsize=(10,7))\n",
    "sex_plot = sns.countplot(x='Sex', hue='HeartDisease',data=df1)\n",
    "plotNumber(sex_plot)\n",
    "plt.show()\n",
    "\n"
   ]
  },
  {
   "cell_type": "code",
   "execution_count": 40,
   "id": "90fa3659-e2fa-44e5-bcf5-5de2b18787d5",
   "metadata": {},
   "outputs": [
    {
     "name": "stderr",
     "output_type": "stream",
     "text": [
      "C:\\Users\\suyog\\AppData\\Local\\Programs\\Python\\Python39\\lib\\site-packages\\seaborn\\_decorators.py:36: FutureWarning: Pass the following variable as a keyword arg: x. From version 0.12, the only valid positional argument will be `data`, and passing other arguments without an explicit keyword will result in an error or misinterpretation.\n",
      "  warnings.warn(\n"
     ]
    },
    {
     "data": {
      "image/png": "[encoded data removed]",
      "text/plain": [
       "<Figure size 1080x504 with 1 Axes>"
      ]
     },
     "metadata": {
      "needs_background": "light"
     },
     "output_type": "display_data"
    }
   ],
   "source": [
    "plt.figure(figsize=(15,7))\n",
    "age_plot = sns.countplot(df1['AgeCategory'])\n",
    "plotNumber(age_plot)\n",
    "plt.show()"
   ]
  },
  {
   "cell_type": "code",
   "execution_count": 41,
   "id": "193ae96d-2dad-4978-94b3-a4e4596c8451",
   "metadata": {},
   "outputs": [
    {
     "data": {
      "image/png": "[encoded data removed]",
      "text/plain": [
       "<Figure size 720x504 with 1 Axes>"
      ]
     },
     "metadata": {
      "needs_background": "light"
     },
     "output_type": "display_data"
    }
   ],
   "source": [
    "plt.figure(figsize=(10,7))\n",
    "plt.xticks(rotation='vertical')\n",
    "diabetic_plot = sns.countplot(x='Diabetic',hue='HeartDisease',data=df1)\n",
    "plotNumber(diabetic_plot)\n",
    "plt.show()"
   ]
  },
  {
   "cell_type": "code",
   "execution_count": 42,
   "id": "1d6b0d60-a4a1-42ac-9a94-b182907e2c8a",
   "metadata": {},
   "outputs": [
    {
     "data": {
      "image/png": "[encoded data removed]",
      "text/plain": [
       "<Figure size 1080x504 with 1 Axes>"
      ]
     },
     "metadata": {
      "needs_background": "light"
     },
     "output_type": "display_data"
    }
   ],
   "source": [
    "plt.figure(figsize=(15,7))\n",
    "physical_activity_plot = sns.countplot(x='PhysicalActivity', hue='HeartDisease',data=df1)\n",
    "plotNumber(physical_activity_plot)\n",
    "plt.show()"
   ]
  },
  {
   "cell_type": "code",
   "execution_count": 43,
   "id": "ec9bacc0-5fa1-4a79-bbb8-299ec27a51b3",
   "metadata": {},
   "outputs": [
    {
     "data": {
      "image/png": "[encoded data removed]",
      "text/plain": [
       "<Figure size 1080x504 with 1 Axes>"
      ]
     },
     "metadata": {
      "needs_background": "light"
     },
     "output_type": "display_data"
    }
   ],
   "source": [
    "plt.figure(figsize=(15,7))\n",
    "general_health_plot = sns.countplot(x='GeneralHealth',hue='HeartDisease',data=df1)\n",
    "plotNumber(general_health_plot)\n",
    "plt.show()"
   ]
  },
  {
   "cell_type": "code",
   "execution_count": 44,
   "id": "06b8afc9-3b56-4b16-ad70-289800cf88a1",
   "metadata": {},
   "outputs": [
    {
     "data": {
      "image/png": "[encoded data removed]",
      "text/plain": [
       "<Figure size 720x360 with 1 Axes>"
      ]
     },
     "metadata": {
      "needs_background": "light"
     },
     "output_type": "display_data"
    }
   ],
   "source": [
    "plt.figure(figsize=(10,5))\n",
    "plt.xticks(range(1,24))\n",
    "sns.boxenplot(x=df1['SleepTime'])\n",
    "plt.show()"
   ]
  },
  {
   "cell_type": "code",
   "execution_count": 45,
   "id": "1ecedcc2-9580-47ba-90be-8b47d93afa79",
   "metadata": {},
   "outputs": [
    {
     "data": {
      "image/png": "[encoded data removed]",
      "text/plain": [
       "<Figure size 1080x504 with 1 Axes>"
      ]
     },
     "metadata": {
      "needs_background": "light"
     },
     "output_type": "display_data"
    }
   ],
   "source": [
    "plt.figure(figsize=(15,7))\n",
    "asthma_plot = sns.countplot(x='Asthma',hue='HeartDisease',data=df1)\n",
    "plotNumber(asthma_plot)\n",
    "plt.show()"
   ]
  },
  {
   "cell_type": "code",
   "execution_count": 46,
   "id": "60568e55-f2f1-4f5e-abc6-39af9e53bf71",
   "metadata": {},
   "outputs": [
    {
     "data": {
      "image/png": "[encoded data removed]",
      "text/plain": [
       "<Figure size 1080x504 with 1 Axes>"
      ]
     },
     "metadata": {
      "needs_background": "light"
     },
     "output_type": "display_data"
    }
   ],
   "source": [
    "plt.figure(figsize=(15,7))\n",
    "kidney_disease_plot = sns.countplot(x='KidneyDisease',hue='HeartDisease',data=df1)\n",
    "plotNumber(kidney_disease_plot)\n",
    "plt.show()"
   ]
  },
  {
   "cell_type": "code",
   "execution_count": 47,
   "id": "7fbe4651-0295-4c46-bb96-f0726eb28353",
   "metadata": {},
   "outputs": [
    {
     "data": {
      "image/png": "[encoded data removed]",
      "text/plain": [
       "<Figure size 1080x504 with 1 Axes>"
      ]
     },
     "metadata": {
      "needs_background": "light"
     },
     "output_type": "display_data"
    }
   ],
   "source": [
    "plt.figure(figsize=(15,7))\n",
    "skin_cancer_plot = sns.countplot(x='SkinCancer',hue='HeartDisease',data=df1)\n",
    "plotNumber(skin_cancer_plot)\n",
    "plt.show()"
   ]
  },
  {
   "cell_type": "markdown",
   "id": "193a1f1a-487c-409d-90ad-cd6d43be4e27",
   "metadata": {},
   "source": [
    "# Data Preprocessing"
   ]
  },
  {
   "cell_type": "code",
   "execution_count": 48,
   "id": "14298b71-4c56-43d6-a7cf-889c48bf7471",
   "metadata": {},
   "outputs": [
    {
     "data": {
      "text/html": [
       "<div>\n",
       "<style scoped>\n",
       "    .dataframe tbody tr th:only-of-type {\n",
       "        vertical-align: middle;\n",
       "    }\n",
       "\n",
       "    .dataframe tbody tr th {\n",
       "        vertical-align: top;\n",
       "    }\n",
       "\n",
       "    .dataframe thead th {\n",
       "        text-align: right;\n",
       "    }\n",
       "</style>\n",
       "<table border=\"1\" class=\"dataframe\">\n",
       "  <thead>\n",
       "    <tr style=\"text-align: right;\">\n",
       "      <th></th>\n",
       "      <th>HeartDisease</th>\n",
       "      <th>BMI</th>\n",
       "      <th>Smoking</th>\n",
       "      <th>AlcoholDrinking</th>\n",
       "      <th>Stroke</th>\n",
       "      <th>PhysicalHealth</th>\n",
       "      <th>MentalHealth</th>\n",
       "      <th>DifficultyInWalking</th>\n",
       "      <th>Sex</th>\n",
       "      <th>AgeCategory</th>\n",
       "      <th>Diabetic</th>\n",
       "      <th>PhysicalActivity</th>\n",
       "      <th>GeneralHealth</th>\n",
       "      <th>SleepTime</th>\n",
       "      <th>Asthma</th>\n",
       "      <th>KidneyDisease</th>\n",
       "      <th>SkinCancer</th>\n",
       "    </tr>\n",
       "  </thead>\n",
       "  <tbody>\n",
       "    <tr>\n",
       "      <th>0</th>\n",
       "      <td>No</td>\n",
       "      <td>16.60</td>\n",
       "      <td>Yes</td>\n",
       "      <td>No</td>\n",
       "      <td>No</td>\n",
       "      <td>3.0</td>\n",
       "      <td>30.0</td>\n",
       "      <td>No</td>\n",
       "      <td>Female</td>\n",
       "      <td>55-59</td>\n",
       "      <td>Yes</td>\n",
       "      <td>Yes</td>\n",
       "      <td>Very good</td>\n",
       "      <td>5.0</td>\n",
       "      <td>Yes</td>\n",
       "      <td>No</td>\n",
       "      <td>Yes</td>\n",
       "    </tr>\n",
       "    <tr>\n",
       "      <th>1</th>\n",
       "      <td>No</td>\n",
       "      <td>20.34</td>\n",
       "      <td>No</td>\n",
       "      <td>No</td>\n",
       "      <td>Yes</td>\n",
       "      <td>0.0</td>\n",
       "      <td>0.0</td>\n",
       "      <td>No</td>\n",
       "      <td>Female</td>\n",
       "      <td>80 or older</td>\n",
       "      <td>No</td>\n",
       "      <td>Yes</td>\n",
       "      <td>Very good</td>\n",
       "      <td>7.0</td>\n",
       "      <td>No</td>\n",
       "      <td>No</td>\n",
       "      <td>No</td>\n",
       "    </tr>\n",
       "    <tr>\n",
       "      <th>2</th>\n",
       "      <td>No</td>\n",
       "      <td>26.58</td>\n",
       "      <td>Yes</td>\n",
       "      <td>No</td>\n",
       "      <td>No</td>\n",
       "      <td>20.0</td>\n",
       "      <td>30.0</td>\n",
       "      <td>No</td>\n",
       "      <td>Male</td>\n",
       "      <td>65-69</td>\n",
       "      <td>Yes</td>\n",
       "      <td>Yes</td>\n",
       "      <td>Fair</td>\n",
       "      <td>8.0</td>\n",
       "      <td>Yes</td>\n",
       "      <td>No</td>\n",
       "      <td>No</td>\n",
       "    </tr>\n",
       "    <tr>\n",
       "      <th>3</th>\n",
       "      <td>No</td>\n",
       "      <td>24.21</td>\n",
       "      <td>No</td>\n",
       "      <td>No</td>\n",
       "      <td>No</td>\n",
       "      <td>0.0</td>\n",
       "      <td>0.0</td>\n",
       "      <td>No</td>\n",
       "      <td>Female</td>\n",
       "      <td>75-79</td>\n",
       "      <td>No</td>\n",
       "      <td>No</td>\n",
       "      <td>Good</td>\n",
       "      <td>6.0</td>\n",
       "      <td>No</td>\n",
       "      <td>No</td>\n",
       "      <td>Yes</td>\n",
       "    </tr>\n",
       "    <tr>\n",
       "      <th>4</th>\n",
       "      <td>No</td>\n",
       "      <td>23.71</td>\n",
       "      <td>No</td>\n",
       "      <td>No</td>\n",
       "      <td>No</td>\n",
       "      <td>28.0</td>\n",
       "      <td>0.0</td>\n",
       "      <td>Yes</td>\n",
       "      <td>Female</td>\n",
       "      <td>40-44</td>\n",
       "      <td>No</td>\n",
       "      <td>Yes</td>\n",
       "      <td>Very good</td>\n",
       "      <td>8.0</td>\n",
       "      <td>No</td>\n",
       "      <td>No</td>\n",
       "      <td>No</td>\n",
       "    </tr>\n",
       "  </tbody>\n",
       "</table>\n",
       "</div>"
      ],
      "text/plain": [
       "  HeartDisease    BMI Smoking AlcoholDrinking Stroke  PhysicalHealth  \\\n",
       "0           No  16.60     Yes              No     No             3.0   \n",
       "1           No  20.34      No              No    Yes             0.0   \n",
       "2           No  26.58     Yes              No     No            20.0   \n",
       "3           No  24.21      No              No     No             0.0   \n",
       "4           No  23.71      No              No     No            28.0   \n",
       "\n",
       "   MentalHealth DifficultyInWalking     Sex  AgeCategory Diabetic  \\\n",
       "0          30.0                  No  Female        55-59      Yes   \n",
       "1           0.0                  No  Female  80 or older       No   \n",
       "2          30.0                  No    Male        65-69      Yes   \n",
       "3           0.0                  No  Female        75-79       No   \n",
       "4           0.0                 Yes  Female        40-44       No   \n",
       "\n",
       "  PhysicalActivity GeneralHealth  SleepTime Asthma KidneyDisease SkinCancer  \n",
       "0              Yes     Very good        5.0    Yes            No        Yes  \n",
       "1              Yes     Very good        7.0     No            No         No  \n",
       "2              Yes          Fair        8.0    Yes            No         No  \n",
       "3               No          Good        6.0     No            No        Yes  \n",
       "4              Yes     Very good        8.0     No            No         No  "
      ]
     },
     "execution_count": 48,
     "metadata": {},
     "output_type": "execute_result"
    }
   ],
   "source": [
    "df1.head()"
   ]
  },
  {
   "cell_type": "code",
   "execution_count": 49,
   "id": "d994dfd8-db60-4d96-916e-1ccf92bdb70a",
   "metadata": {},
   "outputs": [
    {
     "data": {
      "text/plain": [
       "HeartDisease            object\n",
       "BMI                    float64\n",
       "Smoking                 object\n",
       "AlcoholDrinking         object\n",
       "Stroke                  object\n",
       "PhysicalHealth         float64\n",
       "MentalHealth           float64\n",
       "DifficultyInWalking     object\n",
       "Sex                     object\n",
       "AgeCategory             object\n",
       "Diabetic                object\n",
       "PhysicalActivity        object\n",
       "GeneralHealth           object\n",
       "SleepTime              float64\n",
       "Asthma                  object\n",
       "KidneyDisease           object\n",
       "SkinCancer              object\n",
       "dtype: object"
      ]
     },
     "execution_count": 49,
     "metadata": {},
     "output_type": "execute_result"
    }
   ],
   "source": [
    "df1.dtypes"
   ]
  },
  {
   "cell_type": "markdown",
   "id": "257865c6-db46-4d2d-9921-35653d55dbc6",
   "metadata": {},
   "source": [
    "## Converting Categorical values into numerical values"
   ]
  },
  {
   "cell_type": "code",
   "execution_count": 50,
   "id": "4cb323b6-4dbf-4ba0-9bc2-56e83baf00a4",
   "metadata": {},
   "outputs": [],
   "source": [
    "columnsYesNoValues = ['HeartDisease','Smoking','AlcoholDrinking','Stroke',\n",
    "                     'DifficultyInWalking','PhysicalActivity','Asthma',\n",
    "                     'KidneyDisease','SkinCancer']\n",
    "yesNoValues = {'Yes':1,\n",
    "              'No':0}\n",
    "\n",
    "for i in range(0,len(columnsYesNoValues)):\n",
    "    df1[columnsYesNoValues[i]] = df1[columnsYesNoValues[i]].replace(yesNoValues)\n",
    "    "
   ]
  },
  {
   "cell_type": "code",
   "execution_count": 51,
   "id": "8646fec8-85a0-4ec0-9572-37fbb84b1974",
   "metadata": {},
   "outputs": [
    {
     "data": {
      "text/html": [
       "<div>\n",
       "<style scoped>\n",
       "    .dataframe tbody tr th:only-of-type {\n",
       "        vertical-align: middle;\n",
       "    }\n",
       "\n",
       "    .dataframe tbody tr th {\n",
       "        vertical-align: top;\n",
       "    }\n",
       "\n",
       "    .dataframe thead th {\n",
       "        text-align: right;\n",
       "    }\n",
       "</style>\n",
       "<table border=\"1\" class=\"dataframe\">\n",
       "  <thead>\n",
       "    <tr style=\"text-align: right;\">\n",
       "      <th></th>\n",
       "      <th>HeartDisease</th>\n",
       "      <th>BMI</th>\n",
       "      <th>Smoking</th>\n",
       "      <th>AlcoholDrinking</th>\n",
       "      <th>Stroke</th>\n",
       "      <th>PhysicalHealth</th>\n",
       "      <th>MentalHealth</th>\n",
       "      <th>DifficultyInWalking</th>\n",
       "      <th>Sex</th>\n",
       "      <th>AgeCategory</th>\n",
       "      <th>Diabetic</th>\n",
       "      <th>PhysicalActivity</th>\n",
       "      <th>GeneralHealth</th>\n",
       "      <th>SleepTime</th>\n",
       "      <th>Asthma</th>\n",
       "      <th>KidneyDisease</th>\n",
       "      <th>SkinCancer</th>\n",
       "    </tr>\n",
       "  </thead>\n",
       "  <tbody>\n",
       "    <tr>\n",
       "      <th>0</th>\n",
       "      <td>0</td>\n",
       "      <td>16.60</td>\n",
       "      <td>1</td>\n",
       "      <td>0</td>\n",
       "      <td>0</td>\n",
       "      <td>3.0</td>\n",
       "      <td>30.0</td>\n",
       "      <td>0</td>\n",
       "      <td>Female</td>\n",
       "      <td>55-59</td>\n",
       "      <td>Yes</td>\n",
       "      <td>1</td>\n",
       "      <td>Very good</td>\n",
       "      <td>5.0</td>\n",
       "      <td>1</td>\n",
       "      <td>0</td>\n",
       "      <td>1</td>\n",
       "    </tr>\n",
       "    <tr>\n",
       "      <th>1</th>\n",
       "      <td>0</td>\n",
       "      <td>20.34</td>\n",
       "      <td>0</td>\n",
       "      <td>0</td>\n",
       "      <td>1</td>\n",
       "      <td>0.0</td>\n",
       "      <td>0.0</td>\n",
       "      <td>0</td>\n",
       "      <td>Female</td>\n",
       "      <td>80 or older</td>\n",
       "      <td>No</td>\n",
       "      <td>1</td>\n",
       "      <td>Very good</td>\n",
       "      <td>7.0</td>\n",
       "      <td>0</td>\n",
       "      <td>0</td>\n",
       "      <td>0</td>\n",
       "    </tr>\n",
       "    <tr>\n",
       "      <th>2</th>\n",
       "      <td>0</td>\n",
       "      <td>26.58</td>\n",
       "      <td>1</td>\n",
       "      <td>0</td>\n",
       "      <td>0</td>\n",
       "      <td>20.0</td>\n",
       "      <td>30.0</td>\n",
       "      <td>0</td>\n",
       "      <td>Male</td>\n",
       "      <td>65-69</td>\n",
       "      <td>Yes</td>\n",
       "      <td>1</td>\n",
       "      <td>Fair</td>\n",
       "      <td>8.0</td>\n",
       "      <td>1</td>\n",
       "      <td>0</td>\n",
       "      <td>0</td>\n",
       "    </tr>\n",
       "    <tr>\n",
       "      <th>3</th>\n",
       "      <td>0</td>\n",
       "      <td>24.21</td>\n",
       "      <td>0</td>\n",
       "      <td>0</td>\n",
       "      <td>0</td>\n",
       "      <td>0.0</td>\n",
       "      <td>0.0</td>\n",
       "      <td>0</td>\n",
       "      <td>Female</td>\n",
       "      <td>75-79</td>\n",
       "      <td>No</td>\n",
       "      <td>0</td>\n",
       "      <td>Good</td>\n",
       "      <td>6.0</td>\n",
       "      <td>0</td>\n",
       "      <td>0</td>\n",
       "      <td>1</td>\n",
       "    </tr>\n",
       "    <tr>\n",
       "      <th>4</th>\n",
       "      <td>0</td>\n",
       "      <td>23.71</td>\n",
       "      <td>0</td>\n",
       "      <td>0</td>\n",
       "      <td>0</td>\n",
       "      <td>28.0</td>\n",
       "      <td>0.0</td>\n",
       "      <td>1</td>\n",
       "      <td>Female</td>\n",
       "      <td>40-44</td>\n",
       "      <td>No</td>\n",
       "      <td>1</td>\n",
       "      <td>Very good</td>\n",
       "      <td>8.0</td>\n",
       "      <td>0</td>\n",
       "      <td>0</td>\n",
       "      <td>0</td>\n",
       "    </tr>\n",
       "  </tbody>\n",
       "</table>\n",
       "</div>"
      ],
      "text/plain": [
       "   HeartDisease    BMI  Smoking  AlcoholDrinking  Stroke  PhysicalHealth  \\\n",
       "0             0  16.60        1                0       0             3.0   \n",
       "1             0  20.34        0                0       1             0.0   \n",
       "2             0  26.58        1                0       0            20.0   \n",
       "3             0  24.21        0                0       0             0.0   \n",
       "4             0  23.71        0                0       0            28.0   \n",
       "\n",
       "   MentalHealth  DifficultyInWalking     Sex  AgeCategory Diabetic  \\\n",
       "0          30.0                    0  Female        55-59      Yes   \n",
       "1           0.0                    0  Female  80 or older       No   \n",
       "2          30.0                    0    Male        65-69      Yes   \n",
       "3           0.0                    0  Female        75-79       No   \n",
       "4           0.0                    1  Female        40-44       No   \n",
       "\n",
       "   PhysicalActivity GeneralHealth  SleepTime  Asthma  KidneyDisease  \\\n",
       "0                 1     Very good        5.0       1              0   \n",
       "1                 1     Very good        7.0       0              0   \n",
       "2                 1          Fair        8.0       1              0   \n",
       "3                 0          Good        6.0       0              0   \n",
       "4                 1     Very good        8.0       0              0   \n",
       "\n",
       "   SkinCancer  \n",
       "0           1  \n",
       "1           0  \n",
       "2           0  \n",
       "3           1  \n",
       "4           0  "
      ]
     },
     "execution_count": 51,
     "metadata": {},
     "output_type": "execute_result"
    }
   ],
   "source": [
    "df1.head()"
   ]
  },
  {
   "cell_type": "code",
   "execution_count": 52,
   "id": "f23b8602-6fcd-4f25-8eb4-b21df11c685c",
   "metadata": {},
   "outputs": [],
   "source": [
    "sexValues = {'Female':0,\n",
    "            'Male':1}\n",
    "df1['Sex'] = df1['Sex'].replace(sexValues)"
   ]
  },
  {
   "cell_type": "code",
   "execution_count": 53,
   "id": "ab8d6062-2660-4d42-81f3-e2417e04bf3f",
   "metadata": {},
   "outputs": [
    {
     "data": {
      "text/html": [
       "<div>\n",
       "<style scoped>\n",
       "    .dataframe tbody tr th:only-of-type {\n",
       "        vertical-align: middle;\n",
       "    }\n",
       "\n",
       "    .dataframe tbody tr th {\n",
       "        vertical-align: top;\n",
       "    }\n",
       "\n",
       "    .dataframe thead th {\n",
       "        text-align: right;\n",
       "    }\n",
       "</style>\n",
       "<table border=\"1\" class=\"dataframe\">\n",
       "  <thead>\n",
       "    <tr style=\"text-align: right;\">\n",
       "      <th></th>\n",
       "      <th>HeartDisease</th>\n",
       "      <th>BMI</th>\n",
       "      <th>Smoking</th>\n",
       "      <th>AlcoholDrinking</th>\n",
       "      <th>Stroke</th>\n",
       "      <th>PhysicalHealth</th>\n",
       "      <th>MentalHealth</th>\n",
       "      <th>DifficultyInWalking</th>\n",
       "      <th>Sex</th>\n",
       "      <th>AgeCategory</th>\n",
       "      <th>Diabetic</th>\n",
       "      <th>PhysicalActivity</th>\n",
       "      <th>GeneralHealth</th>\n",
       "      <th>SleepTime</th>\n",
       "      <th>Asthma</th>\n",
       "      <th>KidneyDisease</th>\n",
       "      <th>SkinCancer</th>\n",
       "    </tr>\n",
       "  </thead>\n",
       "  <tbody>\n",
       "    <tr>\n",
       "      <th>0</th>\n",
       "      <td>0</td>\n",
       "      <td>16.60</td>\n",
       "      <td>1</td>\n",
       "      <td>0</td>\n",
       "      <td>0</td>\n",
       "      <td>3.0</td>\n",
       "      <td>30.0</td>\n",
       "      <td>0</td>\n",
       "      <td>0</td>\n",
       "      <td>55-59</td>\n",
       "      <td>Yes</td>\n",
       "      <td>1</td>\n",
       "      <td>Very good</td>\n",
       "      <td>5.0</td>\n",
       "      <td>1</td>\n",
       "      <td>0</td>\n",
       "      <td>1</td>\n",
       "    </tr>\n",
       "    <tr>\n",
       "      <th>1</th>\n",
       "      <td>0</td>\n",
       "      <td>20.34</td>\n",
       "      <td>0</td>\n",
       "      <td>0</td>\n",
       "      <td>1</td>\n",
       "      <td>0.0</td>\n",
       "      <td>0.0</td>\n",
       "      <td>0</td>\n",
       "      <td>0</td>\n",
       "      <td>80 or older</td>\n",
       "      <td>No</td>\n",
       "      <td>1</td>\n",
       "      <td>Very good</td>\n",
       "      <td>7.0</td>\n",
       "      <td>0</td>\n",
       "      <td>0</td>\n",
       "      <td>0</td>\n",
       "    </tr>\n",
       "    <tr>\n",
       "      <th>2</th>\n",
       "      <td>0</td>\n",
       "      <td>26.58</td>\n",
       "      <td>1</td>\n",
       "      <td>0</td>\n",
       "      <td>0</td>\n",
       "      <td>20.0</td>\n",
       "      <td>30.0</td>\n",
       "      <td>0</td>\n",
       "      <td>1</td>\n",
       "      <td>65-69</td>\n",
       "      <td>Yes</td>\n",
       "      <td>1</td>\n",
       "      <td>Fair</td>\n",
       "      <td>8.0</td>\n",
       "      <td>1</td>\n",
       "      <td>0</td>\n",
       "      <td>0</td>\n",
       "    </tr>\n",
       "    <tr>\n",
       "      <th>3</th>\n",
       "      <td>0</td>\n",
       "      <td>24.21</td>\n",
       "      <td>0</td>\n",
       "      <td>0</td>\n",
       "      <td>0</td>\n",
       "      <td>0.0</td>\n",
       "      <td>0.0</td>\n",
       "      <td>0</td>\n",
       "      <td>0</td>\n",
       "      <td>75-79</td>\n",
       "      <td>No</td>\n",
       "      <td>0</td>\n",
       "      <td>Good</td>\n",
       "      <td>6.0</td>\n",
       "      <td>0</td>\n",
       "      <td>0</td>\n",
       "      <td>1</td>\n",
       "    </tr>\n",
       "    <tr>\n",
       "      <th>4</th>\n",
       "      <td>0</td>\n",
       "      <td>23.71</td>\n",
       "      <td>0</td>\n",
       "      <td>0</td>\n",
       "      <td>0</td>\n",
       "      <td>28.0</td>\n",
       "      <td>0.0</td>\n",
       "      <td>1</td>\n",
       "      <td>0</td>\n",
       "      <td>40-44</td>\n",
       "      <td>No</td>\n",
       "      <td>1</td>\n",
       "      <td>Very good</td>\n",
       "      <td>8.0</td>\n",
       "      <td>0</td>\n",
       "      <td>0</td>\n",
       "      <td>0</td>\n",
       "    </tr>\n",
       "  </tbody>\n",
       "</table>\n",
       "</div>"
      ],
      "text/plain": [
       "   HeartDisease    BMI  Smoking  AlcoholDrinking  Stroke  PhysicalHealth  \\\n",
       "0             0  16.60        1                0       0             3.0   \n",
       "1             0  20.34        0                0       1             0.0   \n",
       "2             0  26.58        1                0       0            20.0   \n",
       "3             0  24.21        0                0       0             0.0   \n",
       "4             0  23.71        0                0       0            28.0   \n",
       "\n",
       "   MentalHealth  DifficultyInWalking  Sex  AgeCategory Diabetic  \\\n",
       "0          30.0                    0    0        55-59      Yes   \n",
       "1           0.0                    0    0  80 or older       No   \n",
       "2          30.0                    0    1        65-69      Yes   \n",
       "3           0.0                    0    0        75-79       No   \n",
       "4           0.0                    1    0        40-44       No   \n",
       "\n",
       "   PhysicalActivity GeneralHealth  SleepTime  Asthma  KidneyDisease  \\\n",
       "0                 1     Very good        5.0       1              0   \n",
       "1                 1     Very good        7.0       0              0   \n",
       "2                 1          Fair        8.0       1              0   \n",
       "3                 0          Good        6.0       0              0   \n",
       "4                 1     Very good        8.0       0              0   \n",
       "\n",
       "   SkinCancer  \n",
       "0           1  \n",
       "1           0  \n",
       "2           0  \n",
       "3           1  \n",
       "4           0  "
      ]
     },
     "execution_count": 53,
     "metadata": {},
     "output_type": "execute_result"
    }
   ],
   "source": [
    "df1.head()"
   ]
  },
  {
   "cell_type": "code",
   "execution_count": 54,
   "id": "003c85b7-fbe5-4f08-969e-deab21a47a28",
   "metadata": {},
   "outputs": [],
   "source": [
    "ageCategory= {'18-24':0, '25-29':1, '30-34':2, '35-39':3,\n",
    "              '40-44':4, '45-49':5, '50-54':6, '55-59':7,\n",
    "              '60-64':8,'65-69':9, '70-74':10, '75-79':11,\n",
    "              '80 or older':12}\n",
    "df1['AgeCategory'] = df1['AgeCategory'].replace(ageCategory)"
   ]
  },
  {
   "cell_type": "code",
   "execution_count": 55,
   "id": "20086f82-461c-42db-98f9-f48705d0d45c",
   "metadata": {},
   "outputs": [
    {
     "data": {
      "text/html": [
       "<div>\n",
       "<style scoped>\n",
       "    .dataframe tbody tr th:only-of-type {\n",
       "        vertical-align: middle;\n",
       "    }\n",
       "\n",
       "    .dataframe tbody tr th {\n",
       "        vertical-align: top;\n",
       "    }\n",
       "\n",
       "    .dataframe thead th {\n",
       "        text-align: right;\n",
       "    }\n",
       "</style>\n",
       "<table border=\"1\" class=\"dataframe\">\n",
       "  <thead>\n",
       "    <tr style=\"text-align: right;\">\n",
       "      <th></th>\n",
       "      <th>HeartDisease</th>\n",
       "      <th>BMI</th>\n",
       "      <th>Smoking</th>\n",
       "      <th>AlcoholDrinking</th>\n",
       "      <th>Stroke</th>\n",
       "      <th>PhysicalHealth</th>\n",
       "      <th>MentalHealth</th>\n",
       "      <th>DifficultyInWalking</th>\n",
       "      <th>Sex</th>\n",
       "      <th>AgeCategory</th>\n",
       "      <th>Diabetic</th>\n",
       "      <th>PhysicalActivity</th>\n",
       "      <th>GeneralHealth</th>\n",
       "      <th>SleepTime</th>\n",
       "      <th>Asthma</th>\n",
       "      <th>KidneyDisease</th>\n",
       "      <th>SkinCancer</th>\n",
       "    </tr>\n",
       "  </thead>\n",
       "  <tbody>\n",
       "    <tr>\n",
       "      <th>0</th>\n",
       "      <td>0</td>\n",
       "      <td>16.60</td>\n",
       "      <td>1</td>\n",
       "      <td>0</td>\n",
       "      <td>0</td>\n",
       "      <td>3.0</td>\n",
       "      <td>30.0</td>\n",
       "      <td>0</td>\n",
       "      <td>0</td>\n",
       "      <td>7</td>\n",
       "      <td>Yes</td>\n",
       "      <td>1</td>\n",
       "      <td>Very good</td>\n",
       "      <td>5.0</td>\n",
       "      <td>1</td>\n",
       "      <td>0</td>\n",
       "      <td>1</td>\n",
       "    </tr>\n",
       "    <tr>\n",
       "      <th>1</th>\n",
       "      <td>0</td>\n",
       "      <td>20.34</td>\n",
       "      <td>0</td>\n",
       "      <td>0</td>\n",
       "      <td>1</td>\n",
       "      <td>0.0</td>\n",
       "      <td>0.0</td>\n",
       "      <td>0</td>\n",
       "      <td>0</td>\n",
       "      <td>12</td>\n",
       "      <td>No</td>\n",
       "      <td>1</td>\n",
       "      <td>Very good</td>\n",
       "      <td>7.0</td>\n",
       "      <td>0</td>\n",
       "      <td>0</td>\n",
       "      <td>0</td>\n",
       "    </tr>\n",
       "    <tr>\n",
       "      <th>2</th>\n",
       "      <td>0</td>\n",
       "      <td>26.58</td>\n",
       "      <td>1</td>\n",
       "      <td>0</td>\n",
       "      <td>0</td>\n",
       "      <td>20.0</td>\n",
       "      <td>30.0</td>\n",
       "      <td>0</td>\n",
       "      <td>1</td>\n",
       "      <td>9</td>\n",
       "      <td>Yes</td>\n",
       "      <td>1</td>\n",
       "      <td>Fair</td>\n",
       "      <td>8.0</td>\n",
       "      <td>1</td>\n",
       "      <td>0</td>\n",
       "      <td>0</td>\n",
       "    </tr>\n",
       "    <tr>\n",
       "      <th>3</th>\n",
       "      <td>0</td>\n",
       "      <td>24.21</td>\n",
       "      <td>0</td>\n",
       "      <td>0</td>\n",
       "      <td>0</td>\n",
       "      <td>0.0</td>\n",
       "      <td>0.0</td>\n",
       "      <td>0</td>\n",
       "      <td>0</td>\n",
       "      <td>11</td>\n",
       "      <td>No</td>\n",
       "      <td>0</td>\n",
       "      <td>Good</td>\n",
       "      <td>6.0</td>\n",
       "      <td>0</td>\n",
       "      <td>0</td>\n",
       "      <td>1</td>\n",
       "    </tr>\n",
       "    <tr>\n",
       "      <th>4</th>\n",
       "      <td>0</td>\n",
       "      <td>23.71</td>\n",
       "      <td>0</td>\n",
       "      <td>0</td>\n",
       "      <td>0</td>\n",
       "      <td>28.0</td>\n",
       "      <td>0.0</td>\n",
       "      <td>1</td>\n",
       "      <td>0</td>\n",
       "      <td>4</td>\n",
       "      <td>No</td>\n",
       "      <td>1</td>\n",
       "      <td>Very good</td>\n",
       "      <td>8.0</td>\n",
       "      <td>0</td>\n",
       "      <td>0</td>\n",
       "      <td>0</td>\n",
       "    </tr>\n",
       "  </tbody>\n",
       "</table>\n",
       "</div>"
      ],
      "text/plain": [
       "   HeartDisease    BMI  Smoking  AlcoholDrinking  Stroke  PhysicalHealth  \\\n",
       "0             0  16.60        1                0       0             3.0   \n",
       "1             0  20.34        0                0       1             0.0   \n",
       "2             0  26.58        1                0       0            20.0   \n",
       "3             0  24.21        0                0       0             0.0   \n",
       "4             0  23.71        0                0       0            28.0   \n",
       "\n",
       "   MentalHealth  DifficultyInWalking  Sex  AgeCategory Diabetic  \\\n",
       "0          30.0                    0    0            7      Yes   \n",
       "1           0.0                    0    0           12       No   \n",
       "2          30.0                    0    1            9      Yes   \n",
       "3           0.0                    0    0           11       No   \n",
       "4           0.0                    1    0            4       No   \n",
       "\n",
       "   PhysicalActivity GeneralHealth  SleepTime  Asthma  KidneyDisease  \\\n",
       "0                 1     Very good        5.0       1              0   \n",
       "1                 1     Very good        7.0       0              0   \n",
       "2                 1          Fair        8.0       1              0   \n",
       "3                 0          Good        6.0       0              0   \n",
       "4                 1     Very good        8.0       0              0   \n",
       "\n",
       "   SkinCancer  \n",
       "0           1  \n",
       "1           0  \n",
       "2           0  \n",
       "3           1  \n",
       "4           0  "
      ]
     },
     "execution_count": 55,
     "metadata": {},
     "output_type": "execute_result"
    }
   ],
   "source": [
    "df1.head()"
   ]
  },
  {
   "cell_type": "code",
   "execution_count": 56,
   "id": "958de001-749f-4a39-9739-8678e35c9098",
   "metadata": {},
   "outputs": [],
   "source": [
    "generalHealth = {'Poor':0, 'Fair':1, 'Good':2, 'Very good':3, 'Excellent':4}\n",
    "df1['GeneralHealth'] = df1['GeneralHealth'].replace(generalHealth)"
   ]
  },
  {
   "cell_type": "code",
   "execution_count": 57,
   "id": "8679995d-432a-4872-8597-fe97c78f9f67",
   "metadata": {},
   "outputs": [
    {
     "data": {
      "text/html": [
       "<div>\n",
       "<style scoped>\n",
       "    .dataframe tbody tr th:only-of-type {\n",
       "        vertical-align: middle;\n",
       "    }\n",
       "\n",
       "    .dataframe tbody tr th {\n",
       "        vertical-align: top;\n",
       "    }\n",
       "\n",
       "    .dataframe thead th {\n",
       "        text-align: right;\n",
       "    }\n",
       "</style>\n",
       "<table border=\"1\" class=\"dataframe\">\n",
       "  <thead>\n",
       "    <tr style=\"text-align: right;\">\n",
       "      <th></th>\n",
       "      <th>HeartDisease</th>\n",
       "      <th>BMI</th>\n",
       "      <th>Smoking</th>\n",
       "      <th>AlcoholDrinking</th>\n",
       "      <th>Stroke</th>\n",
       "      <th>PhysicalHealth</th>\n",
       "      <th>MentalHealth</th>\n",
       "      <th>DifficultyInWalking</th>\n",
       "      <th>Sex</th>\n",
       "      <th>AgeCategory</th>\n",
       "      <th>Diabetic</th>\n",
       "      <th>PhysicalActivity</th>\n",
       "      <th>GeneralHealth</th>\n",
       "      <th>SleepTime</th>\n",
       "      <th>Asthma</th>\n",
       "      <th>KidneyDisease</th>\n",
       "      <th>SkinCancer</th>\n",
       "    </tr>\n",
       "  </thead>\n",
       "  <tbody>\n",
       "    <tr>\n",
       "      <th>0</th>\n",
       "      <td>0</td>\n",
       "      <td>16.60</td>\n",
       "      <td>1</td>\n",
       "      <td>0</td>\n",
       "      <td>0</td>\n",
       "      <td>3.0</td>\n",
       "      <td>30.0</td>\n",
       "      <td>0</td>\n",
       "      <td>0</td>\n",
       "      <td>7</td>\n",
       "      <td>Yes</td>\n",
       "      <td>1</td>\n",
       "      <td>3</td>\n",
       "      <td>5.0</td>\n",
       "      <td>1</td>\n",
       "      <td>0</td>\n",
       "      <td>1</td>\n",
       "    </tr>\n",
       "    <tr>\n",
       "      <th>1</th>\n",
       "      <td>0</td>\n",
       "      <td>20.34</td>\n",
       "      <td>0</td>\n",
       "      <td>0</td>\n",
       "      <td>1</td>\n",
       "      <td>0.0</td>\n",
       "      <td>0.0</td>\n",
       "      <td>0</td>\n",
       "      <td>0</td>\n",
       "      <td>12</td>\n",
       "      <td>No</td>\n",
       "      <td>1</td>\n",
       "      <td>3</td>\n",
       "      <td>7.0</td>\n",
       "      <td>0</td>\n",
       "      <td>0</td>\n",
       "      <td>0</td>\n",
       "    </tr>\n",
       "    <tr>\n",
       "      <th>2</th>\n",
       "      <td>0</td>\n",
       "      <td>26.58</td>\n",
       "      <td>1</td>\n",
       "      <td>0</td>\n",
       "      <td>0</td>\n",
       "      <td>20.0</td>\n",
       "      <td>30.0</td>\n",
       "      <td>0</td>\n",
       "      <td>1</td>\n",
       "      <td>9</td>\n",
       "      <td>Yes</td>\n",
       "      <td>1</td>\n",
       "      <td>1</td>\n",
       "      <td>8.0</td>\n",
       "      <td>1</td>\n",
       "      <td>0</td>\n",
       "      <td>0</td>\n",
       "    </tr>\n",
       "    <tr>\n",
       "      <th>3</th>\n",
       "      <td>0</td>\n",
       "      <td>24.21</td>\n",
       "      <td>0</td>\n",
       "      <td>0</td>\n",
       "      <td>0</td>\n",
       "      <td>0.0</td>\n",
       "      <td>0.0</td>\n",
       "      <td>0</td>\n",
       "      <td>0</td>\n",
       "      <td>11</td>\n",
       "      <td>No</td>\n",
       "      <td>0</td>\n",
       "      <td>2</td>\n",
       "      <td>6.0</td>\n",
       "      <td>0</td>\n",
       "      <td>0</td>\n",
       "      <td>1</td>\n",
       "    </tr>\n",
       "    <tr>\n",
       "      <th>4</th>\n",
       "      <td>0</td>\n",
       "      <td>23.71</td>\n",
       "      <td>0</td>\n",
       "      <td>0</td>\n",
       "      <td>0</td>\n",
       "      <td>28.0</td>\n",
       "      <td>0.0</td>\n",
       "      <td>1</td>\n",
       "      <td>0</td>\n",
       "      <td>4</td>\n",
       "      <td>No</td>\n",
       "      <td>1</td>\n",
       "      <td>3</td>\n",
       "      <td>8.0</td>\n",
       "      <td>0</td>\n",
       "      <td>0</td>\n",
       "      <td>0</td>\n",
       "    </tr>\n",
       "  </tbody>\n",
       "</table>\n",
       "</div>"
      ],
      "text/plain": [
       "   HeartDisease    BMI  Smoking  AlcoholDrinking  Stroke  PhysicalHealth  \\\n",
       "0             0  16.60        1                0       0             3.0   \n",
       "1             0  20.34        0                0       1             0.0   \n",
       "2             0  26.58        1                0       0            20.0   \n",
       "3             0  24.21        0                0       0             0.0   \n",
       "4             0  23.71        0                0       0            28.0   \n",
       "\n",
       "   MentalHealth  DifficultyInWalking  Sex  AgeCategory Diabetic  \\\n",
       "0          30.0                    0    0            7      Yes   \n",
       "1           0.0                    0    0           12       No   \n",
       "2          30.0                    0    1            9      Yes   \n",
       "3           0.0                    0    0           11       No   \n",
       "4           0.0                    1    0            4       No   \n",
       "\n",
       "   PhysicalActivity  GeneralHealth  SleepTime  Asthma  KidneyDisease  \\\n",
       "0                 1              3        5.0       1              0   \n",
       "1                 1              3        7.0       0              0   \n",
       "2                 1              1        8.0       1              0   \n",
       "3                 0              2        6.0       0              0   \n",
       "4                 1              3        8.0       0              0   \n",
       "\n",
       "   SkinCancer  \n",
       "0           1  \n",
       "1           0  \n",
       "2           0  \n",
       "3           1  \n",
       "4           0  "
      ]
     },
     "execution_count": 57,
     "metadata": {},
     "output_type": "execute_result"
    }
   ],
   "source": [
    "df1.head()"
   ]
  },
  {
   "cell_type": "code",
   "execution_count": 58,
   "id": "8d2e9587-220c-41e0-9551-e3e20b3de440",
   "metadata": {},
   "outputs": [],
   "source": [
    "diabetic = {'No':0, 'No, borderline diabetes':1,\n",
    "            'Yes (during pregnancy)':2, 'Yes':3}\n",
    "df1['Diabetic'] = df1['Diabetic'].replace(diabetic)"
   ]
  },
  {
   "cell_type": "code",
   "execution_count": 59,
   "id": "e68b03c2-1c2d-40ad-b04f-ffb95744fb30",
   "metadata": {},
   "outputs": [
    {
     "data": {
      "text/html": [
       "<div>\n",
       "<style scoped>\n",
       "    .dataframe tbody tr th:only-of-type {\n",
       "        vertical-align: middle;\n",
       "    }\n",
       "\n",
       "    .dataframe tbody tr th {\n",
       "        vertical-align: top;\n",
       "    }\n",
       "\n",
       "    .dataframe thead th {\n",
       "        text-align: right;\n",
       "    }\n",
       "</style>\n",
       "<table border=\"1\" class=\"dataframe\">\n",
       "  <thead>\n",
       "    <tr style=\"text-align: right;\">\n",
       "      <th></th>\n",
       "      <th>HeartDisease</th>\n",
       "      <th>BMI</th>\n",
       "      <th>Smoking</th>\n",
       "      <th>AlcoholDrinking</th>\n",
       "      <th>Stroke</th>\n",
       "      <th>PhysicalHealth</th>\n",
       "      <th>MentalHealth</th>\n",
       "      <th>DifficultyInWalking</th>\n",
       "      <th>Sex</th>\n",
       "      <th>AgeCategory</th>\n",
       "      <th>Diabetic</th>\n",
       "      <th>PhysicalActivity</th>\n",
       "      <th>GeneralHealth</th>\n",
       "      <th>SleepTime</th>\n",
       "      <th>Asthma</th>\n",
       "      <th>KidneyDisease</th>\n",
       "      <th>SkinCancer</th>\n",
       "    </tr>\n",
       "  </thead>\n",
       "  <tbody>\n",
       "    <tr>\n",
       "      <th>0</th>\n",
       "      <td>0</td>\n",
       "      <td>16.60</td>\n",
       "      <td>1</td>\n",
       "      <td>0</td>\n",
       "      <td>0</td>\n",
       "      <td>3.0</td>\n",
       "      <td>30.0</td>\n",
       "      <td>0</td>\n",
       "      <td>0</td>\n",
       "      <td>7</td>\n",
       "      <td>3</td>\n",
       "      <td>1</td>\n",
       "      <td>3</td>\n",
       "      <td>5.0</td>\n",
       "      <td>1</td>\n",
       "      <td>0</td>\n",
       "      <td>1</td>\n",
       "    </tr>\n",
       "    <tr>\n",
       "      <th>1</th>\n",
       "      <td>0</td>\n",
       "      <td>20.34</td>\n",
       "      <td>0</td>\n",
       "      <td>0</td>\n",
       "      <td>1</td>\n",
       "      <td>0.0</td>\n",
       "      <td>0.0</td>\n",
       "      <td>0</td>\n",
       "      <td>0</td>\n",
       "      <td>12</td>\n",
       "      <td>0</td>\n",
       "      <td>1</td>\n",
       "      <td>3</td>\n",
       "      <td>7.0</td>\n",
       "      <td>0</td>\n",
       "      <td>0</td>\n",
       "      <td>0</td>\n",
       "    </tr>\n",
       "    <tr>\n",
       "      <th>2</th>\n",
       "      <td>0</td>\n",
       "      <td>26.58</td>\n",
       "      <td>1</td>\n",
       "      <td>0</td>\n",
       "      <td>0</td>\n",
       "      <td>20.0</td>\n",
       "      <td>30.0</td>\n",
       "      <td>0</td>\n",
       "      <td>1</td>\n",
       "      <td>9</td>\n",
       "      <td>3</td>\n",
       "      <td>1</td>\n",
       "      <td>1</td>\n",
       "      <td>8.0</td>\n",
       "      <td>1</td>\n",
       "      <td>0</td>\n",
       "      <td>0</td>\n",
       "    </tr>\n",
       "    <tr>\n",
       "      <th>3</th>\n",
       "      <td>0</td>\n",
       "      <td>24.21</td>\n",
       "      <td>0</td>\n",
       "      <td>0</td>\n",
       "      <td>0</td>\n",
       "      <td>0.0</td>\n",
       "      <td>0.0</td>\n",
       "      <td>0</td>\n",
       "      <td>0</td>\n",
       "      <td>11</td>\n",
       "      <td>0</td>\n",
       "      <td>0</td>\n",
       "      <td>2</td>\n",
       "      <td>6.0</td>\n",
       "      <td>0</td>\n",
       "      <td>0</td>\n",
       "      <td>1</td>\n",
       "    </tr>\n",
       "    <tr>\n",
       "      <th>4</th>\n",
       "      <td>0</td>\n",
       "      <td>23.71</td>\n",
       "      <td>0</td>\n",
       "      <td>0</td>\n",
       "      <td>0</td>\n",
       "      <td>28.0</td>\n",
       "      <td>0.0</td>\n",
       "      <td>1</td>\n",
       "      <td>0</td>\n",
       "      <td>4</td>\n",
       "      <td>0</td>\n",
       "      <td>1</td>\n",
       "      <td>3</td>\n",
       "      <td>8.0</td>\n",
       "      <td>0</td>\n",
       "      <td>0</td>\n",
       "      <td>0</td>\n",
       "    </tr>\n",
       "  </tbody>\n",
       "</table>\n",
       "</div>"
      ],
      "text/plain": [
       "   HeartDisease    BMI  Smoking  AlcoholDrinking  Stroke  PhysicalHealth  \\\n",
       "0             0  16.60        1                0       0             3.0   \n",
       "1             0  20.34        0                0       1             0.0   \n",
       "2             0  26.58        1                0       0            20.0   \n",
       "3             0  24.21        0                0       0             0.0   \n",
       "4             0  23.71        0                0       0            28.0   \n",
       "\n",
       "   MentalHealth  DifficultyInWalking  Sex  AgeCategory  Diabetic  \\\n",
       "0          30.0                    0    0            7         3   \n",
       "1           0.0                    0    0           12         0   \n",
       "2          30.0                    0    1            9         3   \n",
       "3           0.0                    0    0           11         0   \n",
       "4           0.0                    1    0            4         0   \n",
       "\n",
       "   PhysicalActivity  GeneralHealth  SleepTime  Asthma  KidneyDisease  \\\n",
       "0                 1              3        5.0       1              0   \n",
       "1                 1              3        7.0       0              0   \n",
       "2                 1              1        8.0       1              0   \n",
       "3                 0              2        6.0       0              0   \n",
       "4                 1              3        8.0       0              0   \n",
       "\n",
       "   SkinCancer  \n",
       "0           1  \n",
       "1           0  \n",
       "2           0  \n",
       "3           1  \n",
       "4           0  "
      ]
     },
     "execution_count": 59,
     "metadata": {},
     "output_type": "execute_result"
    }
   ],
   "source": [
    "df1.head()"
   ]
  },
  {
   "cell_type": "code",
   "execution_count": 60,
   "id": "00623908-5868-4cc5-bf36-1922cf39ebde",
   "metadata": {},
   "outputs": [
    {
     "data": {
      "text/plain": [
       "HeartDisease             int64\n",
       "BMI                    float64\n",
       "Smoking                  int64\n",
       "AlcoholDrinking          int64\n",
       "Stroke                   int64\n",
       "PhysicalHealth         float64\n",
       "MentalHealth           float64\n",
       "DifficultyInWalking      int64\n",
       "Sex                      int64\n",
       "AgeCategory              int64\n",
       "Diabetic                 int64\n",
       "PhysicalActivity         int64\n",
       "GeneralHealth            int64\n",
       "SleepTime              float64\n",
       "Asthma                   int64\n",
       "KidneyDisease            int64\n",
       "SkinCancer               int64\n",
       "dtype: object"
      ]
     },
     "execution_count": 60,
     "metadata": {},
     "output_type": "execute_result"
    }
   ],
   "source": [
    "df1.dtypes"
   ]
  },
  {
   "cell_type": "markdown",
   "id": "c48fa496-4347-428f-b19e-a78781069637",
   "metadata": {},
   "source": [
    "## Correlation"
   ]
  },
  {
   "cell_type": "code",
   "execution_count": 61,
   "id": "17b15f25-8677-4030-898d-2994d29c0369",
   "metadata": {},
   "outputs": [
    {
     "data": {
      "text/html": [
       "<div>\n",
       "<style scoped>\n",
       "    .dataframe tbody tr th:only-of-type {\n",
       "        vertical-align: middle;\n",
       "    }\n",
       "\n",
       "    .dataframe tbody tr th {\n",
       "        vertical-align: top;\n",
       "    }\n",
       "\n",
       "    .dataframe thead th {\n",
       "        text-align: right;\n",
       "    }\n",
       "</style>\n",
       "<table border=\"1\" class=\"dataframe\">\n",
       "  <thead>\n",
       "    <tr style=\"text-align: right;\">\n",
       "      <th></th>\n",
       "      <th>HeartDisease</th>\n",
       "      <th>BMI</th>\n",
       "      <th>Smoking</th>\n",
       "      <th>AlcoholDrinking</th>\n",
       "      <th>Stroke</th>\n",
       "      <th>PhysicalHealth</th>\n",
       "      <th>MentalHealth</th>\n",
       "      <th>DifficultyInWalking</th>\n",
       "      <th>Sex</th>\n",
       "      <th>AgeCategory</th>\n",
       "      <th>Diabetic</th>\n",
       "      <th>PhysicalActivity</th>\n",
       "      <th>GeneralHealth</th>\n",
       "      <th>SleepTime</th>\n",
       "      <th>Asthma</th>\n",
       "      <th>KidneyDisease</th>\n",
       "      <th>SkinCancer</th>\n",
       "    </tr>\n",
       "  </thead>\n",
       "  <tbody>\n",
       "    <tr>\n",
       "      <th>HeartDisease</th>\n",
       "      <td>1.000000</td>\n",
       "      <td>0.045626</td>\n",
       "      <td>0.102531</td>\n",
       "      <td>-0.038041</td>\n",
       "      <td>0.193716</td>\n",
       "      <td>0.162896</td>\n",
       "      <td>0.017892</td>\n",
       "      <td>0.194302</td>\n",
       "      <td>0.076244</td>\n",
       "      <td>0.239128</td>\n",
       "      <td>0.174328</td>\n",
       "      <td>-0.091274</td>\n",
       "      <td>-0.236154</td>\n",
       "      <td>0.011513</td>\n",
       "      <td>0.033567</td>\n",
       "      <td>0.141618</td>\n",
       "      <td>0.088855</td>\n",
       "    </tr>\n",
       "    <tr>\n",
       "      <th>BMI</th>\n",
       "      <td>0.045626</td>\n",
       "      <td>1.000000</td>\n",
       "      <td>0.012415</td>\n",
       "      <td>-0.045304</td>\n",
       "      <td>0.015183</td>\n",
       "      <td>0.101802</td>\n",
       "      <td>0.054327</td>\n",
       "      <td>0.175990</td>\n",
       "      <td>0.024152</td>\n",
       "      <td>-0.010356</td>\n",
       "      <td>0.204483</td>\n",
       "      <td>-0.142871</td>\n",
       "      <td>-0.218346</td>\n",
       "      <td>-0.047906</td>\n",
       "      <td>0.085906</td>\n",
       "      <td>0.046801</td>\n",
       "      <td>-0.040199</td>\n",
       "    </tr>\n",
       "    <tr>\n",
       "      <th>Smoking</th>\n",
       "      <td>0.102531</td>\n",
       "      <td>0.012415</td>\n",
       "      <td>1.000000</td>\n",
       "      <td>0.107650</td>\n",
       "      <td>0.057510</td>\n",
       "      <td>0.107321</td>\n",
       "      <td>0.074859</td>\n",
       "      <td>0.113054</td>\n",
       "      <td>0.088267</td>\n",
       "      <td>0.123528</td>\n",
       "      <td>0.048201</td>\n",
       "      <td>-0.086464</td>\n",
       "      <td>-0.159458</td>\n",
       "      <td>-0.027122</td>\n",
       "      <td>0.014345</td>\n",
       "      <td>0.030263</td>\n",
       "      <td>0.027620</td>\n",
       "    </tr>\n",
       "    <tr>\n",
       "      <th>AlcoholDrinking</th>\n",
       "      <td>-0.038041</td>\n",
       "      <td>-0.045304</td>\n",
       "      <td>0.107650</td>\n",
       "      <td>1.000000</td>\n",
       "      <td>-0.023832</td>\n",
       "      <td>-0.025677</td>\n",
       "      <td>0.043065</td>\n",
       "      <td>-0.043477</td>\n",
       "      <td>0.007625</td>\n",
       "      <td>-0.063776</td>\n",
       "      <td>-0.067743</td>\n",
       "      <td>0.026893</td>\n",
       "      <td>0.043776</td>\n",
       "      <td>-0.002600</td>\n",
       "      <td>-0.009092</td>\n",
       "      <td>-0.032304</td>\n",
       "      <td>-0.010478</td>\n",
       "    </tr>\n",
       "    <tr>\n",
       "      <th>Stroke</th>\n",
       "      <td>0.193716</td>\n",
       "      <td>0.015183</td>\n",
       "      <td>0.057510</td>\n",
       "      <td>-0.023832</td>\n",
       "      <td>1.000000</td>\n",
       "      <td>0.131465</td>\n",
       "      <td>0.039442</td>\n",
       "      <td>0.169349</td>\n",
       "      <td>-0.000697</td>\n",
       "      <td>0.141250</td>\n",
       "      <td>0.103038</td>\n",
       "      <td>-0.073488</td>\n",
       "      <td>-0.163327</td>\n",
       "      <td>0.014146</td>\n",
       "      <td>0.033519</td>\n",
       "      <td>0.088356</td>\n",
       "      <td>0.044805</td>\n",
       "    </tr>\n",
       "    <tr>\n",
       "      <th>PhysicalHealth</th>\n",
       "      <td>0.162896</td>\n",
       "      <td>0.101802</td>\n",
       "      <td>0.107321</td>\n",
       "      <td>-0.025677</td>\n",
       "      <td>0.131465</td>\n",
       "      <td>1.000000</td>\n",
       "      <td>0.276652</td>\n",
       "      <td>0.420812</td>\n",
       "      <td>-0.037511</td>\n",
       "      <td>0.112077</td>\n",
       "      <td>0.148833</td>\n",
       "      <td>-0.221697</td>\n",
       "      <td>-0.479633</td>\n",
       "      <td>-0.057786</td>\n",
       "      <td>0.107267</td>\n",
       "      <td>0.136729</td>\n",
       "      <td>0.033990</td>\n",
       "    </tr>\n",
       "    <tr>\n",
       "      <th>MentalHealth</th>\n",
       "      <td>0.017892</td>\n",
       "      <td>0.054327</td>\n",
       "      <td>0.074859</td>\n",
       "      <td>0.043065</td>\n",
       "      <td>0.039442</td>\n",
       "      <td>0.276652</td>\n",
       "      <td>1.000000</td>\n",
       "      <td>0.139516</td>\n",
       "      <td>-0.098448</td>\n",
       "      <td>-0.164690</td>\n",
       "      <td>0.016007</td>\n",
       "      <td>-0.080641</td>\n",
       "      <td>-0.226317</td>\n",
       "      <td>-0.116638</td>\n",
       "      <td>0.102130</td>\n",
       "      <td>0.030197</td>\n",
       "      <td>-0.043547</td>\n",
       "    </tr>\n",
       "    <tr>\n",
       "      <th>DifficultyInWalking</th>\n",
       "      <td>0.194302</td>\n",
       "      <td>0.175990</td>\n",
       "      <td>0.113054</td>\n",
       "      <td>-0.043477</td>\n",
       "      <td>0.169349</td>\n",
       "      <td>0.420812</td>\n",
       "      <td>0.139516</td>\n",
       "      <td>1.000000</td>\n",
       "      <td>-0.066767</td>\n",
       "      <td>0.249688</td>\n",
       "      <td>0.208761</td>\n",
       "      <td>-0.269801</td>\n",
       "      <td>-0.408792</td>\n",
       "      <td>-0.018399</td>\n",
       "      <td>0.093126</td>\n",
       "      <td>0.148097</td>\n",
       "      <td>0.058082</td>\n",
       "    </tr>\n",
       "    <tr>\n",
       "      <th>Sex</th>\n",
       "      <td>0.076244</td>\n",
       "      <td>0.024152</td>\n",
       "      <td>0.088267</td>\n",
       "      <td>0.007625</td>\n",
       "      <td>-0.000697</td>\n",
       "      <td>-0.037511</td>\n",
       "      <td>-0.098448</td>\n",
       "      <td>-0.066767</td>\n",
       "      <td>1.000000</td>\n",
       "      <td>-0.057604</td>\n",
       "      <td>0.009796</td>\n",
       "      <td>0.044295</td>\n",
       "      <td>0.020358</td>\n",
       "      <td>-0.014616</td>\n",
       "      <td>-0.067705</td>\n",
       "      <td>-0.007009</td>\n",
       "      <td>0.017092</td>\n",
       "    </tr>\n",
       "    <tr>\n",
       "      <th>AgeCategory</th>\n",
       "      <td>0.239128</td>\n",
       "      <td>-0.010356</td>\n",
       "      <td>0.123528</td>\n",
       "      <td>-0.063776</td>\n",
       "      <td>0.141250</td>\n",
       "      <td>0.112077</td>\n",
       "      <td>-0.164690</td>\n",
       "      <td>0.249688</td>\n",
       "      <td>-0.057604</td>\n",
       "      <td>1.000000</td>\n",
       "      <td>0.213927</td>\n",
       "      <td>-0.122877</td>\n",
       "      <td>-0.187702</td>\n",
       "      <td>0.106982</td>\n",
       "      <td>-0.062640</td>\n",
       "      <td>0.126116</td>\n",
       "      <td>0.268041</td>\n",
       "    </tr>\n",
       "    <tr>\n",
       "      <th>Diabetic</th>\n",
       "      <td>0.174328</td>\n",
       "      <td>0.204483</td>\n",
       "      <td>0.048201</td>\n",
       "      <td>-0.067743</td>\n",
       "      <td>0.103038</td>\n",
       "      <td>0.148833</td>\n",
       "      <td>0.016007</td>\n",
       "      <td>0.208761</td>\n",
       "      <td>0.009796</td>\n",
       "      <td>0.213927</td>\n",
       "      <td>1.000000</td>\n",
       "      <td>-0.130164</td>\n",
       "      <td>-0.270461</td>\n",
       "      <td>0.007840</td>\n",
       "      <td>0.038340</td>\n",
       "      <td>0.148124</td>\n",
       "      <td>0.029480</td>\n",
       "    </tr>\n",
       "    <tr>\n",
       "      <th>PhysicalActivity</th>\n",
       "      <td>-0.091274</td>\n",
       "      <td>-0.142871</td>\n",
       "      <td>-0.086464</td>\n",
       "      <td>0.026893</td>\n",
       "      <td>-0.073488</td>\n",
       "      <td>-0.221697</td>\n",
       "      <td>-0.080641</td>\n",
       "      <td>-0.269801</td>\n",
       "      <td>0.044295</td>\n",
       "      <td>-0.122877</td>\n",
       "      <td>-0.130164</td>\n",
       "      <td>1.000000</td>\n",
       "      <td>0.267886</td>\n",
       "      <td>-0.000977</td>\n",
       "      <td>-0.029159</td>\n",
       "      <td>-0.075905</td>\n",
       "      <td>0.007689</td>\n",
       "    </tr>\n",
       "    <tr>\n",
       "      <th>GeneralHealth</th>\n",
       "      <td>-0.236154</td>\n",
       "      <td>-0.218346</td>\n",
       "      <td>-0.159458</td>\n",
       "      <td>0.043776</td>\n",
       "      <td>-0.163327</td>\n",
       "      <td>-0.479633</td>\n",
       "      <td>-0.226317</td>\n",
       "      <td>-0.408792</td>\n",
       "      <td>0.020358</td>\n",
       "      <td>-0.187702</td>\n",
       "      <td>-0.270461</td>\n",
       "      <td>0.267886</td>\n",
       "      <td>1.000000</td>\n",
       "      <td>0.057363</td>\n",
       "      <td>-0.123213</td>\n",
       "      <td>-0.170227</td>\n",
       "      <td>-0.039079</td>\n",
       "    </tr>\n",
       "    <tr>\n",
       "      <th>SleepTime</th>\n",
       "      <td>0.011513</td>\n",
       "      <td>-0.047906</td>\n",
       "      <td>-0.027122</td>\n",
       "      <td>-0.002600</td>\n",
       "      <td>0.014146</td>\n",
       "      <td>-0.057786</td>\n",
       "      <td>-0.116638</td>\n",
       "      <td>-0.018399</td>\n",
       "      <td>-0.014616</td>\n",
       "      <td>0.106982</td>\n",
       "      <td>0.007840</td>\n",
       "      <td>-0.000977</td>\n",
       "      <td>0.057363</td>\n",
       "      <td>1.000000</td>\n",
       "      <td>-0.044818</td>\n",
       "      <td>0.008482</td>\n",
       "      <td>0.044074</td>\n",
       "    </tr>\n",
       "    <tr>\n",
       "      <th>Asthma</th>\n",
       "      <td>0.033567</td>\n",
       "      <td>0.085906</td>\n",
       "      <td>0.014345</td>\n",
       "      <td>-0.009092</td>\n",
       "      <td>0.033519</td>\n",
       "      <td>0.107267</td>\n",
       "      <td>0.102130</td>\n",
       "      <td>0.093126</td>\n",
       "      <td>-0.067705</td>\n",
       "      <td>-0.062640</td>\n",
       "      <td>0.038340</td>\n",
       "      <td>-0.029159</td>\n",
       "      <td>-0.123213</td>\n",
       "      <td>-0.044818</td>\n",
       "      <td>1.000000</td>\n",
       "      <td>0.034408</td>\n",
       "      <td>-0.007513</td>\n",
       "    </tr>\n",
       "    <tr>\n",
       "      <th>KidneyDisease</th>\n",
       "      <td>0.141618</td>\n",
       "      <td>0.046801</td>\n",
       "      <td>0.030263</td>\n",
       "      <td>-0.032304</td>\n",
       "      <td>0.088356</td>\n",
       "      <td>0.136729</td>\n",
       "      <td>0.030197</td>\n",
       "      <td>0.148097</td>\n",
       "      <td>-0.007009</td>\n",
       "      <td>0.126116</td>\n",
       "      <td>0.148124</td>\n",
       "      <td>-0.075905</td>\n",
       "      <td>-0.170227</td>\n",
       "      <td>0.008482</td>\n",
       "      <td>0.034408</td>\n",
       "      <td>1.000000</td>\n",
       "      <td>0.058780</td>\n",
       "    </tr>\n",
       "    <tr>\n",
       "      <th>SkinCancer</th>\n",
       "      <td>0.088855</td>\n",
       "      <td>-0.040199</td>\n",
       "      <td>0.027620</td>\n",
       "      <td>-0.010478</td>\n",
       "      <td>0.044805</td>\n",
       "      <td>0.033990</td>\n",
       "      <td>-0.043547</td>\n",
       "      <td>0.058082</td>\n",
       "      <td>0.017092</td>\n",
       "      <td>0.268041</td>\n",
       "      <td>0.029480</td>\n",
       "      <td>0.007689</td>\n",
       "      <td>-0.039079</td>\n",
       "      <td>0.044074</td>\n",
       "      <td>-0.007513</td>\n",
       "      <td>0.058780</td>\n",
       "      <td>1.000000</td>\n",
       "    </tr>\n",
       "  </tbody>\n",
       "</table>\n",
       "</div>"
      ],
      "text/plain": [
       "                     HeartDisease       BMI   Smoking  AlcoholDrinking  \\\n",
       "HeartDisease             1.000000  0.045626  0.102531        -0.038041   \n",
       "BMI                      0.045626  1.000000  0.012415        -0.045304   \n",
       "Smoking                  0.102531  0.012415  1.000000         0.107650   \n",
       "AlcoholDrinking         -0.038041 -0.045304  0.107650         1.000000   \n",
       "Stroke                   0.193716  0.015183  0.057510        -0.023832   \n",
       "PhysicalHealth           0.162896  0.101802  0.107321        -0.025677   \n",
       "MentalHealth             0.017892  0.054327  0.074859         0.043065   \n",
       "DifficultyInWalking      0.194302  0.175990  0.113054        -0.043477   \n",
       "Sex                      0.076244  0.024152  0.088267         0.007625   \n",
       "AgeCategory              0.239128 -0.010356  0.123528        -0.063776   \n",
       "Diabetic                 0.174328  0.204483  0.048201        -0.067743   \n",
       "PhysicalActivity        -0.091274 -0.142871 -0.086464         0.026893   \n",
       "GeneralHealth           -0.236154 -0.218346 -0.159458         0.043776   \n",
       "SleepTime                0.011513 -0.047906 -0.027122        -0.002600   \n",
       "Asthma                   0.033567  0.085906  0.014345        -0.009092   \n",
       "KidneyDisease            0.141618  0.046801  0.030263        -0.032304   \n",
       "SkinCancer               0.088855 -0.040199  0.027620        -0.010478   \n",
       "\n",
       "                       Stroke  PhysicalHealth  MentalHealth  \\\n",
       "HeartDisease         0.193716        0.162896      0.017892   \n",
       "BMI                  0.015183        0.101802      0.054327   \n",
       "Smoking              0.057510        0.107321      0.074859   \n",
       "AlcoholDrinking     -0.023832       -0.025677      0.043065   \n",
       "Stroke               1.000000        0.131465      0.039442   \n",
       "PhysicalHealth       0.131465        1.000000      0.276652   \n",
       "MentalHealth         0.039442        0.276652      1.000000   \n",
       "DifficultyInWalking  0.169349        0.420812      0.139516   \n",
       "Sex                 -0.000697       -0.037511     -0.098448   \n",
       "AgeCategory          0.141250        0.112077     -0.164690   \n",
       "Diabetic             0.103038        0.148833      0.016007   \n",
       "PhysicalActivity    -0.073488       -0.221697     -0.080641   \n",
       "GeneralHealth       -0.163327       -0.479633     -0.226317   \n",
       "SleepTime            0.014146       -0.057786     -0.116638   \n",
       "Asthma               0.033519        0.107267      0.102130   \n",
       "KidneyDisease        0.088356        0.136729      0.030197   \n",
       "SkinCancer           0.044805        0.033990     -0.043547   \n",
       "\n",
       "                     DifficultyInWalking       Sex  AgeCategory  Diabetic  \\\n",
       "HeartDisease                    0.194302  0.076244     0.239128  0.174328   \n",
       "BMI                             0.175990  0.024152    -0.010356  0.204483   \n",
       "Smoking                         0.113054  0.088267     0.123528  0.048201   \n",
       "AlcoholDrinking                -0.043477  0.007625    -0.063776 -0.067743   \n",
       "Stroke                          0.169349 -0.000697     0.141250  0.103038   \n",
       "PhysicalHealth                  0.420812 -0.037511     0.112077  0.148833   \n",
       "MentalHealth                    0.139516 -0.098448    -0.164690  0.016007   \n",
       "DifficultyInWalking             1.000000 -0.066767     0.249688  0.208761   \n",
       "Sex                            -0.066767  1.000000    -0.057604  0.009796   \n",
       "AgeCategory                     0.249688 -0.057604     1.000000  0.213927   \n",
       "Diabetic                        0.208761  0.009796     0.213927  1.000000   \n",
       "PhysicalActivity               -0.269801  0.044295    -0.122877 -0.130164   \n",
       "GeneralHealth                  -0.408792  0.020358    -0.187702 -0.270461   \n",
       "SleepTime                      -0.018399 -0.014616     0.106982  0.007840   \n",
       "Asthma                          0.093126 -0.067705    -0.062640  0.038340   \n",
       "KidneyDisease                   0.148097 -0.007009     0.126116  0.148124   \n",
       "SkinCancer                      0.058082  0.017092     0.268041  0.029480   \n",
       "\n",
       "                     PhysicalActivity  GeneralHealth  SleepTime    Asthma  \\\n",
       "HeartDisease                -0.091274      -0.236154   0.011513  0.033567   \n",
       "BMI                         -0.142871      -0.218346  -0.047906  0.085906   \n",
       "Smoking                     -0.086464      -0.159458  -0.027122  0.014345   \n",
       "AlcoholDrinking              0.026893       0.043776  -0.002600 -0.009092   \n",
       "Stroke                      -0.073488      -0.163327   0.014146  0.033519   \n",
       "PhysicalHealth              -0.221697      -0.479633  -0.057786  0.107267   \n",
       "MentalHealth                -0.080641      -0.226317  -0.116638  0.102130   \n",
       "DifficultyInWalking         -0.269801      -0.408792  -0.018399  0.093126   \n",
       "Sex                          0.044295       0.020358  -0.014616 -0.067705   \n",
       "AgeCategory                 -0.122877      -0.187702   0.106982 -0.062640   \n",
       "Diabetic                    -0.130164      -0.270461   0.007840  0.038340   \n",
       "PhysicalActivity             1.000000       0.267886  -0.000977 -0.029159   \n",
       "GeneralHealth                0.267886       1.000000   0.057363 -0.123213   \n",
       "SleepTime                   -0.000977       0.057363   1.000000 -0.044818   \n",
       "Asthma                      -0.029159      -0.123213  -0.044818  1.000000   \n",
       "KidneyDisease               -0.075905      -0.170227   0.008482  0.034408   \n",
       "SkinCancer                   0.007689      -0.039079   0.044074 -0.007513   \n",
       "\n",
       "                     KidneyDisease  SkinCancer  \n",
       "HeartDisease              0.141618    0.088855  \n",
       "BMI                       0.046801   -0.040199  \n",
       "Smoking                   0.030263    0.027620  \n",
       "AlcoholDrinking          -0.032304   -0.010478  \n",
       "Stroke                    0.088356    0.044805  \n",
       "PhysicalHealth            0.136729    0.033990  \n",
       "MentalHealth              0.030197   -0.043547  \n",
       "DifficultyInWalking       0.148097    0.058082  \n",
       "Sex                      -0.007009    0.017092  \n",
       "AgeCategory               0.126116    0.268041  \n",
       "Diabetic                  0.148124    0.029480  \n",
       "PhysicalActivity         -0.075905    0.007689  \n",
       "GeneralHealth            -0.170227   -0.039079  \n",
       "SleepTime                 0.008482    0.044074  \n",
       "Asthma                    0.034408   -0.007513  \n",
       "KidneyDisease             1.000000    0.058780  \n",
       "SkinCancer                0.058780    1.000000  "
      ]
     },
     "execution_count": 61,
     "metadata": {},
     "output_type": "execute_result"
    }
   ],
   "source": [
    "df1.corr()"
   ]
  },
  {
   "cell_type": "code",
   "execution_count": 65,
   "id": "7ce899c3-2845-4a8d-8d58-2612c8ba3787",
   "metadata": {},
   "outputs": [
    {
     "data": {
      "image/png": "[encoded data removed]",
      "text/plain": [
       "<Figure size 1440x720 with 2 Axes>"
      ]
     },
     "metadata": {
      "needs_background": "light"
     },
     "output_type": "display_data"
    }
   ],
   "source": [
    "plt.figure(figsize=(20,10))\n",
    "sns.heatmap(df1.corr(),annot=True,cmap='YlGnBu')\n",
    "plt.show()"
   ]
  },
  {
   "cell_type": "code",
   "execution_count": null,
   "id": "b224b043-65fe-42bc-a31c-b0f3f766a90a",
   "metadata": {},
   "outputs": [],
   "source": []
  }
 ],
 "metadata": {
  "kernelspec": {
   "display_name": "Python 3 (ipykernel)",
   "language": "python",
   "name": "python3"
  },
  "language_info": {
   "codemirror_mode": {
    "name": "ipython",
    "version": 3
   },
   "file_extension": ".py",
   "mimetype": "text/x-python",
   "name": "python",
   "nbconvert_exporter": "python",
   "pygments_lexer": "ipython3",
   "version": "3.9.9"
  }
 },
 "nbformat": 4,
 "nbformat_minor": 5
}
